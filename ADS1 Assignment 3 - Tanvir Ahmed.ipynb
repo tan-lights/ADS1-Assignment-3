{
 "cells": [
  {
   "cell_type": "markdown",
   "metadata": {},
   "source": [
    "#### ADS1 Assignment 3\n",
    "\n",
    "**Tanvir Ahmed, 20075186**"
   ]
  },
  {
   "cell_type": "code",
   "execution_count": 1,
   "metadata": {},
   "outputs": [],
   "source": [
    "import numpy as np\n",
    "import pandas as pd\n",
    "import matplotlib.pyplot as plt\n",
    "import seaborn as sns\n",
    "%matplotlib inline"
   ]
  },
  {
   "cell_type": "markdown",
   "metadata": {},
   "source": [
    "#### Using WBGAPI importing World Bank data on climate change"
   ]
  },
  {
   "cell_type": "code",
   "execution_count": 2,
   "metadata": {},
   "outputs": [],
   "source": [
    "import wbgapi as wb         #importing wbgapi as wb \n",
    "\n",
    "# To install this API, please run: pip install wbgapi"
   ]
  },
  {
   "cell_type": "code",
   "execution_count": 3,
   "metadata": {},
   "outputs": [],
   "source": [
    "#             https://data.worldbank.org/indicator/EN.ATM.GHGT.KT.CE\n",
    "\n",
    "# Indicator ID for Total greenhouse gas emissions (kt of CO2 equivalent) is 'EN.ATM.GHGT.KT.CE'\n",
    "\n",
    "greenhouse_emission_ind = 'EN.ATM.GHGT.KT.CE' #assigning the ID to a variable"
   ]
  },
  {
   "cell_type": "code",
   "execution_count": 4,
   "metadata": {},
   "outputs": [],
   "source": [
    "def wb_data(indicator_id, n):\n",
    "    \"\"\"\n",
    "    This function imports data from the World Bank website for the selected\n",
    "    indicator and saves as a dataframe in the World Bank data format and it's transposed format. \n",
    "    The years are between 1950 and 2021 with n years increment.  \n",
    "    Argument = indicator_id as string, n is an integer\n",
    "    \"\"\"\n",
    "    \n",
    "    df = wb.data.DataFrame(indicator_id, time=range(1950, 2021, n))\n",
    "    \n",
    "    df.index.name = 'Country'\n",
    "    df.columns.name = 'Year'\n",
    "    df.columns = df.columns.str.replace(\"YR\",\"\")\n",
    "    \n",
    "    return(df, df.T)"
   ]
  },
  {
   "cell_type": "code",
   "execution_count": 5,
   "metadata": {},
   "outputs": [],
   "source": [
    "df_CO2 = wb_data(greenhouse_emission_ind, 5)"
   ]
  },
  {
   "cell_type": "code",
   "execution_count": 6,
   "metadata": {},
   "outputs": [
    {
     "data": {
      "text/html": [
       "<div>\n",
       "<style scoped>\n",
       "    .dataframe tbody tr th:only-of-type {\n",
       "        vertical-align: middle;\n",
       "    }\n",
       "\n",
       "    .dataframe tbody tr th {\n",
       "        vertical-align: top;\n",
       "    }\n",
       "\n",
       "    .dataframe thead th {\n",
       "        text-align: right;\n",
       "    }\n",
       "</style>\n",
       "<table border=\"1\" class=\"dataframe\">\n",
       "  <thead>\n",
       "    <tr style=\"text-align: right;\">\n",
       "      <th>Year</th>\n",
       "      <th>1960</th>\n",
       "      <th>1965</th>\n",
       "      <th>1970</th>\n",
       "      <th>1975</th>\n",
       "      <th>1980</th>\n",
       "      <th>1985</th>\n",
       "      <th>1990</th>\n",
       "      <th>1995</th>\n",
       "      <th>2000</th>\n",
       "      <th>2005</th>\n",
       "      <th>2010</th>\n",
       "      <th>2015</th>\n",
       "      <th>2020</th>\n",
       "    </tr>\n",
       "    <tr>\n",
       "      <th>Country</th>\n",
       "      <th></th>\n",
       "      <th></th>\n",
       "      <th></th>\n",
       "      <th></th>\n",
       "      <th></th>\n",
       "      <th></th>\n",
       "      <th></th>\n",
       "      <th></th>\n",
       "      <th></th>\n",
       "      <th></th>\n",
       "      <th></th>\n",
       "      <th></th>\n",
       "      <th></th>\n",
       "    </tr>\n",
       "  </thead>\n",
       "  <tbody>\n",
       "    <tr>\n",
       "      <th>ABW</th>\n",
       "      <td>NaN</td>\n",
       "      <td>NaN</td>\n",
       "      <td>NaN</td>\n",
       "      <td>NaN</td>\n",
       "      <td>NaN</td>\n",
       "      <td>NaN</td>\n",
       "      <td>NaN</td>\n",
       "      <td>NaN</td>\n",
       "      <td>NaN</td>\n",
       "      <td>NaN</td>\n",
       "      <td>NaN</td>\n",
       "      <td>NaN</td>\n",
       "      <td>NaN</td>\n",
       "    </tr>\n",
       "    <tr>\n",
       "      <th>AFE</th>\n",
       "      <td>NaN</td>\n",
       "      <td>NaN</td>\n",
       "      <td>2.512439e+06</td>\n",
       "      <td>1.908922e+06</td>\n",
       "      <td>2.213255e+06</td>\n",
       "      <td>1.559561e+06</td>\n",
       "      <td>838050.0</td>\n",
       "      <td>895540.0</td>\n",
       "      <td>948360.0</td>\n",
       "      <td>1154760.0</td>\n",
       "      <td>1335490.0</td>\n",
       "      <td>1436770.0</td>\n",
       "      <td>NaN</td>\n",
       "    </tr>\n",
       "    <tr>\n",
       "      <th>AFG</th>\n",
       "      <td>NaN</td>\n",
       "      <td>NaN</td>\n",
       "      <td>NaN</td>\n",
       "      <td>NaN</td>\n",
       "      <td>NaN</td>\n",
       "      <td>NaN</td>\n",
       "      <td>15180.0</td>\n",
       "      <td>13480.0</td>\n",
       "      <td>15080.0</td>\n",
       "      <td>17400.0</td>\n",
       "      <td>44910.0</td>\n",
       "      <td>93730.0</td>\n",
       "      <td>NaN</td>\n",
       "    </tr>\n",
       "    <tr>\n",
       "      <th>AFW</th>\n",
       "      <td>NaN</td>\n",
       "      <td>NaN</td>\n",
       "      <td>6.327455e+05</td>\n",
       "      <td>6.007661e+05</td>\n",
       "      <td>8.132658e+05</td>\n",
       "      <td>6.818932e+05</td>\n",
       "      <td>398170.0</td>\n",
       "      <td>526710.0</td>\n",
       "      <td>553740.0</td>\n",
       "      <td>650720.0</td>\n",
       "      <td>690440.0</td>\n",
       "      <td>805370.0</td>\n",
       "      <td>NaN</td>\n",
       "    </tr>\n",
       "    <tr>\n",
       "      <th>AGO</th>\n",
       "      <td>NaN</td>\n",
       "      <td>NaN</td>\n",
       "      <td>NaN</td>\n",
       "      <td>NaN</td>\n",
       "      <td>NaN</td>\n",
       "      <td>NaN</td>\n",
       "      <td>42180.0</td>\n",
       "      <td>48460.0</td>\n",
       "      <td>49590.0</td>\n",
       "      <td>67230.0</td>\n",
       "      <td>84120.0</td>\n",
       "      <td>90620.0</td>\n",
       "      <td>NaN</td>\n",
       "    </tr>\n",
       "  </tbody>\n",
       "</table>\n",
       "</div>"
      ],
      "text/plain": [
       "Year     1960  1965          1970          1975          1980          1985  \\\n",
       "Country                                                                       \n",
       "ABW       NaN   NaN           NaN           NaN           NaN           NaN   \n",
       "AFE       NaN   NaN  2.512439e+06  1.908922e+06  2.213255e+06  1.559561e+06   \n",
       "AFG       NaN   NaN           NaN           NaN           NaN           NaN   \n",
       "AFW       NaN   NaN  6.327455e+05  6.007661e+05  8.132658e+05  6.818932e+05   \n",
       "AGO       NaN   NaN           NaN           NaN           NaN           NaN   \n",
       "\n",
       "Year         1990      1995      2000       2005       2010       2015  2020  \n",
       "Country                                                                       \n",
       "ABW           NaN       NaN       NaN        NaN        NaN        NaN   NaN  \n",
       "AFE      838050.0  895540.0  948360.0  1154760.0  1335490.0  1436770.0   NaN  \n",
       "AFG       15180.0   13480.0   15080.0    17400.0    44910.0    93730.0   NaN  \n",
       "AFW      398170.0  526710.0  553740.0   650720.0   690440.0   805370.0   NaN  \n",
       "AGO       42180.0   48460.0   49590.0    67230.0    84120.0    90620.0   NaN  "
      ]
     },
     "execution_count": 6,
     "metadata": {},
     "output_type": "execute_result"
    }
   ],
   "source": [
    "df_CO2[0].head(5) # The first dataframe in the World Bank format"
   ]
  },
  {
   "cell_type": "code",
   "execution_count": 7,
   "metadata": {
    "scrolled": true
   },
   "outputs": [
    {
     "data": {
      "text/html": [
       "<div>\n",
       "<style scoped>\n",
       "    .dataframe tbody tr th:only-of-type {\n",
       "        vertical-align: middle;\n",
       "    }\n",
       "\n",
       "    .dataframe tbody tr th {\n",
       "        vertical-align: top;\n",
       "    }\n",
       "\n",
       "    .dataframe thead th {\n",
       "        text-align: right;\n",
       "    }\n",
       "</style>\n",
       "<table border=\"1\" class=\"dataframe\">\n",
       "  <thead>\n",
       "    <tr style=\"text-align: right;\">\n",
       "      <th>Country</th>\n",
       "      <th>ABW</th>\n",
       "      <th>AFE</th>\n",
       "      <th>AFG</th>\n",
       "      <th>AFW</th>\n",
       "      <th>AGO</th>\n",
       "      <th>ALB</th>\n",
       "      <th>AND</th>\n",
       "      <th>ARB</th>\n",
       "      <th>ARE</th>\n",
       "      <th>ARG</th>\n",
       "      <th>...</th>\n",
       "      <th>VIR</th>\n",
       "      <th>VNM</th>\n",
       "      <th>VUT</th>\n",
       "      <th>WLD</th>\n",
       "      <th>WSM</th>\n",
       "      <th>XKX</th>\n",
       "      <th>YEM</th>\n",
       "      <th>ZAF</th>\n",
       "      <th>ZMB</th>\n",
       "      <th>ZWE</th>\n",
       "    </tr>\n",
       "    <tr>\n",
       "      <th>Year</th>\n",
       "      <th></th>\n",
       "      <th></th>\n",
       "      <th></th>\n",
       "      <th></th>\n",
       "      <th></th>\n",
       "      <th></th>\n",
       "      <th></th>\n",
       "      <th></th>\n",
       "      <th></th>\n",
       "      <th></th>\n",
       "      <th></th>\n",
       "      <th></th>\n",
       "      <th></th>\n",
       "      <th></th>\n",
       "      <th></th>\n",
       "      <th></th>\n",
       "      <th></th>\n",
       "      <th></th>\n",
       "      <th></th>\n",
       "      <th></th>\n",
       "      <th></th>\n",
       "    </tr>\n",
       "  </thead>\n",
       "  <tbody>\n",
       "    <tr>\n",
       "      <th>1960</th>\n",
       "      <td>NaN</td>\n",
       "      <td>NaN</td>\n",
       "      <td>NaN</td>\n",
       "      <td>NaN</td>\n",
       "      <td>NaN</td>\n",
       "      <td>NaN</td>\n",
       "      <td>NaN</td>\n",
       "      <td>NaN</td>\n",
       "      <td>NaN</td>\n",
       "      <td>NaN</td>\n",
       "      <td>...</td>\n",
       "      <td>NaN</td>\n",
       "      <td>NaN</td>\n",
       "      <td>NaN</td>\n",
       "      <td>NaN</td>\n",
       "      <td>NaN</td>\n",
       "      <td>NaN</td>\n",
       "      <td>NaN</td>\n",
       "      <td>NaN</td>\n",
       "      <td>NaN</td>\n",
       "      <td>NaN</td>\n",
       "    </tr>\n",
       "    <tr>\n",
       "      <th>1965</th>\n",
       "      <td>NaN</td>\n",
       "      <td>NaN</td>\n",
       "      <td>NaN</td>\n",
       "      <td>NaN</td>\n",
       "      <td>NaN</td>\n",
       "      <td>NaN</td>\n",
       "      <td>NaN</td>\n",
       "      <td>NaN</td>\n",
       "      <td>NaN</td>\n",
       "      <td>NaN</td>\n",
       "      <td>...</td>\n",
       "      <td>NaN</td>\n",
       "      <td>NaN</td>\n",
       "      <td>NaN</td>\n",
       "      <td>NaN</td>\n",
       "      <td>NaN</td>\n",
       "      <td>NaN</td>\n",
       "      <td>NaN</td>\n",
       "      <td>NaN</td>\n",
       "      <td>NaN</td>\n",
       "      <td>NaN</td>\n",
       "    </tr>\n",
       "    <tr>\n",
       "      <th>1970</th>\n",
       "      <td>NaN</td>\n",
       "      <td>2.512439e+06</td>\n",
       "      <td>NaN</td>\n",
       "      <td>632745.499853</td>\n",
       "      <td>NaN</td>\n",
       "      <td>NaN</td>\n",
       "      <td>NaN</td>\n",
       "      <td>552362.062026</td>\n",
       "      <td>NaN</td>\n",
       "      <td>NaN</td>\n",
       "      <td>...</td>\n",
       "      <td>NaN</td>\n",
       "      <td>NaN</td>\n",
       "      <td>NaN</td>\n",
       "      <td>2.705717e+07</td>\n",
       "      <td>NaN</td>\n",
       "      <td>NaN</td>\n",
       "      <td>NaN</td>\n",
       "      <td>NaN</td>\n",
       "      <td>NaN</td>\n",
       "      <td>NaN</td>\n",
       "    </tr>\n",
       "    <tr>\n",
       "      <th>1975</th>\n",
       "      <td>NaN</td>\n",
       "      <td>1.908922e+06</td>\n",
       "      <td>NaN</td>\n",
       "      <td>600766.122089</td>\n",
       "      <td>NaN</td>\n",
       "      <td>NaN</td>\n",
       "      <td>NaN</td>\n",
       "      <td>683966.235399</td>\n",
       "      <td>NaN</td>\n",
       "      <td>NaN</td>\n",
       "      <td>...</td>\n",
       "      <td>NaN</td>\n",
       "      <td>NaN</td>\n",
       "      <td>NaN</td>\n",
       "      <td>2.824575e+07</td>\n",
       "      <td>NaN</td>\n",
       "      <td>NaN</td>\n",
       "      <td>NaN</td>\n",
       "      <td>NaN</td>\n",
       "      <td>NaN</td>\n",
       "      <td>NaN</td>\n",
       "    </tr>\n",
       "    <tr>\n",
       "      <th>1980</th>\n",
       "      <td>NaN</td>\n",
       "      <td>2.213255e+06</td>\n",
       "      <td>NaN</td>\n",
       "      <td>813265.777979</td>\n",
       "      <td>NaN</td>\n",
       "      <td>NaN</td>\n",
       "      <td>NaN</td>\n",
       "      <td>927714.236940</td>\n",
       "      <td>NaN</td>\n",
       "      <td>NaN</td>\n",
       "      <td>...</td>\n",
       "      <td>NaN</td>\n",
       "      <td>NaN</td>\n",
       "      <td>NaN</td>\n",
       "      <td>3.279410e+07</td>\n",
       "      <td>NaN</td>\n",
       "      <td>NaN</td>\n",
       "      <td>NaN</td>\n",
       "      <td>NaN</td>\n",
       "      <td>NaN</td>\n",
       "      <td>NaN</td>\n",
       "    </tr>\n",
       "  </tbody>\n",
       "</table>\n",
       "<p>5 rows × 266 columns</p>\n",
       "</div>"
      ],
      "text/plain": [
       "Country  ABW           AFE  AFG            AFW  AGO  ALB  AND            ARB  \\\n",
       "Year                                                                           \n",
       "1960     NaN           NaN  NaN            NaN  NaN  NaN  NaN            NaN   \n",
       "1965     NaN           NaN  NaN            NaN  NaN  NaN  NaN            NaN   \n",
       "1970     NaN  2.512439e+06  NaN  632745.499853  NaN  NaN  NaN  552362.062026   \n",
       "1975     NaN  1.908922e+06  NaN  600766.122089  NaN  NaN  NaN  683966.235399   \n",
       "1980     NaN  2.213255e+06  NaN  813265.777979  NaN  NaN  NaN  927714.236940   \n",
       "\n",
       "Country  ARE  ARG  ...  VIR  VNM  VUT           WLD  WSM  XKX  YEM  ZAF  ZMB  \\\n",
       "Year               ...                                                         \n",
       "1960     NaN  NaN  ...  NaN  NaN  NaN           NaN  NaN  NaN  NaN  NaN  NaN   \n",
       "1965     NaN  NaN  ...  NaN  NaN  NaN           NaN  NaN  NaN  NaN  NaN  NaN   \n",
       "1970     NaN  NaN  ...  NaN  NaN  NaN  2.705717e+07  NaN  NaN  NaN  NaN  NaN   \n",
       "1975     NaN  NaN  ...  NaN  NaN  NaN  2.824575e+07  NaN  NaN  NaN  NaN  NaN   \n",
       "1980     NaN  NaN  ...  NaN  NaN  NaN  3.279410e+07  NaN  NaN  NaN  NaN  NaN   \n",
       "\n",
       "Country  ZWE  \n",
       "Year          \n",
       "1960     NaN  \n",
       "1965     NaN  \n",
       "1970     NaN  \n",
       "1975     NaN  \n",
       "1980     NaN  \n",
       "\n",
       "[5 rows x 266 columns]"
      ]
     },
     "execution_count": 7,
     "metadata": {},
     "output_type": "execute_result"
    }
   ],
   "source": [
    "df_CO2[1].head(5) # The second dataframe with countries as columns"
   ]
  },
  {
   "cell_type": "code",
   "execution_count": 8,
   "metadata": {
    "scrolled": false
   },
   "outputs": [
    {
     "data": {
      "text/html": [
       "<div>\n",
       "<style scoped>\n",
       "    .dataframe tbody tr th:only-of-type {\n",
       "        vertical-align: middle;\n",
       "    }\n",
       "\n",
       "    .dataframe tbody tr th {\n",
       "        vertical-align: top;\n",
       "    }\n",
       "\n",
       "    .dataframe thead th {\n",
       "        text-align: right;\n",
       "    }\n",
       "</style>\n",
       "<table border=\"1\" class=\"dataframe\">\n",
       "  <thead>\n",
       "    <tr style=\"text-align: right;\">\n",
       "      <th></th>\n",
       "      <th>Country Name</th>\n",
       "      <th>Country Code</th>\n",
       "    </tr>\n",
       "  </thead>\n",
       "  <tbody>\n",
       "    <tr>\n",
       "      <th>0</th>\n",
       "      <td>Aruba</td>\n",
       "      <td>ABW</td>\n",
       "    </tr>\n",
       "    <tr>\n",
       "      <th>1</th>\n",
       "      <td>Africa Eastern and Southern</td>\n",
       "      <td>AFE</td>\n",
       "    </tr>\n",
       "    <tr>\n",
       "      <th>2</th>\n",
       "      <td>Afghanistan</td>\n",
       "      <td>AFG</td>\n",
       "    </tr>\n",
       "    <tr>\n",
       "      <th>3</th>\n",
       "      <td>Africa Western and Central</td>\n",
       "      <td>AFW</td>\n",
       "    </tr>\n",
       "    <tr>\n",
       "      <th>4</th>\n",
       "      <td>Angola</td>\n",
       "      <td>AGO</td>\n",
       "    </tr>\n",
       "  </tbody>\n",
       "</table>\n",
       "</div>"
      ],
      "text/plain": [
       "                  Country Name Country Code\n",
       "0                        Aruba          ABW\n",
       "1  Africa Eastern and Southern          AFE\n",
       "2                  Afghanistan          AFG\n",
       "3   Africa Western and Central          AFW\n",
       "4                       Angola          AGO"
      ]
     },
     "execution_count": 8,
     "metadata": {},
     "output_type": "execute_result"
    }
   ],
   "source": [
    "# The country codes in the dataframes don't make proper sense we need to reset the index with proper country names\n",
    "\n",
    "# The url below contains the country names with their respective codes\n",
    "\n",
    "url = 'https://docs.google.com/spreadsheets/d/1-HxLssAd2glfU40FWuccMw8758zrJyon6H6qkMjLeZU/edit#gid=0'\n",
    "\n",
    "url_readable = url.replace('/edit#gid=', '/export?format=csv&gid=')\n",
    "\n",
    "country_names = pd.read_csv(url_readable)\n",
    "\n",
    "country_names.head()"
   ]
  },
  {
   "cell_type": "code",
   "execution_count": 9,
   "metadata": {},
   "outputs": [],
   "source": [
    "def country_code_to_name(df):\n",
    "    \"\"\"\n",
    "    Takes in a dataframe with  country codes as index and \n",
    "    changes the index to country names.\n",
    "    \"\"\"\n",
    "    df.index = country_names['Country Name']\n",
    "    \n",
    "    return(df)"
   ]
  },
  {
   "cell_type": "code",
   "execution_count": 10,
   "metadata": {
    "scrolled": true
   },
   "outputs": [
    {
     "data": {
      "text/html": [
       "<div>\n",
       "<style scoped>\n",
       "    .dataframe tbody tr th:only-of-type {\n",
       "        vertical-align: middle;\n",
       "    }\n",
       "\n",
       "    .dataframe tbody tr th {\n",
       "        vertical-align: top;\n",
       "    }\n",
       "\n",
       "    .dataframe thead th {\n",
       "        text-align: right;\n",
       "    }\n",
       "</style>\n",
       "<table border=\"1\" class=\"dataframe\">\n",
       "  <thead>\n",
       "    <tr style=\"text-align: right;\">\n",
       "      <th>Year</th>\n",
       "      <th>1960</th>\n",
       "      <th>1965</th>\n",
       "      <th>1970</th>\n",
       "      <th>1975</th>\n",
       "      <th>1980</th>\n",
       "      <th>1985</th>\n",
       "      <th>1990</th>\n",
       "      <th>1995</th>\n",
       "      <th>2000</th>\n",
       "      <th>2005</th>\n",
       "      <th>2010</th>\n",
       "      <th>2015</th>\n",
       "      <th>2020</th>\n",
       "    </tr>\n",
       "    <tr>\n",
       "      <th>Country Name</th>\n",
       "      <th></th>\n",
       "      <th></th>\n",
       "      <th></th>\n",
       "      <th></th>\n",
       "      <th></th>\n",
       "      <th></th>\n",
       "      <th></th>\n",
       "      <th></th>\n",
       "      <th></th>\n",
       "      <th></th>\n",
       "      <th></th>\n",
       "      <th></th>\n",
       "      <th></th>\n",
       "    </tr>\n",
       "  </thead>\n",
       "  <tbody>\n",
       "    <tr>\n",
       "      <th>Aruba</th>\n",
       "      <td>NaN</td>\n",
       "      <td>NaN</td>\n",
       "      <td>NaN</td>\n",
       "      <td>NaN</td>\n",
       "      <td>NaN</td>\n",
       "      <td>NaN</td>\n",
       "      <td>NaN</td>\n",
       "      <td>NaN</td>\n",
       "      <td>NaN</td>\n",
       "      <td>NaN</td>\n",
       "      <td>NaN</td>\n",
       "      <td>NaN</td>\n",
       "      <td>NaN</td>\n",
       "    </tr>\n",
       "    <tr>\n",
       "      <th>Africa Eastern and Southern</th>\n",
       "      <td>NaN</td>\n",
       "      <td>NaN</td>\n",
       "      <td>2.512439e+06</td>\n",
       "      <td>1.908922e+06</td>\n",
       "      <td>2.213255e+06</td>\n",
       "      <td>1.559561e+06</td>\n",
       "      <td>838050.0</td>\n",
       "      <td>895540.0</td>\n",
       "      <td>948360.0</td>\n",
       "      <td>1154760.0</td>\n",
       "      <td>1335490.0</td>\n",
       "      <td>1436770.0</td>\n",
       "      <td>NaN</td>\n",
       "    </tr>\n",
       "    <tr>\n",
       "      <th>Afghanistan</th>\n",
       "      <td>NaN</td>\n",
       "      <td>NaN</td>\n",
       "      <td>NaN</td>\n",
       "      <td>NaN</td>\n",
       "      <td>NaN</td>\n",
       "      <td>NaN</td>\n",
       "      <td>15180.0</td>\n",
       "      <td>13480.0</td>\n",
       "      <td>15080.0</td>\n",
       "      <td>17400.0</td>\n",
       "      <td>44910.0</td>\n",
       "      <td>93730.0</td>\n",
       "      <td>NaN</td>\n",
       "    </tr>\n",
       "    <tr>\n",
       "      <th>Africa Western and Central</th>\n",
       "      <td>NaN</td>\n",
       "      <td>NaN</td>\n",
       "      <td>6.327455e+05</td>\n",
       "      <td>6.007661e+05</td>\n",
       "      <td>8.132658e+05</td>\n",
       "      <td>6.818932e+05</td>\n",
       "      <td>398170.0</td>\n",
       "      <td>526710.0</td>\n",
       "      <td>553740.0</td>\n",
       "      <td>650720.0</td>\n",
       "      <td>690440.0</td>\n",
       "      <td>805370.0</td>\n",
       "      <td>NaN</td>\n",
       "    </tr>\n",
       "    <tr>\n",
       "      <th>Angola</th>\n",
       "      <td>NaN</td>\n",
       "      <td>NaN</td>\n",
       "      <td>NaN</td>\n",
       "      <td>NaN</td>\n",
       "      <td>NaN</td>\n",
       "      <td>NaN</td>\n",
       "      <td>42180.0</td>\n",
       "      <td>48460.0</td>\n",
       "      <td>49590.0</td>\n",
       "      <td>67230.0</td>\n",
       "      <td>84120.0</td>\n",
       "      <td>90620.0</td>\n",
       "      <td>NaN</td>\n",
       "    </tr>\n",
       "  </tbody>\n",
       "</table>\n",
       "</div>"
      ],
      "text/plain": [
       "Year                         1960  1965          1970          1975  \\\n",
       "Country Name                                                          \n",
       "Aruba                         NaN   NaN           NaN           NaN   \n",
       "Africa Eastern and Southern   NaN   NaN  2.512439e+06  1.908922e+06   \n",
       "Afghanistan                   NaN   NaN           NaN           NaN   \n",
       "Africa Western and Central    NaN   NaN  6.327455e+05  6.007661e+05   \n",
       "Angola                        NaN   NaN           NaN           NaN   \n",
       "\n",
       "Year                                 1980          1985      1990      1995  \\\n",
       "Country Name                                                                  \n",
       "Aruba                                 NaN           NaN       NaN       NaN   \n",
       "Africa Eastern and Southern  2.213255e+06  1.559561e+06  838050.0  895540.0   \n",
       "Afghanistan                           NaN           NaN   15180.0   13480.0   \n",
       "Africa Western and Central   8.132658e+05  6.818932e+05  398170.0  526710.0   \n",
       "Angola                                NaN           NaN   42180.0   48460.0   \n",
       "\n",
       "Year                             2000       2005       2010       2015  2020  \n",
       "Country Name                                                                  \n",
       "Aruba                             NaN        NaN        NaN        NaN   NaN  \n",
       "Africa Eastern and Southern  948360.0  1154760.0  1335490.0  1436770.0   NaN  \n",
       "Afghanistan                   15080.0    17400.0    44910.0    93730.0   NaN  \n",
       "Africa Western and Central   553740.0   650720.0   690440.0   805370.0   NaN  \n",
       "Angola                        49590.0    67230.0    84120.0    90620.0   NaN  "
      ]
     },
     "execution_count": 10,
     "metadata": {},
     "output_type": "execute_result"
    }
   ],
   "source": [
    "country_code_to_name(df_CO2[0])\n",
    "\n",
    "df_CO2[0].head(5)"
   ]
  },
  {
   "cell_type": "code",
   "execution_count": 11,
   "metadata": {
    "scrolled": true
   },
   "outputs": [
    {
     "data": {
      "text/html": [
       "<div>\n",
       "<style scoped>\n",
       "    .dataframe tbody tr th:only-of-type {\n",
       "        vertical-align: middle;\n",
       "    }\n",
       "\n",
       "    .dataframe tbody tr th {\n",
       "        vertical-align: top;\n",
       "    }\n",
       "\n",
       "    .dataframe thead th {\n",
       "        text-align: right;\n",
       "    }\n",
       "</style>\n",
       "<table border=\"1\" class=\"dataframe\">\n",
       "  <thead>\n",
       "    <tr style=\"text-align: right;\">\n",
       "      <th>Country Name</th>\n",
       "      <th>Aruba</th>\n",
       "      <th>Africa Eastern and Southern</th>\n",
       "      <th>Afghanistan</th>\n",
       "      <th>Africa Western and Central</th>\n",
       "      <th>Angola</th>\n",
       "      <th>Albania</th>\n",
       "      <th>Andorra</th>\n",
       "      <th>Arab World</th>\n",
       "      <th>United Arab Emirates</th>\n",
       "      <th>Argentina</th>\n",
       "      <th>...</th>\n",
       "      <th>Virgin Islands (U.S.)</th>\n",
       "      <th>Vietnam</th>\n",
       "      <th>Vanuatu</th>\n",
       "      <th>World</th>\n",
       "      <th>Samoa</th>\n",
       "      <th>Kosovo</th>\n",
       "      <th>Yemen, Rep.</th>\n",
       "      <th>South Africa</th>\n",
       "      <th>Zambia</th>\n",
       "      <th>Zimbabwe</th>\n",
       "    </tr>\n",
       "    <tr>\n",
       "      <th>Year</th>\n",
       "      <th></th>\n",
       "      <th></th>\n",
       "      <th></th>\n",
       "      <th></th>\n",
       "      <th></th>\n",
       "      <th></th>\n",
       "      <th></th>\n",
       "      <th></th>\n",
       "      <th></th>\n",
       "      <th></th>\n",
       "      <th></th>\n",
       "      <th></th>\n",
       "      <th></th>\n",
       "      <th></th>\n",
       "      <th></th>\n",
       "      <th></th>\n",
       "      <th></th>\n",
       "      <th></th>\n",
       "      <th></th>\n",
       "      <th></th>\n",
       "      <th></th>\n",
       "    </tr>\n",
       "  </thead>\n",
       "  <tbody>\n",
       "    <tr>\n",
       "      <th>1960</th>\n",
       "      <td>NaN</td>\n",
       "      <td>NaN</td>\n",
       "      <td>NaN</td>\n",
       "      <td>NaN</td>\n",
       "      <td>NaN</td>\n",
       "      <td>NaN</td>\n",
       "      <td>NaN</td>\n",
       "      <td>NaN</td>\n",
       "      <td>NaN</td>\n",
       "      <td>NaN</td>\n",
       "      <td>...</td>\n",
       "      <td>NaN</td>\n",
       "      <td>NaN</td>\n",
       "      <td>NaN</td>\n",
       "      <td>NaN</td>\n",
       "      <td>NaN</td>\n",
       "      <td>NaN</td>\n",
       "      <td>NaN</td>\n",
       "      <td>NaN</td>\n",
       "      <td>NaN</td>\n",
       "      <td>NaN</td>\n",
       "    </tr>\n",
       "    <tr>\n",
       "      <th>1965</th>\n",
       "      <td>NaN</td>\n",
       "      <td>NaN</td>\n",
       "      <td>NaN</td>\n",
       "      <td>NaN</td>\n",
       "      <td>NaN</td>\n",
       "      <td>NaN</td>\n",
       "      <td>NaN</td>\n",
       "      <td>NaN</td>\n",
       "      <td>NaN</td>\n",
       "      <td>NaN</td>\n",
       "      <td>...</td>\n",
       "      <td>NaN</td>\n",
       "      <td>NaN</td>\n",
       "      <td>NaN</td>\n",
       "      <td>NaN</td>\n",
       "      <td>NaN</td>\n",
       "      <td>NaN</td>\n",
       "      <td>NaN</td>\n",
       "      <td>NaN</td>\n",
       "      <td>NaN</td>\n",
       "      <td>NaN</td>\n",
       "    </tr>\n",
       "    <tr>\n",
       "      <th>1970</th>\n",
       "      <td>NaN</td>\n",
       "      <td>2.512439e+06</td>\n",
       "      <td>NaN</td>\n",
       "      <td>632745.499853</td>\n",
       "      <td>NaN</td>\n",
       "      <td>NaN</td>\n",
       "      <td>NaN</td>\n",
       "      <td>552362.062026</td>\n",
       "      <td>NaN</td>\n",
       "      <td>NaN</td>\n",
       "      <td>...</td>\n",
       "      <td>NaN</td>\n",
       "      <td>NaN</td>\n",
       "      <td>NaN</td>\n",
       "      <td>2.705717e+07</td>\n",
       "      <td>NaN</td>\n",
       "      <td>NaN</td>\n",
       "      <td>NaN</td>\n",
       "      <td>NaN</td>\n",
       "      <td>NaN</td>\n",
       "      <td>NaN</td>\n",
       "    </tr>\n",
       "    <tr>\n",
       "      <th>1975</th>\n",
       "      <td>NaN</td>\n",
       "      <td>1.908922e+06</td>\n",
       "      <td>NaN</td>\n",
       "      <td>600766.122089</td>\n",
       "      <td>NaN</td>\n",
       "      <td>NaN</td>\n",
       "      <td>NaN</td>\n",
       "      <td>683966.235399</td>\n",
       "      <td>NaN</td>\n",
       "      <td>NaN</td>\n",
       "      <td>...</td>\n",
       "      <td>NaN</td>\n",
       "      <td>NaN</td>\n",
       "      <td>NaN</td>\n",
       "      <td>2.824575e+07</td>\n",
       "      <td>NaN</td>\n",
       "      <td>NaN</td>\n",
       "      <td>NaN</td>\n",
       "      <td>NaN</td>\n",
       "      <td>NaN</td>\n",
       "      <td>NaN</td>\n",
       "    </tr>\n",
       "    <tr>\n",
       "      <th>1980</th>\n",
       "      <td>NaN</td>\n",
       "      <td>2.213255e+06</td>\n",
       "      <td>NaN</td>\n",
       "      <td>813265.777979</td>\n",
       "      <td>NaN</td>\n",
       "      <td>NaN</td>\n",
       "      <td>NaN</td>\n",
       "      <td>927714.236940</td>\n",
       "      <td>NaN</td>\n",
       "      <td>NaN</td>\n",
       "      <td>...</td>\n",
       "      <td>NaN</td>\n",
       "      <td>NaN</td>\n",
       "      <td>NaN</td>\n",
       "      <td>3.279410e+07</td>\n",
       "      <td>NaN</td>\n",
       "      <td>NaN</td>\n",
       "      <td>NaN</td>\n",
       "      <td>NaN</td>\n",
       "      <td>NaN</td>\n",
       "      <td>NaN</td>\n",
       "    </tr>\n",
       "  </tbody>\n",
       "</table>\n",
       "<p>5 rows × 266 columns</p>\n",
       "</div>"
      ],
      "text/plain": [
       "Country Name  Aruba  Africa Eastern and Southern  Afghanistan  \\\n",
       "Year                                                            \n",
       "1960            NaN                          NaN          NaN   \n",
       "1965            NaN                          NaN          NaN   \n",
       "1970            NaN                 2.512439e+06          NaN   \n",
       "1975            NaN                 1.908922e+06          NaN   \n",
       "1980            NaN                 2.213255e+06          NaN   \n",
       "\n",
       "Country Name  Africa Western and Central  Angola  Albania  Andorra  \\\n",
       "Year                                                                 \n",
       "1960                                 NaN     NaN      NaN      NaN   \n",
       "1965                                 NaN     NaN      NaN      NaN   \n",
       "1970                       632745.499853     NaN      NaN      NaN   \n",
       "1975                       600766.122089     NaN      NaN      NaN   \n",
       "1980                       813265.777979     NaN      NaN      NaN   \n",
       "\n",
       "Country Name     Arab World  United Arab Emirates  Argentina  ...  \\\n",
       "Year                                                          ...   \n",
       "1960                    NaN                   NaN        NaN  ...   \n",
       "1965                    NaN                   NaN        NaN  ...   \n",
       "1970          552362.062026                   NaN        NaN  ...   \n",
       "1975          683966.235399                   NaN        NaN  ...   \n",
       "1980          927714.236940                   NaN        NaN  ...   \n",
       "\n",
       "Country Name  Virgin Islands (U.S.)  Vietnam  Vanuatu         World  Samoa  \\\n",
       "Year                                                                         \n",
       "1960                            NaN      NaN      NaN           NaN    NaN   \n",
       "1965                            NaN      NaN      NaN           NaN    NaN   \n",
       "1970                            NaN      NaN      NaN  2.705717e+07    NaN   \n",
       "1975                            NaN      NaN      NaN  2.824575e+07    NaN   \n",
       "1980                            NaN      NaN      NaN  3.279410e+07    NaN   \n",
       "\n",
       "Country Name  Kosovo  Yemen, Rep.  South Africa  Zambia  Zimbabwe  \n",
       "Year                                                               \n",
       "1960             NaN          NaN           NaN     NaN       NaN  \n",
       "1965             NaN          NaN           NaN     NaN       NaN  \n",
       "1970             NaN          NaN           NaN     NaN       NaN  \n",
       "1975             NaN          NaN           NaN     NaN       NaN  \n",
       "1980             NaN          NaN           NaN     NaN       NaN  \n",
       "\n",
       "[5 rows x 266 columns]"
      ]
     },
     "execution_count": 11,
     "metadata": {},
     "output_type": "execute_result"
    }
   ],
   "source": [
    "df_CO2[1].columns = country_names['Country Name']\n",
    "df_CO2[1].head(5)"
   ]
  },
  {
   "cell_type": "code",
   "execution_count": 12,
   "metadata": {},
   "outputs": [],
   "source": [
    "countries_of_interest = ['Bangladesh', 'Brazil', 'Canada', 'China', 'Ecuador', 'France', 'India', \n",
    "                         'Nigeria', 'Russia', 'South Africa', 'Sweden', 'United Kingdom', 'United States']"
   ]
  },
  {
   "cell_type": "code",
   "execution_count": 13,
   "metadata": {},
   "outputs": [],
   "source": [
    "# China, United States, India, Russia and Brazil are the most CO2 producing countries from the list."
   ]
  },
  {
   "cell_type": "code",
   "execution_count": 14,
   "metadata": {},
   "outputs": [],
   "source": [
    "# Constructing a dataframe with climate change indicators of interest for the listed countries.\n",
    "\n",
    "total_pop = 'SP.POP.TOTL'             # Total population\n",
    "\n",
    "rural_pop = 'SP.RUR.TOTL.ZS'          # Rural population (% of total population)\n",
    "\n",
    "urban_pop = 'SP.URB.TOTL.IN.ZS'       # Urban population (% of total population)\n",
    "\n",
    "forest_area = 'AG.LND.FRST.ZS'        # Forest area (% of land area)\n",
    "\n",
    "arable_land = 'AG.LND.ARBL.ZS'        # Arable land (% of land area)\n",
    "\n",
    "manufacturing = 'NV.IND.MANF.ZS'      # Manufacturing, value added (% of GDP)\n",
    "\n",
    "gdp = 'NY.GDP.MKTP.CD'                # Total GDP (current USD)  \n",
    "\n",
    "elec_consump = 'EG.USE.ELEC.KH.PC'    # Electric power consumption (kWh per capita)\n"
   ]
  },
  {
   "cell_type": "code",
   "execution_count": 15,
   "metadata": {},
   "outputs": [],
   "source": [
    "df_pop = wb_data(total_pop, 5)\n",
    "\n",
    "country_code_to_name(df_pop[0])\n",
    "\n",
    "df_total_pop = df_pop[0].loc[countries_of_interest]\n",
    "\n",
    "#df_total_pop.head()"
   ]
  },
  {
   "cell_type": "code",
   "execution_count": 16,
   "metadata": {
    "scrolled": true
   },
   "outputs": [],
   "source": [
    "df_r = wb_data(rural_pop, 5)\n",
    "\n",
    "country_code_to_name(df_r[0])\n",
    "\n",
    "df_rural = df_r[0].loc[countries_of_interest]\n",
    "\n",
    "#df_rural.head()"
   ]
  },
  {
   "cell_type": "code",
   "execution_count": 17,
   "metadata": {},
   "outputs": [],
   "source": [
    "df_u = wb_data(urban_pop, 5)\n",
    "\n",
    "country_code_to_name(df_u[0])\n",
    "\n",
    "df_urban = df_u[0].loc[countries_of_interest]\n",
    "\n",
    "#df_urban.to_csv('urban.csv')\n",
    "\n",
    "#df_urban"
   ]
  },
  {
   "cell_type": "code",
   "execution_count": 18,
   "metadata": {},
   "outputs": [],
   "source": [
    "df_f = wb_data(forest_area, 5)\n",
    "\n",
    "country_code_to_name(df_f[0])\n",
    "\n",
    "df_forest = df_f[0].loc[countries_of_interest]\n",
    "\n",
    "#df_forest.drop(['1960','1965','1970','1975','1980','1985'], axis=1).head(5) # removed the years without proper data"
   ]
  },
  {
   "cell_type": "code",
   "execution_count": 19,
   "metadata": {},
   "outputs": [],
   "source": [
    "df_a = wb_data(arable_land, 5)\n",
    "\n",
    "country_code_to_name(df_a[0])\n",
    "\n",
    "df_arable = df_a[0].loc[countries_of_interest]\n",
    "\n",
    "#df_arable.drop(['1960'], axis=1).head()"
   ]
  },
  {
   "cell_type": "code",
   "execution_count": 20,
   "metadata": {},
   "outputs": [],
   "source": [
    "df_m = wb_data(manufacturing, 5)\n",
    "\n",
    "country_code_to_name(df_m[0])\n",
    "\n",
    "df_manufacturing = df_m[0].loc[countries_of_interest]\n",
    "\n",
    "#df_manufacturing.head()"
   ]
  },
  {
   "cell_type": "code",
   "execution_count": 21,
   "metadata": {},
   "outputs": [],
   "source": [
    "df_g = wb_data(gdp, 5)\n",
    "\n",
    "country_code_to_name(df_g[0])\n",
    "\n",
    "df_gdp = df_g[0].loc[countries_of_interest]\n",
    "\n",
    "#df_gdp.drop(['1960','1965','1970','1975','1980','1985', '2020'], axis=1).head()"
   ]
  },
  {
   "cell_type": "code",
   "execution_count": 22,
   "metadata": {},
   "outputs": [],
   "source": [
    "df_gr = wb_data(greenhouse_emission_ind, 5)\n",
    "\n",
    "country_code_to_name(df_gr[0])\n",
    "\n",
    "df_greenhouse = df_gr[0].loc[countries_of_interest]\n",
    "\n",
    "#df_greenhouse"
   ]
  },
  {
   "cell_type": "code",
   "execution_count": 23,
   "metadata": {},
   "outputs": [],
   "source": [
    "df_elec_consump = wb_data(elec_consump, 5)\n",
    "\n",
    "country_code_to_name(df_elec_consump[0])\n",
    "\n",
    "df_electricity = df_elec_consump[0].loc[countries_of_interest]\n",
    "\n",
    "#df_total_pop.head()"
   ]
  },
  {
   "cell_type": "code",
   "execution_count": 24,
   "metadata": {},
   "outputs": [],
   "source": [
    "tot_emission = df_CO2[0].loc[countries_of_interest].drop(['1960','1965','1970','1975','1980','1985','2020'], axis=1)"
   ]
  },
  {
   "cell_type": "code",
   "execution_count": 25,
   "metadata": {},
   "outputs": [],
   "source": [
    "tot_gdp = df_gdp.drop(['1960','1965','1970','1975','1980','1985', '2020'], axis=1)"
   ]
  },
  {
   "cell_type": "code",
   "execution_count": 26,
   "metadata": {
    "scrolled": false
   },
   "outputs": [
    {
     "data": {
      "text/html": [
       "<div>\n",
       "<style scoped>\n",
       "    .dataframe tbody tr th:only-of-type {\n",
       "        vertical-align: middle;\n",
       "    }\n",
       "\n",
       "    .dataframe tbody tr th {\n",
       "        vertical-align: top;\n",
       "    }\n",
       "\n",
       "    .dataframe thead th {\n",
       "        text-align: right;\n",
       "    }\n",
       "</style>\n",
       "<table border=\"1\" class=\"dataframe\">\n",
       "  <thead>\n",
       "    <tr style=\"text-align: right;\">\n",
       "      <th>Year</th>\n",
       "      <th>1990</th>\n",
       "      <th>1995</th>\n",
       "      <th>2000</th>\n",
       "      <th>2005</th>\n",
       "      <th>2010</th>\n",
       "      <th>2015</th>\n",
       "    </tr>\n",
       "    <tr>\n",
       "      <th>Country Name</th>\n",
       "      <th></th>\n",
       "      <th></th>\n",
       "      <th></th>\n",
       "      <th></th>\n",
       "      <th></th>\n",
       "      <th></th>\n",
       "    </tr>\n",
       "  </thead>\n",
       "  <tbody>\n",
       "    <tr>\n",
       "      <th>Bangladesh</th>\n",
       "      <td>2.922938</td>\n",
       "      <td>2.717994</td>\n",
       "      <td>2.103250</td>\n",
       "      <td>1.848856</td>\n",
       "      <td>1.352978</td>\n",
       "      <td>0.936033</td>\n",
       "    </tr>\n",
       "    <tr>\n",
       "      <th>Brazil</th>\n",
       "      <td>1.520120</td>\n",
       "      <td>0.880945</td>\n",
       "      <td>1.168056</td>\n",
       "      <td>0.996968</td>\n",
       "      <td>0.446588</td>\n",
       "      <td>0.600762</td>\n",
       "    </tr>\n",
       "    <tr>\n",
       "      <th>Canada</th>\n",
       "      <td>0.942603</td>\n",
       "      <td>1.002861</td>\n",
       "      <td>0.901966</td>\n",
       "      <td>0.601036</td>\n",
       "      <td>0.416856</td>\n",
       "      <td>0.454819</td>\n",
       "    </tr>\n",
       "    <tr>\n",
       "      <th>China</th>\n",
       "      <td>8.929470</td>\n",
       "      <td>5.808798</td>\n",
       "      <td>3.795304</td>\n",
       "      <td>3.147239</td>\n",
       "      <td>1.676285</td>\n",
       "      <td>1.072118</td>\n",
       "    </tr>\n",
       "    <tr>\n",
       "      <th>Ecuador</th>\n",
       "      <td>2.219265</td>\n",
       "      <td>1.695256</td>\n",
       "      <td>2.311247</td>\n",
       "      <td>1.247739</td>\n",
       "      <td>0.888501</td>\n",
       "      <td>0.668947</td>\n",
       "    </tr>\n",
       "    <tr>\n",
       "      <th>France</th>\n",
       "      <td>0.396122</td>\n",
       "      <td>0.310419</td>\n",
       "      <td>0.372397</td>\n",
       "      <td>0.231717</td>\n",
       "      <td>0.177980</td>\n",
       "      <td>0.176346</td>\n",
       "    </tr>\n",
       "    <tr>\n",
       "      <th>India</th>\n",
       "      <td>3.820935</td>\n",
       "      <td>4.045137</td>\n",
       "      <td>3.666906</td>\n",
       "      <td>2.400931</td>\n",
       "      <td>1.530262</td>\n",
       "      <td>1.456393</td>\n",
       "    </tr>\n",
       "    <tr>\n",
       "      <th>Nigeria</th>\n",
       "      <td>3.725864</td>\n",
       "      <td>4.920968</td>\n",
       "      <td>2.732230</td>\n",
       "      <td>1.331088</td>\n",
       "      <td>0.649954</td>\n",
       "      <td>0.569306</td>\n",
       "    </tr>\n",
       "    <tr>\n",
       "      <th>Russia</th>\n",
       "      <td>6.291951</td>\n",
       "      <td>5.810200</td>\n",
       "      <td>8.449189</td>\n",
       "      <td>3.106108</td>\n",
       "      <td>1.609267</td>\n",
       "      <td>1.815713</td>\n",
       "    </tr>\n",
       "    <tr>\n",
       "      <th>South Africa</th>\n",
       "      <td>2.706479</td>\n",
       "      <td>1.924824</td>\n",
       "      <td>2.267693</td>\n",
       "      <td>1.533293</td>\n",
       "      <td>1.197321</td>\n",
       "      <td>1.445272</td>\n",
       "    </tr>\n",
       "    <tr>\n",
       "      <th>Sweden</th>\n",
       "      <td>0.261184</td>\n",
       "      <td>0.272759</td>\n",
       "      <td>0.256358</td>\n",
       "      <td>0.161798</td>\n",
       "      <td>0.121155</td>\n",
       "      <td>0.099089</td>\n",
       "    </tr>\n",
       "    <tr>\n",
       "      <th>United Kingdom</th>\n",
       "      <td>0.692802</td>\n",
       "      <td>0.529930</td>\n",
       "      <td>0.412020</td>\n",
       "      <td>0.265189</td>\n",
       "      <td>0.238673</td>\n",
       "      <td>0.168350</td>\n",
       "    </tr>\n",
       "    <tr>\n",
       "      <th>United States</th>\n",
       "      <td>0.999520</td>\n",
       "      <td>0.819492</td>\n",
       "      <td>0.669227</td>\n",
       "      <td>0.521746</td>\n",
       "      <td>0.429733</td>\n",
       "      <td>0.329178</td>\n",
       "    </tr>\n",
       "  </tbody>\n",
       "</table>\n",
       "</div>"
      ],
      "text/plain": [
       "Year                1990      1995      2000      2005      2010      2015\n",
       "Country Name                                                              \n",
       "Bangladesh      2.922938  2.717994  2.103250  1.848856  1.352978  0.936033\n",
       "Brazil          1.520120  0.880945  1.168056  0.996968  0.446588  0.600762\n",
       "Canada          0.942603  1.002861  0.901966  0.601036  0.416856  0.454819\n",
       "China           8.929470  5.808798  3.795304  3.147239  1.676285  1.072118\n",
       "Ecuador         2.219265  1.695256  2.311247  1.247739  0.888501  0.668947\n",
       "France          0.396122  0.310419  0.372397  0.231717  0.177980  0.176346\n",
       "India           3.820935  4.045137  3.666906  2.400931  1.530262  1.456393\n",
       "Nigeria         3.725864  4.920968  2.732230  1.331088  0.649954  0.569306\n",
       "Russia          6.291951  5.810200  8.449189  3.106108  1.609267  1.815713\n",
       "South Africa    2.706479  1.924824  2.267693  1.533293  1.197321  1.445272\n",
       "Sweden          0.261184  0.272759  0.256358  0.161798  0.121155  0.099089\n",
       "United Kingdom  0.692802  0.529930  0.412020  0.265189  0.238673  0.168350\n",
       "United States   0.999520  0.819492  0.669227  0.521746  0.429733  0.329178"
      ]
     },
     "execution_count": 26,
     "metadata": {},
     "output_type": "execute_result"
    }
   ],
   "source": [
    "C = tot_emission*1000*1000 / tot_gdp\n",
    "C"
   ]
  },
  {
   "cell_type": "code",
   "execution_count": 27,
   "metadata": {},
   "outputs": [
    {
     "data": {
      "text/plain": [
       "\"\\n# Creating a pie-chart for 2015 emissions data  \\ndf_greenhouse.plot.pie(y='2015', figsize=(10, 8), cmap='Set3')\\nplt.legend(loc='center left', bbox_to_anchor=(1.0, 1.0))\\nplt.tight_layout()\\n\\n\""
      ]
     },
     "execution_count": 27,
     "metadata": {},
     "output_type": "execute_result"
    }
   ],
   "source": [
    "\"\"\"\n",
    "# Creating a pie-chart for 2015 emissions data  \n",
    "df_greenhouse.plot.pie(y='2015', figsize=(10, 8), cmap='Set3')\n",
    "plt.legend(loc='center left', bbox_to_anchor=(1.0, 1.0))\n",
    "plt.tight_layout()\n",
    "\n",
    "\"\"\""
   ]
  },
  {
   "cell_type": "code",
   "execution_count": 28,
   "metadata": {},
   "outputs": [
    {
     "data": {
      "text/plain": [
       "<AxesSubplot:title={'center':'Total GDP (USD)'}, xlabel='Country Name', ylabel='GDP (USD)'>"
      ]
     },
     "execution_count": 28,
     "metadata": {},
     "output_type": "execute_result"
    },
    {
     "data": {
      "image/png": "[encoded data removed]",
      "text/plain": [
       "<Figure size 1080x720 with 1 Axes>"
      ]
     },
     "metadata": {
      "needs_background": "light"
     },
     "output_type": "display_data"
    }
   ],
   "source": [
    "tot_gdp.plot(kind='bar', figsize=(15,10), xlabel='Country Name', ylabel='GDP (USD)', fontsize=12, alpha=0.8, \n",
    "             stacked=False, width = 0.75, title='Total GDP (USD)', colormap='rainbow', edgecolor='black', rot=25)"
   ]
  },
  {
   "cell_type": "code",
   "execution_count": 29,
   "metadata": {},
   "outputs": [
    {
     "data": {
      "text/plain": [
       "<AxesSubplot:title={'center':'Greenhouse gas emission by countries'}, xlabel='Country Name', ylabel='KT of CO2 equivalent'>"
      ]
     },
     "execution_count": 29,
     "metadata": {},
     "output_type": "execute_result"
    },
    {
     "data": {
      "image/png": "[encoded data removed]",
      "text/plain": [
       "<Figure size 1080x720 with 1 Axes>"
      ]
     },
     "metadata": {
      "needs_background": "light"
     },
     "output_type": "display_data"
    }
   ],
   "source": [
    "tot_emission.plot(kind='bar', figsize=(15,10), xlabel='Country Name', ylabel='KT of CO2 equivalent', fontsize=12, alpha=0.75, \n",
    "                                stacked=False, width = 0.75, title='Greenhouse gas emission by countries', \n",
    "                                colormap='summer', edgecolor='black', rot=25)"
   ]
  },
  {
   "cell_type": "code",
   "execution_count": 30,
   "metadata": {},
   "outputs": [],
   "source": [
    "#plt.scatter(df_urban.drop('World'), df_forest.drop('World'))"
   ]
  },
  {
   "cell_type": "code",
   "execution_count": 31,
   "metadata": {},
   "outputs": [
    {
     "data": {
      "text/plain": [
       "Country Name\n",
       "Bangladesh        0.977238\n",
       "Brazil            0.871741\n",
       "Canada            0.753919\n",
       "China             0.949859\n",
       "Ecuador           0.960546\n",
       "France           -0.669921\n",
       "India             0.983036\n",
       "Nigeria           0.897058\n",
       "Russia           -0.008818\n",
       "South Africa      0.974697\n",
       "Sweden           -0.889807\n",
       "United Kingdom   -0.886152\n",
       "United States     0.056652\n",
       "dtype: float64"
      ]
     },
     "execution_count": 31,
     "metadata": {},
     "output_type": "execute_result"
    }
   ],
   "source": [
    "tot_emission.corrwith(tot_gdp, axis=1)"
   ]
  },
  {
   "cell_type": "code",
   "execution_count": 32,
   "metadata": {},
   "outputs": [],
   "source": [
    "# France, Russia, Sweden and the UK total greenhouse gas emission has negative correlations with the total GDP.\n",
    "# The US doesn't have any correlation between the two factors.\n",
    "# The rest of the countries from the list have strong correlations."
   ]
  },
  {
   "cell_type": "markdown",
   "metadata": {},
   "source": [
    "--------------------------------------------------------------------------------------------------"
   ]
  },
  {
   "cell_type": "code",
   "execution_count": 33,
   "metadata": {},
   "outputs": [],
   "source": [
    "#df_forest.columns"
   ]
  },
  {
   "cell_type": "code",
   "execution_count": 34,
   "metadata": {},
   "outputs": [],
   "source": [
    "#df_forest.columns[1:]"
   ]
  },
  {
   "cell_type": "code",
   "execution_count": 35,
   "metadata": {},
   "outputs": [],
   "source": [
    "#df_forest.iloc[2:, 6]"
   ]
  },
  {
   "cell_type": "code",
   "execution_count": 36,
   "metadata": {},
   "outputs": [],
   "source": [
    "#df_forest[['1980', '1985', '1990', '1995']]"
   ]
  },
  {
   "cell_type": "code",
   "execution_count": 37,
   "metadata": {},
   "outputs": [],
   "source": [
    "#new_test_df = df_forest[['1980', '1985', '1990', '1995']].copy()\n",
    "#new_test_df"
   ]
  },
  {
   "cell_type": "code",
   "execution_count": 38,
   "metadata": {},
   "outputs": [],
   "source": [
    "def norm(array):\n",
    "    \"\"\" Returns array normalised to [0,1]. Array can be a numpy array \n",
    "    or a column of a dataframe\"\"\"\n",
    "\n",
    "    mean_val = np.mean(array)\n",
    "    min_val = np.min(array)\n",
    "    max_val = np.max(array)\n",
    "    \n",
    "    #scaled = (array-min_val) / (max_val-min_val)\n",
    "    scaled = (array-min_val) / (max_val-min_val)\n",
    "    \n",
    "    return scaled\n",
    "\n",
    "\n",
    "def norm_df(df):\n",
    "    \"\"\" \n",
    "    Returns all columns of the dataframe normalised to [0,1] with the \n",
    "    exception the first (containing the names)\n",
    "    Calls function norm to do the normalisation of one column, but\n",
    "    doing all in one function is also fine. \n",
    "    \"\"\"\n",
    "    df_norm = df.copy()\n",
    "    # iterate over all columns\n",
    "    for col in df.columns[:]:     \n",
    "        df_norm[col] = norm(df[col])\n",
    "        \n",
    "    return df_norm"
   ]
  },
  {
   "cell_type": "code",
   "execution_count": 39,
   "metadata": {},
   "outputs": [],
   "source": [
    "df_greenhouse_norm = norm_df(df_greenhouse)[['1990', '1995', '2000', '2005', '2010', '2015']]"
   ]
  },
  {
   "cell_type": "code",
   "execution_count": 40,
   "metadata": {},
   "outputs": [],
   "source": [
    "df_urban_norm2 = norm_df(df_urban)[['1990', '1995', '2000', '2005', '2010', '2015']]"
   ]
  },
  {
   "cell_type": "code",
   "execution_count": 41,
   "metadata": {},
   "outputs": [
    {
     "data": {
      "text/plain": [
       "(13, 13)"
      ]
     },
     "execution_count": 41,
     "metadata": {},
     "output_type": "execute_result"
    }
   ],
   "source": [
    "norm_df(df_gdp).shape"
   ]
  },
  {
   "cell_type": "code",
   "execution_count": 42,
   "metadata": {
    "scrolled": true
   },
   "outputs": [],
   "source": [
    "#df_CO2[0].plot(df_CO2[0].columns, df_CO2[['1990', '1995', '2000', '2005', '2010', '2015']], kind='scatter')"
   ]
  },
  {
   "cell_type": "code",
   "execution_count": 43,
   "metadata": {},
   "outputs": [],
   "source": [
    "#df_CO2[0][['1990', '1995', '2000', '2005', '2010', '2015']].plot()"
   ]
  },
  {
   "cell_type": "code",
   "execution_count": 44,
   "metadata": {
    "scrolled": true
   },
   "outputs": [],
   "source": [
    "#df_CO2[1].plot(figsize=(10,8))\n",
    "#plt.legend(loc='center left', bbox_to_anchor=(1.0, 0.5))"
   ]
  },
  {
   "cell_type": "code",
   "execution_count": 45,
   "metadata": {
    "scrolled": true
   },
   "outputs": [],
   "source": [
    "#C['2015'].plot(figsize=(12,10))"
   ]
  },
  {
   "cell_type": "code",
   "execution_count": 46,
   "metadata": {
    "scrolled": false
   },
   "outputs": [
    {
     "data": {
      "image/png": "[encoded data removed]",
      "text/plain": [
       "<Figure size 720x576 with 1 Axes>"
      ]
     },
     "metadata": {
      "needs_background": "light"
     },
     "output_type": "display_data"
    }
   ],
   "source": [
    "plt.figure(figsize=(10,8))\n",
    "\n",
    "plt.scatter(norm_df(df_g[0])[['1990', '1995', '2000', '2005', '2010', '2015']], \n",
    "            norm_df(df_gr[0])[['1990', '1995', '2000', '2005', '2010', '2015']])\n",
    "\n",
    "plt.xlabel('Total GDP')\n",
    "plt.ylabel('Total greenhouse gas emission')\n",
    "\n",
    "#plt.legend(loc=0)\n",
    "\n",
    "plt.show()"
   ]
  },
  {
   "cell_type": "code",
   "execution_count": 47,
   "metadata": {},
   "outputs": [
    {
     "data": {
      "image/png": "[encoded data removed]",
      "text/plain": [
       "<Figure size 432x288 with 1 Axes>"
      ]
     },
     "metadata": {
      "needs_background": "light"
     },
     "output_type": "display_data"
    }
   ],
   "source": [
    "plt.figure()\n",
    "\n",
    "plt.scatter(norm_df(df_u[0])[['1990', '1995', '2000', '2005', '2010', '2015']], \n",
    "            norm_df(df_gr[0])[['1990', '1995', '2000', '2005', '2010', '2015']])\n",
    "\n",
    "plt.xlabel('urban population')\n",
    "plt.ylabel('Total greenhouse gas emission')\n",
    "\n",
    "plt.show()"
   ]
  },
  {
   "cell_type": "code",
   "execution_count": 48,
   "metadata": {},
   "outputs": [],
   "source": [
    "# Removing entries which are aggregate and not to be analysed for this work\n",
    "\n",
    "url2 = 'https://docs.google.com/spreadsheets/d/1VXxnOpxxKcMdfitckG6jFwX3YjNg5dO8e8Gr3hpaaNs/edit#gid=0'\n",
    "\n",
    "url_readable2 = url2.replace('/edit#gid=', '/export?format=csv&gid=')\n",
    "\n",
    "country_names_to_exclude = pd.read_csv(url_readable2)\n",
    "\n",
    "#list(country_names_to_exclude['Country Name'])"
   ]
  },
  {
   "cell_type": "code",
   "execution_count": 49,
   "metadata": {},
   "outputs": [],
   "source": [
    "\n",
    "df_urban_x = df_u[0].drop(list(country_names_to_exclude['Country Name']))\n",
    "\n",
    "df_green_x = df_gr[0].drop(list(country_names_to_exclude['Country Name']))\n",
    "\n",
    "df_gdp_x = df_g[0].drop(list(country_names_to_exclude['Country Name']))\n",
    "\n",
    "df_total_pop_x = df_pop[0].drop(list(country_names_to_exclude['Country Name']))#\n",
    "\n",
    "df_urban_x = df_u[0].drop(list(country_names_to_exclude['Country Name']))\n",
    "\n",
    "df_arable_x = df_a[0].drop(list(country_names_to_exclude['Country Name']))\n",
    "\n",
    "df_electricity_x = df_elec_consump[0].drop(list(country_names_to_exclude['Country Name']))\n"
   ]
  },
  {
   "cell_type": "code",
   "execution_count": 50,
   "metadata": {},
   "outputs": [],
   "source": [
    "\n",
    "df_cluster_test = pd.DataFrame()\n",
    "\n",
    "df_cluster_test['Population 2015'] = df_total_pop_x['2015']\n",
    "\n",
    "df_cluster_test['Total GDP 2015 (USD)'] = df_gdp_x['2015']\n",
    "\n",
    "df_cluster_test['Total CO2 2015 (KT)'] = df_green_x['2015']\n",
    "\n",
    "df_cluster_test['Urban population 2015'] = df_total_pop_x['2015']* df_urban_x['2015']/100\n",
    "\n",
    "df_cluster_test['Arable land 2015'] = df_arable_x['2015']\n",
    "\n",
    "#df_cluster_test['Electricity consumption 2010'] = df_electricity_x['2010']\n"
   ]
  },
  {
   "cell_type": "code",
   "execution_count": 51,
   "metadata": {},
   "outputs": [],
   "source": [
    "df_cluster_test = df_cluster_test.dropna(subset=['Total CO2 2015 (KT)']).copy()"
   ]
  },
  {
   "cell_type": "code",
   "execution_count": 52,
   "metadata": {},
   "outputs": [],
   "source": [
    "df_cluster_test['Total GDP 2015 (USD)'] /= df_cluster_test['Population 2015']\n",
    "df_cluster_test['Total CO2 2015 (KT)'] /= df_cluster_test['Population 2015']"
   ]
  },
  {
   "cell_type": "code",
   "execution_count": 53,
   "metadata": {
    "scrolled": true
   },
   "outputs": [
    {
     "data": {
      "text/plain": [
       "'Brunei Darussalam'"
      ]
     },
     "execution_count": 53,
     "metadata": {},
     "output_type": "execute_result"
    }
   ],
   "source": [
    "df_cluster_test['Total CO2 2015 (KT)'].idxmax()"
   ]
  },
  {
   "cell_type": "code",
   "execution_count": 54,
   "metadata": {},
   "outputs": [],
   "source": [
    "df_cluster_test.rename(columns={'Total GDP 2015 (USD)':'GDP per capita 2015 (USD)', \n",
    "                                'Total CO2 2015 (KT)':'CO2  per capita 2015 (KT)'}, inplace=True)"
   ]
  },
  {
   "cell_type": "code",
   "execution_count": 55,
   "metadata": {},
   "outputs": [
    {
     "data": {
      "text/plain": [
       "<AxesSubplot:xlabel='GDP per capita', ylabel='CO2 emission per capita (KT)'>"
      ]
     },
     "execution_count": 55,
     "metadata": {},
     "output_type": "execute_result"
    },
    {
     "data": {
      "image/png": "[encoded data removed]",
      "text/plain": [
       "<Figure size 720x432 with 1 Axes>"
      ]
     },
     "metadata": {
      "needs_background": "light"
     },
     "output_type": "display_data"
    }
   ],
   "source": [
    "df_cluster_test.plot('GDP per capita 2015 (USD)', 'CO2  per capita 2015 (KT)', kind='scatter', xlabel = 'GDP per capita',\n",
    "                    ylabel = 'CO2 emission per capita (KT)', figsize=(10,6))"
   ]
  },
  {
   "cell_type": "code",
   "execution_count": 56,
   "metadata": {},
   "outputs": [],
   "source": [
    "#norm_df(df_cluster_test).plot('Total GDP 2015 (USD)', 'Total CO2 2015 (KT)', kind='scatter', figsize=(10,8), )"
   ]
  },
  {
   "cell_type": "code",
   "execution_count": 57,
   "metadata": {},
   "outputs": [],
   "source": [
    "# Normalising the Cluster DataFrame for Kmeans clustering \n",
    "\n",
    "df_cluster = norm_df(df_cluster_test)"
   ]
  },
  {
   "cell_type": "code",
   "execution_count": 58,
   "metadata": {},
   "outputs": [
    {
     "data": {
      "text/html": [
       "<div>\n",
       "<style scoped>\n",
       "    .dataframe tbody tr th:only-of-type {\n",
       "        vertical-align: middle;\n",
       "    }\n",
       "\n",
       "    .dataframe tbody tr th {\n",
       "        vertical-align: top;\n",
       "    }\n",
       "\n",
       "    .dataframe thead th {\n",
       "        text-align: right;\n",
       "    }\n",
       "</style>\n",
       "<table border=\"1\" class=\"dataframe\">\n",
       "  <thead>\n",
       "    <tr style=\"text-align: right;\">\n",
       "      <th></th>\n",
       "      <th>Population 2015</th>\n",
       "      <th>GDP per capita 2015 (USD)</th>\n",
       "      <th>CO2  per capita 2015 (KT)</th>\n",
       "      <th>Urban population 2015</th>\n",
       "      <th>Arable land 2015</th>\n",
       "    </tr>\n",
       "    <tr>\n",
       "      <th>Country Name</th>\n",
       "      <th></th>\n",
       "      <th></th>\n",
       "      <th></th>\n",
       "      <th></th>\n",
       "      <th></th>\n",
       "    </tr>\n",
       "  </thead>\n",
       "  <tbody>\n",
       "    <tr>\n",
       "      <th>Afghanistan</th>\n",
       "      <td>0.024932</td>\n",
       "      <td>0.001669</td>\n",
       "      <td>0.058023</td>\n",
       "      <td>0.011137</td>\n",
       "      <td>0.199066</td>\n",
       "    </tr>\n",
       "    <tr>\n",
       "      <th>Angola</th>\n",
       "      <td>0.020200</td>\n",
       "      <td>0.036033</td>\n",
       "      <td>0.071966</td>\n",
       "      <td>0.023093</td>\n",
       "      <td>0.064808</td>\n",
       "    </tr>\n",
       "    <tr>\n",
       "      <th>Albania</th>\n",
       "      <td>0.002080</td>\n",
       "      <td>0.033995</td>\n",
       "      <td>0.076457</td>\n",
       "      <td>0.002152</td>\n",
       "      <td>0.377016</td>\n",
       "    </tr>\n",
       "    <tr>\n",
       "      <th>United Arab Emirates</th>\n",
       "      <td>0.006705</td>\n",
       "      <td>0.364316</td>\n",
       "      <td>0.709163</td>\n",
       "      <td>0.010354</td>\n",
       "      <td>0.009014</td>\n",
       "    </tr>\n",
       "    <tr>\n",
       "      <th>Argentina</th>\n",
       "      <td>0.031250</td>\n",
       "      <td>0.127601</td>\n",
       "      <td>0.208588</td>\n",
       "      <td>0.051527</td>\n",
       "      <td>0.240034</td>\n",
       "    </tr>\n",
       "    <tr>\n",
       "      <th>...</th>\n",
       "      <td>...</td>\n",
       "      <td>...</td>\n",
       "      <td>...</td>\n",
       "      <td>...</td>\n",
       "      <td>...</td>\n",
       "    </tr>\n",
       "    <tr>\n",
       "      <th>Samoa</th>\n",
       "      <td>0.000132</td>\n",
       "      <td>0.035128</td>\n",
       "      <td>0.070751</td>\n",
       "      <td>0.000039</td>\n",
       "      <td>0.191920</td>\n",
       "    </tr>\n",
       "    <tr>\n",
       "      <th>Yemen, Rep.</th>\n",
       "      <td>0.019195</td>\n",
       "      <td>0.011622</td>\n",
       "      <td>0.011903</td>\n",
       "      <td>0.012024</td>\n",
       "      <td>0.034871</td>\n",
       "    </tr>\n",
       "    <tr>\n",
       "      <th>South Africa</th>\n",
       "      <td>0.040131</td>\n",
       "      <td>0.055949</td>\n",
       "      <td>0.225582</td>\n",
       "      <td>0.046877</td>\n",
       "      <td>0.165318</td>\n",
       "    </tr>\n",
       "    <tr>\n",
       "      <th>Zambia</th>\n",
       "      <td>0.011500</td>\n",
       "      <td>0.009114</td>\n",
       "      <td>0.050665</td>\n",
       "      <td>0.008681</td>\n",
       "      <td>0.084725</td>\n",
       "    </tr>\n",
       "    <tr>\n",
       "      <th>Zimbabwe</th>\n",
       "      <td>0.010004</td>\n",
       "      <td>0.010130</td>\n",
       "      <td>0.045851</td>\n",
       "      <td>0.005833</td>\n",
       "      <td>0.172868</td>\n",
       "    </tr>\n",
       "  </tbody>\n",
       "</table>\n",
       "<p>150 rows × 5 columns</p>\n",
       "</div>"
      ],
      "text/plain": [
       "                      Population 2015  GDP per capita 2015 (USD)  \\\n",
       "Country Name                                                       \n",
       "Afghanistan                  0.024932                   0.001669   \n",
       "Angola                       0.020200                   0.036033   \n",
       "Albania                      0.002080                   0.033995   \n",
       "United Arab Emirates         0.006705                   0.364316   \n",
       "Argentina                    0.031250                   0.127601   \n",
       "...                               ...                        ...   \n",
       "Samoa                        0.000132                   0.035128   \n",
       "Yemen, Rep.                  0.019195                   0.011622   \n",
       "South Africa                 0.040131                   0.055949   \n",
       "Zambia                       0.011500                   0.009114   \n",
       "Zimbabwe                     0.010004                   0.010130   \n",
       "\n",
       "                      CO2  per capita 2015 (KT)  Urban population 2015  \\\n",
       "Country Name                                                             \n",
       "Afghanistan                            0.058023               0.011137   \n",
       "Angola                                 0.071966               0.023093   \n",
       "Albania                                0.076457               0.002152   \n",
       "United Arab Emirates                   0.709163               0.010354   \n",
       "Argentina                              0.208588               0.051527   \n",
       "...                                         ...                    ...   \n",
       "Samoa                                  0.070751               0.000039   \n",
       "Yemen, Rep.                            0.011903               0.012024   \n",
       "South Africa                           0.225582               0.046877   \n",
       "Zambia                                 0.050665               0.008681   \n",
       "Zimbabwe                               0.045851               0.005833   \n",
       "\n",
       "                      Arable land 2015  \n",
       "Country Name                            \n",
       "Afghanistan                   0.199066  \n",
       "Angola                        0.064808  \n",
       "Albania                       0.377016  \n",
       "United Arab Emirates          0.009014  \n",
       "Argentina                     0.240034  \n",
       "...                                ...  \n",
       "Samoa                         0.191920  \n",
       "Yemen, Rep.                   0.034871  \n",
       "South Africa                  0.165318  \n",
       "Zambia                        0.084725  \n",
       "Zimbabwe                      0.172868  \n",
       "\n",
       "[150 rows x 5 columns]"
      ]
     },
     "execution_count": 58,
     "metadata": {},
     "output_type": "execute_result"
    }
   ],
   "source": [
    "df_cluster"
   ]
  },
  {
   "cell_type": "code",
   "execution_count": 59,
   "metadata": {},
   "outputs": [],
   "source": [
    "#A.to_csv('A.csv') #to invstigate the data"
   ]
  },
  {
   "cell_type": "code",
   "execution_count": 60,
   "metadata": {},
   "outputs": [
    {
     "data": {
      "text/plain": [
       "<AxesSubplot:xlabel='GDP per capita 2015 (USD)', ylabel='CO2  per capita 2015 (KT)'>"
      ]
     },
     "execution_count": 60,
     "metadata": {},
     "output_type": "execute_result"
    },
    {
     "data": {
      "image/png": "[encoded data removed]",
      "text/plain": [
       "<Figure size 720x576 with 1 Axes>"
      ]
     },
     "metadata": {
      "needs_background": "light"
     },
     "output_type": "display_data"
    }
   ],
   "source": [
    "df_cluster.plot('GDP per capita 2015 (USD)', 'CO2  per capita 2015 (KT)', kind='scatter', figsize=(10,8))"
   ]
  },
  {
   "cell_type": "code",
   "execution_count": 61,
   "metadata": {},
   "outputs": [
    {
     "data": {
      "text/plain": [
       "6"
      ]
     },
     "execution_count": 61,
     "metadata": {},
     "output_type": "execute_result"
    }
   ],
   "source": [
    "len(df_cluster[(df_cluster['GDP per capita 2015 (USD)'] < 0.3) & (df_cluster['GDP per capita 2015 (USD)'] > 0.2)])"
   ]
  },
  {
   "cell_type": "code",
   "execution_count": 62,
   "metadata": {},
   "outputs": [],
   "source": [
    "#df_cluster_test.plot('Population 2015', 'Total CO2 2015 (KT)', kind='scatter', figsize = (20,15))"
   ]
  },
  {
   "cell_type": "code",
   "execution_count": 63,
   "metadata": {},
   "outputs": [
    {
     "data": {
      "text/plain": [
       "Country Name\n",
       "China            1.379860e+09\n",
       "India            1.310152e+09\n",
       "United States    3.207390e+08\n",
       "Indonesia        2.583833e+08\n",
       "Brazil           2.044718e+08\n",
       "                     ...     \n",
       "Tonga            1.007800e+05\n",
       "Dominica         7.117500e+04\n",
       "Palau            1.766500e+04\n",
       "Tuvalu           1.109900e+04\n",
       "Eritrea                   NaN\n",
       "Name: Population 2015, Length: 150, dtype: float64"
      ]
     },
     "execution_count": 63,
     "metadata": {},
     "output_type": "execute_result"
    }
   ],
   "source": [
    "df_cluster_test['Population 2015'].sort_values(ascending=False)"
   ]
  },
  {
   "cell_type": "code",
   "execution_count": 64,
   "metadata": {},
   "outputs": [],
   "source": [
    "df_cluster.dropna(axis=0, inplace=True)"
   ]
  },
  {
   "cell_type": "code",
   "execution_count": 65,
   "metadata": {},
   "outputs": [
    {
     "data": {
      "text/plain": [
       "<AxesSubplot:xlabel='CO2  per capita 2015 (KT)', ylabel='GDP per capita 2015 (USD)'>"
      ]
     },
     "execution_count": 65,
     "metadata": {},
     "output_type": "execute_result"
    },
    {
     "data": {
      "image/png": "[encoded data removed]",
      "text/plain": [
       "<Figure size 720x576 with 1 Axes>"
      ]
     },
     "metadata": {
      "needs_background": "light"
     },
     "output_type": "display_data"
    }
   ],
   "source": [
    "df_cluster.plot('CO2  per capita 2015 (KT)', 'GDP per capita 2015 (USD)', kind='scatter', figsize=(10,8))"
   ]
  },
  {
   "cell_type": "code",
   "execution_count": 66,
   "metadata": {},
   "outputs": [
    {
     "data": {
      "image/png": "[encoded data removed]",
      "text/plain": [
       "<Figure size 720x576 with 1 Axes>"
      ]
     },
     "metadata": {
      "needs_background": "light"
     },
     "output_type": "display_data"
    }
   ],
   "source": [
    "import sklearn.cluster as cluster\n",
    "\n",
    "kmeans = cluster.KMeans(n_clusters=6)     # Selecting a high number of clusters as the data isn't showing many clear groupings \n",
    "\n",
    "# extract columns for fitting\n",
    "df_fit = df_cluster[['CO2  per capita 2015 (KT)', 'GDP per capita 2015 (USD)']].copy()\n",
    "kmeans.fit(df_fit)     \n",
    "\n",
    "# extract labels and cluster centres\n",
    "labels = kmeans.labels_\n",
    "cen = kmeans.cluster_centers_\n",
    "\n",
    "# plot using the labels to select colour\n",
    "plt.figure(figsize=(10.0,8.0))\n",
    "plt.grid('both',color='black', linestyle='solid', alpha=0.1)\n",
    "\n",
    "col = [\"navy\", \"crimson\", \"green\", \"darkorange\", \"purple\", \"dimgray\"]\n",
    "for l in range(6):     # loop over the different labels\n",
    "    plt.plot(df_fit['CO2  per capita 2015 (KT)'][labels==l], df_fit['GDP per capita 2015 (USD)'][labels==l], \"o\", \n",
    "             markersize=4, color=col[l])\n",
    "    \n",
    "# show cluster centres\n",
    "for ic in range(6):\n",
    "    xc, yc = cen[ic,:]\n",
    "    plt.plot(xc, yc, \"sk\", markersize=8, alpha=0.75)     #\"sk\": s for square k for color black\n",
    "    \n",
    "plt.xlabel(\"Normalised CO2 emissions per capita\")\n",
    "plt.ylabel(\"Normalised GDP per capita\")\n",
    "\n",
    "# Drawing circles around the selected clusters \n",
    "\n",
    "circle1 = plt.Circle((0.05, 0.02), 0.065, facecolor='w', alpha=0.9, edgecolor='black')\n",
    "plt.gca().add_patch(circle1)\n",
    "\n",
    "circle2 = plt.Circle((0.2, 0.1), 0.1, facecolor='w', alpha=0.9, edgecolor='black')\n",
    "plt.gca().add_patch(circle2)\n",
    "\n",
    "circle3 = plt.Circle((0.25, 0.4), 0.13, facecolor='w', alpha=0.9, edgecolor='black')\n",
    "plt.gca().add_patch(circle3)\n",
    "\n",
    "circle4 = plt.Circle((0.45, 0.165), 0.14, facecolor='w', alpha=0.9, edgecolor='black')\n",
    "plt.gca().add_patch(circle4)\n",
    "\n",
    "plt.annotate('Cluster A', xy=(0.2, 0.55))\n",
    "plt.annotate('Clusters of interest', xy=(0.3, 0.5), xytext=(0.5, 0.75), arrowprops=dict(facecolor='black', arrowstyle=\"->\"))\n",
    "\n",
    "plt.annotate('Cluster B', xy=(0.15, -0.03))\n",
    "plt.annotate('Clusters of interest', xy=(0.2, 0.15), xytext=(0.5, 0.75), arrowprops=dict(facecolor='black', arrowstyle=\"->\"))\n",
    "\n",
    "plt.title(\"Cluster analysis with 2015 GDP and CO2\")\n",
    "\n",
    "plt.savefig(\"Cluster analysis with 2015 GDP and CO2.png\", dpi=720)\n",
    "plt.show()"
   ]
  },
  {
   "cell_type": "code",
   "execution_count": 67,
   "metadata": {},
   "outputs": [
    {
     "data": {
      "text/plain": [
       "array([[0.04770975, 0.01860433],\n",
       "       [0.2480966 , 0.43035475],\n",
       "       [0.45009478, 0.18911853],\n",
       "       [0.81827679, 0.3803299 ],\n",
       "       [0.18593539, 0.09630718],\n",
       "       [0.27527034, 0.83570718]])"
      ]
     },
     "execution_count": 67,
     "metadata": {},
     "output_type": "execute_result"
    }
   ],
   "source": [
    "cen"
   ]
  },
  {
   "cell_type": "code",
   "execution_count": 68,
   "metadata": {},
   "outputs": [],
   "source": [
    "# The centres are a litte off the selected cluster area due to the outliers."
   ]
  },
  {
   "cell_type": "code",
   "execution_count": 69,
   "metadata": {},
   "outputs": [],
   "source": [
    "# Identifying the countries for the Cluster A\n",
    "\n",
    "gdp_range = df_cluster[(df_cluster['GDP per capita 2015 (USD)'] > 0.3) & (df_cluster['GDP per capita 2015 (USD)'] < 0.5)]\n",
    "\n",
    "co2_range = df_cluster[(df_cluster['CO2  per capita 2015 (KT)'] > 0.175) & (df_cluster['CO2  per capita 2015 (KT)'] < 0.275)]\n",
    "\n",
    "# gdp_range only filters by the gdp and co2_range does the same for only CO2 emissions per capita.\n",
    "# need to find the common countries between the 2 sets."
   ]
  },
  {
   "cell_type": "code",
   "execution_count": 70,
   "metadata": {
    "scrolled": false
   },
   "outputs": [
    {
     "data": {
      "text/plain": [
       "22"
      ]
     },
     "execution_count": 70,
     "metadata": {},
     "output_type": "execute_result"
    }
   ],
   "source": [
    "len(co2_range.index)"
   ]
  },
  {
   "cell_type": "code",
   "execution_count": 71,
   "metadata": {},
   "outputs": [
    {
     "name": "stdout",
     "output_type": "stream",
     "text": [
      "Index(['Austria', 'Belgium', 'Germany', 'Finland', 'United Kingdom', 'Israel',\n",
      "       'Japan'],\n",
      "      dtype='object', name='Country Name')\n"
     ]
    }
   ],
   "source": [
    "# Selecting the index values for the common countries between gdp_range and co2_range to find countries within Cluster 1 \n",
    "\n",
    "idx1 = gdp_range.index.intersection(co2_range.index)    # \".intersection\" method finds the intersection of two Index objects\n",
    "print (idx1)                                            # in this case the index objects are from the dataframes"
   ]
  },
  {
   "cell_type": "code",
   "execution_count": 72,
   "metadata": {},
   "outputs": [],
   "source": [
    "#list(co2_range.index)"
   ]
  },
  {
   "cell_type": "code",
   "execution_count": 73,
   "metadata": {},
   "outputs": [],
   "source": [
    "#list(gdp_range.index)"
   ]
  },
  {
   "cell_type": "code",
   "execution_count": 88,
   "metadata": {
    "scrolled": true
   },
   "outputs": [
    {
     "data": {
      "text/html": [
       "<div>\n",
       "<style scoped>\n",
       "    .dataframe tbody tr th:only-of-type {\n",
       "        vertical-align: middle;\n",
       "    }\n",
       "\n",
       "    .dataframe tbody tr th {\n",
       "        vertical-align: top;\n",
       "    }\n",
       "\n",
       "    .dataframe thead th {\n",
       "        text-align: right;\n",
       "    }\n",
       "</style>\n",
       "<table border=\"1\" class=\"dataframe\">\n",
       "  <thead>\n",
       "    <tr style=\"text-align: right;\">\n",
       "      <th></th>\n",
       "      <th>Population 2015</th>\n",
       "      <th>GDP per capita 2015 (USD)</th>\n",
       "      <th>CO2  per capita 2015 (KT)</th>\n",
       "      <th>Urban population 2015</th>\n",
       "      <th>Arable land 2015</th>\n",
       "    </tr>\n",
       "    <tr>\n",
       "      <th>Country Name</th>\n",
       "      <th></th>\n",
       "      <th></th>\n",
       "      <th></th>\n",
       "      <th></th>\n",
       "      <th></th>\n",
       "    </tr>\n",
       "  </thead>\n",
       "  <tbody>\n",
       "    <tr>\n",
       "      <th>Austria</th>\n",
       "      <td>8642699.0</td>\n",
       "      <td>44195.817595</td>\n",
       "      <td>0.008733</td>\n",
       "      <td>4.988134e+06</td>\n",
       "      <td>16.312409</td>\n",
       "    </tr>\n",
       "    <tr>\n",
       "      <th>Belgium</th>\n",
       "      <td>11274196.0</td>\n",
       "      <td>41008.296719</td>\n",
       "      <td>0.009892</td>\n",
       "      <td>1.103473e+07</td>\n",
       "      <td>27.394320</td>\n",
       "    </tr>\n",
       "    <tr>\n",
       "      <th>Germany</th>\n",
       "      <td>81686611.0</td>\n",
       "      <td>41103.256436</td>\n",
       "      <td>0.010375</td>\n",
       "      <td>6.306206e+07</td>\n",
       "      <td>33.956315</td>\n",
       "    </tr>\n",
       "    <tr>\n",
       "      <th>Finland</th>\n",
       "      <td>5479531.0</td>\n",
       "      <td>42801.908117</td>\n",
       "      <td>0.009773</td>\n",
       "      <td>4.669930e+06</td>\n",
       "      <td>7.378171</td>\n",
       "    </tr>\n",
       "    <tr>\n",
       "      <th>United Kingdom</th>\n",
       "      <td>65116219.0</td>\n",
       "      <td>45404.567773</td>\n",
       "      <td>0.007644</td>\n",
       "      <td>5.380293e+07</td>\n",
       "      <td>24.846030</td>\n",
       "    </tr>\n",
       "    <tr>\n",
       "      <th>Israel</th>\n",
       "      <td>8380100.0</td>\n",
       "      <td>35808.436429</td>\n",
       "      <td>0.010681</td>\n",
       "      <td>7.724692e+06</td>\n",
       "      <td>13.733826</td>\n",
       "    </tr>\n",
       "    <tr>\n",
       "      <th>Japan</th>\n",
       "      <td>127141000.0</td>\n",
       "      <td>34960.639384</td>\n",
       "      <td>0.009950</td>\n",
       "      <td>1.161827e+08</td>\n",
       "      <td>11.536351</td>\n",
       "    </tr>\n",
       "  </tbody>\n",
       "</table>\n",
       "</div>"
      ],
      "text/plain": [
       "                Population 2015  GDP per capita 2015 (USD)  \\\n",
       "Country Name                                                 \n",
       "Austria               8642699.0               44195.817595   \n",
       "Belgium              11274196.0               41008.296719   \n",
       "Germany              81686611.0               41103.256436   \n",
       "Finland               5479531.0               42801.908117   \n",
       "United Kingdom       65116219.0               45404.567773   \n",
       "Israel                8380100.0               35808.436429   \n",
       "Japan               127141000.0               34960.639384   \n",
       "\n",
       "                CO2  per capita 2015 (KT)  Urban population 2015  \\\n",
       "Country Name                                                       \n",
       "Austria                          0.008733           4.988134e+06   \n",
       "Belgium                          0.009892           1.103473e+07   \n",
       "Germany                          0.010375           6.306206e+07   \n",
       "Finland                          0.009773           4.669930e+06   \n",
       "United Kingdom                   0.007644           5.380293e+07   \n",
       "Israel                           0.010681           7.724692e+06   \n",
       "Japan                            0.009950           1.161827e+08   \n",
       "\n",
       "                Arable land 2015  \n",
       "Country Name                      \n",
       "Austria                16.312409  \n",
       "Belgium                27.394320  \n",
       "Germany                33.956315  \n",
       "Finland                 7.378171  \n",
       "United Kingdom         24.846030  \n",
       "Israel                 13.733826  \n",
       "Japan                  11.536351  "
      ]
     },
     "execution_count": 88,
     "metadata": {},
     "output_type": "execute_result"
    }
   ],
   "source": [
    "# The actual values for the selected cluster\n",
    "\n",
    "df_cluster_test.loc[idx1]"
   ]
  },
  {
   "cell_type": "code",
   "execution_count": 96,
   "metadata": {},
   "outputs": [
    {
     "data": {
      "image/png": "[encoded data removed]",
      "text/plain": [
       "<Figure size 504x360 with 1 Axes>"
      ]
     },
     "metadata": {
      "needs_background": "light"
     },
     "output_type": "display_data"
    }
   ],
   "source": [
    "plt.figure(figsize=(7,5))\n",
    "\n",
    "#ax = plt.axes(facecolor='#F0FFFF')  # adding this axis to set custom background color\n",
    "#ax.set_axisbelow(True)              # setting the axis below my primary axis so that the grid and the background is behind\n",
    "#plt.grid(color='black', linestyle='solid', alpha=0.1)  # Specifying the grid\n",
    "\n",
    "plt.bar(df_cluster_test.loc[idx1].index, np.array(df_cluster_test.loc[idx1]['GDP per capita 2015 (USD)']).reshape(7), \n",
    "        label='GDP', color='#52595D', alpha=0.75, edgecolor='black', width=0.3)\n",
    "\n",
    "#plt.bar(df_cluster_test.loc[idx1].index, np.array(df_cluster_test.loc[idx1]['CO2  per capita 2015 (KT)']).reshape(7), \n",
    "#        label='CO2', color='red', alpha=0.75, edgecolor='black', align='edge', width=0.3)\n",
    "\n",
    "plt.xticks(rotation=45, ha='right')\n",
    "\n",
    "plt.xlabel(\"Country\")\n",
    "plt.ylabel(\"USD\")\n",
    "\n",
    "plt.title(\"2015: GDP(USD) & Greenhouse gas emissions (KT) per capita of the countries\")\n",
    "plt.legend(loc=2)\n",
    "\n",
    "plt.tight_layout()\n",
    "plt.show()"
   ]
  },
  {
   "cell_type": "markdown",
   "metadata": {},
   "source": [
    "#### 'Austria', 'Belgium', 'Finland', 'Germany', 'Israel', 'Japan' and 'United Kingdom' have similarities in GDP and greenhouse gas emissions."
   ]
  },
  {
   "cell_type": "code",
   "execution_count": 76,
   "metadata": {},
   "outputs": [],
   "source": [
    "# Fitting data to create a model and forecast the CO2 emission per capita for Germany."
   ]
  },
  {
   "cell_type": "code",
   "execution_count": 77,
   "metadata": {},
   "outputs": [],
   "source": [
    "import scipy.optimize as opt"
   ]
  },
  {
   "cell_type": "code",
   "execution_count": 78,
   "metadata": {},
   "outputs": [],
   "source": [
    "greenhouse_emission_ind = 'EN.ATM.GHGT.KT.CE' #Total greenhouse gas emissions (kt of CO2 equivalent)\n",
    "\n",
    "gdp = 'NY.GDP.MKTP.CD'                # Total GDP (current USD)  "
   ]
  },
  {
   "cell_type": "code",
   "execution_count": 79,
   "metadata": {},
   "outputs": [
    {
     "data": {
      "text/html": [
       "<div>\n",
       "<style scoped>\n",
       "    .dataframe tbody tr th:only-of-type {\n",
       "        vertical-align: middle;\n",
       "    }\n",
       "\n",
       "    .dataframe tbody tr th {\n",
       "        vertical-align: top;\n",
       "    }\n",
       "\n",
       "    .dataframe thead th {\n",
       "        text-align: right;\n",
       "    }\n",
       "</style>\n",
       "<table border=\"1\" class=\"dataframe\">\n",
       "  <thead>\n",
       "    <tr style=\"text-align: right;\">\n",
       "      <th>Year</th>\n",
       "      <th>1960</th>\n",
       "      <th>1961</th>\n",
       "      <th>1962</th>\n",
       "      <th>1963</th>\n",
       "      <th>1964</th>\n",
       "      <th>1965</th>\n",
       "      <th>1966</th>\n",
       "      <th>1967</th>\n",
       "      <th>1968</th>\n",
       "      <th>1969</th>\n",
       "      <th>...</th>\n",
       "      <th>2011</th>\n",
       "      <th>2012</th>\n",
       "      <th>2013</th>\n",
       "      <th>2014</th>\n",
       "      <th>2015</th>\n",
       "      <th>2016</th>\n",
       "      <th>2017</th>\n",
       "      <th>2018</th>\n",
       "      <th>2019</th>\n",
       "      <th>2020</th>\n",
       "    </tr>\n",
       "    <tr>\n",
       "      <th>Country Name</th>\n",
       "      <th></th>\n",
       "      <th></th>\n",
       "      <th></th>\n",
       "      <th></th>\n",
       "      <th></th>\n",
       "      <th></th>\n",
       "      <th></th>\n",
       "      <th></th>\n",
       "      <th></th>\n",
       "      <th></th>\n",
       "      <th></th>\n",
       "      <th></th>\n",
       "      <th></th>\n",
       "      <th></th>\n",
       "      <th></th>\n",
       "      <th></th>\n",
       "      <th></th>\n",
       "      <th></th>\n",
       "      <th></th>\n",
       "      <th></th>\n",
       "      <th></th>\n",
       "    </tr>\n",
       "  </thead>\n",
       "  <tbody>\n",
       "    <tr>\n",
       "      <th>Aruba</th>\n",
       "      <td>NaN</td>\n",
       "      <td>NaN</td>\n",
       "      <td>NaN</td>\n",
       "      <td>NaN</td>\n",
       "      <td>NaN</td>\n",
       "      <td>NaN</td>\n",
       "      <td>NaN</td>\n",
       "      <td>NaN</td>\n",
       "      <td>NaN</td>\n",
       "      <td>NaN</td>\n",
       "      <td>...</td>\n",
       "      <td>2.549721e+09</td>\n",
       "      <td>2.534637e+09</td>\n",
       "      <td>2.727850e+09</td>\n",
       "      <td>2.790849e+09</td>\n",
       "      <td>2.962905e+09</td>\n",
       "      <td>2.983637e+09</td>\n",
       "      <td>3.092430e+09</td>\n",
       "      <td>3.202189e+09</td>\n",
       "      <td>NaN</td>\n",
       "      <td>NaN</td>\n",
       "    </tr>\n",
       "    <tr>\n",
       "      <th>Africa Eastern and Southern</th>\n",
       "      <td>2.008272e+10</td>\n",
       "      <td>2.050945e+10</td>\n",
       "      <td>2.235043e+10</td>\n",
       "      <td>2.675866e+10</td>\n",
       "      <td>2.446499e+10</td>\n",
       "      <td>2.787894e+10</td>\n",
       "      <td>3.031384e+10</td>\n",
       "      <td>3.137555e+10</td>\n",
       "      <td>3.418718e+10</td>\n",
       "      <td>3.924842e+10</td>\n",
       "      <td>...</td>\n",
       "      <td>9.433782e+11</td>\n",
       "      <td>9.505214e+11</td>\n",
       "      <td>9.642424e+11</td>\n",
       "      <td>9.848071e+11</td>\n",
       "      <td>9.199300e+11</td>\n",
       "      <td>8.733549e+11</td>\n",
       "      <td>9.853557e+11</td>\n",
       "      <td>1.012853e+12</td>\n",
       "      <td>1.009910e+12</td>\n",
       "      <td>9.207923e+11</td>\n",
       "    </tr>\n",
       "    <tr>\n",
       "      <th>Afghanistan</th>\n",
       "      <td>5.377778e+08</td>\n",
       "      <td>5.488889e+08</td>\n",
       "      <td>5.466667e+08</td>\n",
       "      <td>7.511112e+08</td>\n",
       "      <td>8.000000e+08</td>\n",
       "      <td>1.006667e+09</td>\n",
       "      <td>1.400000e+09</td>\n",
       "      <td>1.673333e+09</td>\n",
       "      <td>1.373333e+09</td>\n",
       "      <td>1.408889e+09</td>\n",
       "      <td>...</td>\n",
       "      <td>1.780511e+10</td>\n",
       "      <td>1.990732e+10</td>\n",
       "      <td>2.014640e+10</td>\n",
       "      <td>2.049713e+10</td>\n",
       "      <td>1.913421e+10</td>\n",
       "      <td>1.811656e+10</td>\n",
       "      <td>1.875347e+10</td>\n",
       "      <td>1.805323e+10</td>\n",
       "      <td>1.879945e+10</td>\n",
       "      <td>2.011614e+10</td>\n",
       "    </tr>\n",
       "    <tr>\n",
       "      <th>Africa Western and Central</th>\n",
       "      <td>1.040428e+10</td>\n",
       "      <td>1.112805e+10</td>\n",
       "      <td>1.194335e+10</td>\n",
       "      <td>1.267652e+10</td>\n",
       "      <td>1.383858e+10</td>\n",
       "      <td>1.486247e+10</td>\n",
       "      <td>1.583285e+10</td>\n",
       "      <td>1.442643e+10</td>\n",
       "      <td>1.488035e+10</td>\n",
       "      <td>1.688209e+10</td>\n",
       "      <td>...</td>\n",
       "      <td>6.709626e+11</td>\n",
       "      <td>7.275714e+11</td>\n",
       "      <td>8.207876e+11</td>\n",
       "      <td>8.649666e+11</td>\n",
       "      <td>7.607297e+11</td>\n",
       "      <td>6.905430e+11</td>\n",
       "      <td>6.837416e+11</td>\n",
       "      <td>7.416916e+11</td>\n",
       "      <td>7.945725e+11</td>\n",
       "      <td>7.845876e+11</td>\n",
       "    </tr>\n",
       "    <tr>\n",
       "      <th>Angola</th>\n",
       "      <td>NaN</td>\n",
       "      <td>NaN</td>\n",
       "      <td>NaN</td>\n",
       "      <td>NaN</td>\n",
       "      <td>NaN</td>\n",
       "      <td>NaN</td>\n",
       "      <td>NaN</td>\n",
       "      <td>NaN</td>\n",
       "      <td>NaN</td>\n",
       "      <td>NaN</td>\n",
       "      <td>...</td>\n",
       "      <td>1.117897e+11</td>\n",
       "      <td>1.280529e+11</td>\n",
       "      <td>1.367099e+11</td>\n",
       "      <td>1.457122e+11</td>\n",
       "      <td>1.161936e+11</td>\n",
       "      <td>1.011239e+11</td>\n",
       "      <td>1.221238e+11</td>\n",
       "      <td>1.013532e+11</td>\n",
       "      <td>8.941719e+10</td>\n",
       "      <td>5.837598e+10</td>\n",
       "    </tr>\n",
       "  </tbody>\n",
       "</table>\n",
       "<p>5 rows × 61 columns</p>\n",
       "</div>"
      ],
      "text/plain": [
       "Year                                 1960          1961          1962  \\\n",
       "Country Name                                                            \n",
       "Aruba                                 NaN           NaN           NaN   \n",
       "Africa Eastern and Southern  2.008272e+10  2.050945e+10  2.235043e+10   \n",
       "Afghanistan                  5.377778e+08  5.488889e+08  5.466667e+08   \n",
       "Africa Western and Central   1.040428e+10  1.112805e+10  1.194335e+10   \n",
       "Angola                                NaN           NaN           NaN   \n",
       "\n",
       "Year                                 1963          1964          1965  \\\n",
       "Country Name                                                            \n",
       "Aruba                                 NaN           NaN           NaN   \n",
       "Africa Eastern and Southern  2.675866e+10  2.446499e+10  2.787894e+10   \n",
       "Afghanistan                  7.511112e+08  8.000000e+08  1.006667e+09   \n",
       "Africa Western and Central   1.267652e+10  1.383858e+10  1.486247e+10   \n",
       "Angola                                NaN           NaN           NaN   \n",
       "\n",
       "Year                                 1966          1967          1968  \\\n",
       "Country Name                                                            \n",
       "Aruba                                 NaN           NaN           NaN   \n",
       "Africa Eastern and Southern  3.031384e+10  3.137555e+10  3.418718e+10   \n",
       "Afghanistan                  1.400000e+09  1.673333e+09  1.373333e+09   \n",
       "Africa Western and Central   1.583285e+10  1.442643e+10  1.488035e+10   \n",
       "Angola                                NaN           NaN           NaN   \n",
       "\n",
       "Year                                 1969  ...          2011          2012  \\\n",
       "Country Name                               ...                               \n",
       "Aruba                                 NaN  ...  2.549721e+09  2.534637e+09   \n",
       "Africa Eastern and Southern  3.924842e+10  ...  9.433782e+11  9.505214e+11   \n",
       "Afghanistan                  1.408889e+09  ...  1.780511e+10  1.990732e+10   \n",
       "Africa Western and Central   1.688209e+10  ...  6.709626e+11  7.275714e+11   \n",
       "Angola                                NaN  ...  1.117897e+11  1.280529e+11   \n",
       "\n",
       "Year                                 2013          2014          2015  \\\n",
       "Country Name                                                            \n",
       "Aruba                        2.727850e+09  2.790849e+09  2.962905e+09   \n",
       "Africa Eastern and Southern  9.642424e+11  9.848071e+11  9.199300e+11   \n",
       "Afghanistan                  2.014640e+10  2.049713e+10  1.913421e+10   \n",
       "Africa Western and Central   8.207876e+11  8.649666e+11  7.607297e+11   \n",
       "Angola                       1.367099e+11  1.457122e+11  1.161936e+11   \n",
       "\n",
       "Year                                 2016          2017          2018  \\\n",
       "Country Name                                                            \n",
       "Aruba                        2.983637e+09  3.092430e+09  3.202189e+09   \n",
       "Africa Eastern and Southern  8.733549e+11  9.853557e+11  1.012853e+12   \n",
       "Afghanistan                  1.811656e+10  1.875347e+10  1.805323e+10   \n",
       "Africa Western and Central   6.905430e+11  6.837416e+11  7.416916e+11   \n",
       "Angola                       1.011239e+11  1.221238e+11  1.013532e+11   \n",
       "\n",
       "Year                                 2019          2020  \n",
       "Country Name                                             \n",
       "Aruba                                 NaN           NaN  \n",
       "Africa Eastern and Southern  1.009910e+12  9.207923e+11  \n",
       "Afghanistan                  1.879945e+10  2.011614e+10  \n",
       "Africa Western and Central   7.945725e+11  7.845876e+11  \n",
       "Angola                       8.941719e+10  5.837598e+10  \n",
       "\n",
       "[5 rows x 61 columns]"
      ]
     },
     "execution_count": 79,
     "metadata": {},
     "output_type": "execute_result"
    }
   ],
   "source": [
    "countries_gdp = wb_data(gdp, 1)\n",
    "\n",
    "country_code_to_name(countries_gdp[0])\n",
    "\n",
    "countries_gdp[0].head()"
   ]
  },
  {
   "cell_type": "code",
   "execution_count": 98,
   "metadata": {},
   "outputs": [
    {
     "data": {
      "text/html": [
       "<div>\n",
       "<style scoped>\n",
       "    .dataframe tbody tr th:only-of-type {\n",
       "        vertical-align: middle;\n",
       "    }\n",
       "\n",
       "    .dataframe tbody tr th {\n",
       "        vertical-align: top;\n",
       "    }\n",
       "\n",
       "    .dataframe thead th {\n",
       "        text-align: right;\n",
       "    }\n",
       "</style>\n",
       "<table border=\"1\" class=\"dataframe\">\n",
       "  <thead>\n",
       "    <tr style=\"text-align: right;\">\n",
       "      <th></th>\n",
       "      <th>Year</th>\n",
       "      <th>Germany Total GDP (USD)</th>\n",
       "    </tr>\n",
       "  </thead>\n",
       "  <tbody>\n",
       "    <tr>\n",
       "      <th>10</th>\n",
       "      <td>1970</td>\n",
       "      <td>2.158384e+11</td>\n",
       "    </tr>\n",
       "    <tr>\n",
       "      <th>11</th>\n",
       "      <td>1971</td>\n",
       "      <td>2.499851e+11</td>\n",
       "    </tr>\n",
       "    <tr>\n",
       "      <th>12</th>\n",
       "      <td>1972</td>\n",
       "      <td>2.998015e+11</td>\n",
       "    </tr>\n",
       "    <tr>\n",
       "      <th>13</th>\n",
       "      <td>1973</td>\n",
       "      <td>3.983740e+11</td>\n",
       "    </tr>\n",
       "    <tr>\n",
       "      <th>14</th>\n",
       "      <td>1974</td>\n",
       "      <td>4.453035e+11</td>\n",
       "    </tr>\n",
       "  </tbody>\n",
       "</table>\n",
       "</div>"
      ],
      "text/plain": [
       "    Year  Germany Total GDP (USD)\n",
       "10  1970             2.158384e+11\n",
       "11  1971             2.499851e+11\n",
       "12  1972             2.998015e+11\n",
       "13  1973             3.983740e+11\n",
       "14  1974             4.453035e+11"
      ]
     },
     "execution_count": 98,
     "metadata": {},
     "output_type": "execute_result"
    }
   ],
   "source": [
    "# GDP dataframe for United Kingdom\n",
    "\n",
    "ger_gdp = countries_gdp[0].loc['Germany']\n",
    "\n",
    "ger_gdp = ger_gdp.reset_index()\n",
    "\n",
    "ger_gdp = ger_gdp.dropna()\n",
    "\n",
    "ger_gdp.rename(columns={'Germany':'Germany Total GDP (USD)'}, inplace=True)\n",
    "\n",
    "ger_gdp.head()"
   ]
  },
  {
   "cell_type": "code",
   "execution_count": 81,
   "metadata": {},
   "outputs": [
    {
     "data": {
      "text/plain": [
       "<AxesSubplot:xlabel='Year'>"
      ]
     },
     "execution_count": 81,
     "metadata": {},
     "output_type": "execute_result"
    },
    {
     "data": {
      "image/png": "[encoded data removed]",
      "text/plain": [
       "<Figure size 432x288 with 1 Axes>"
      ]
     },
     "metadata": {
      "needs_background": "light"
     },
     "output_type": "display_data"
    }
   ],
   "source": [
    "ger_gdp.plot('Year', 'Germany Total GDP (USD)')"
   ]
  },
  {
   "cell_type": "code",
   "execution_count": 106,
   "metadata": {},
   "outputs": [],
   "source": [
    "# Fitting the GDP curve"
   ]
  },
  {
   "cell_type": "code",
   "execution_count": 143,
   "metadata": {},
   "outputs": [],
   "source": [
    "def exponential(t, n0, g):\n",
    "    \"\"\"Calculates exponential function with scale factor n0 and growth rate g.\"\"\"\n",
    "    \n",
    "    t = t - 1970.0\n",
    "    f = n0 * np.exp(g*t)\n",
    "    \n",
    "    return f"
   ]
  },
  {
   "cell_type": "code",
   "execution_count": 144,
   "metadata": {},
   "outputs": [],
   "source": [
    "ger_gdp[\"Year\"] = pd.to_numeric(ger_gdp[\"Year\"])\n",
    "\n",
    "param, covar = opt.curve_fit(exponential, ger_gdp[\"Year\"], ger_gdp['Germany Total GDP (USD)'], \n",
    "                             p0=(2.158384e+11, 0.2))"
   ]
  },
  {
   "cell_type": "code",
   "execution_count": 145,
   "metadata": {},
   "outputs": [
    {
     "name": "stdout",
     "output_type": "stream",
     "text": [
      "725108348125.8024 0.03665992968252029\n"
     ]
    }
   ],
   "source": [
    "print(*param)"
   ]
  },
  {
   "cell_type": "code",
   "execution_count": 147,
   "metadata": {
    "scrolled": false
   },
   "outputs": [
    {
     "data": {
      "image/png": "[encoded data removed]",
      "text/plain": [
       "<Figure size 432x288 with 1 Axes>"
      ]
     },
     "metadata": {
      "needs_background": "light"
     },
     "output_type": "display_data"
    }
   ],
   "source": [
    "ger_gdp[\"fit\"] = exponential(ger_gdp[\"Year\"], *param)\n",
    "\n",
    "ger_gdp.plot(\"Year\", [\"Germany Total GDP (USD)\", \"fit\"])\n",
    "plt.show()"
   ]
  },
  {
   "cell_type": "code",
   "execution_count": 148,
   "metadata": {
    "scrolled": true
   },
   "outputs": [
    {
     "data": {
      "image/png": "[encoded data removed]",
      "text/plain": [
       "<Figure size 432x288 with 1 Axes>"
      ]
     },
     "metadata": {
      "needs_background": "light"
     },
     "output_type": "display_data"
    }
   ],
   "source": [
    "param, covar = opt.curve_fit(exponential, ger_gdp[\"Year\"], ger_gdp['Germany Total GDP (USD)'], \n",
    "                             p0=(502557454010.45966, 0.03666017550937027))\n",
    "\n",
    "ger_gdp[\"fit\"] = exponential(ger_gdp[\"Year\"], *param)\n",
    "\n",
    "ger_gdp.plot(\"Year\", [\"Germany Total GDP (USD)\", \"fit\"])\n",
    "plt.show()"
   ]
  },
  {
   "cell_type": "code",
   "execution_count": 149,
   "metadata": {},
   "outputs": [
    {
     "data": {
      "text/plain": [
       "array([7.25103568e+11, 3.66601027e-02])"
      ]
     },
     "execution_count": 149,
     "metadata": {},
     "output_type": "execute_result"
    }
   ],
   "source": [
    "param"
   ]
  },
  {
   "cell_type": "code",
   "execution_count": 117,
   "metadata": {},
   "outputs": [],
   "source": [
    "# The explnential function isn't showing a good fit"
   ]
  },
  {
   "cell_type": "code",
   "execution_count": 150,
   "metadata": {},
   "outputs": [],
   "source": [
    "def logistic(t, n0, g, t0):\n",
    "    \"\"\"Calculates the logistic function with scale factor n0 and growth rate g\"\"\"\n",
    "    \n",
    "    f = n0 / (1 + np.exp(-g*(t - t0)))\n",
    "    \n",
    "    return f"
   ]
  },
  {
   "cell_type": "code",
   "execution_count": 156,
   "metadata": {},
   "outputs": [],
   "source": [
    "param, covar = opt.curve_fit(logistic, ger_gdp['Year'], ger_gdp['Germany Total GDP (USD)'], \n",
    "                             p0=(3e12, 0.03, 2007.0))"
   ]
  },
  {
   "cell_type": "code",
   "execution_count": 158,
   "metadata": {
    "scrolled": true
   },
   "outputs": [
    {
     "data": {
      "image/png": "[encoded data removed]",
      "text/plain": [
       "<Figure size 432x288 with 1 Axes>"
      ]
     },
     "metadata": {
      "needs_background": "light"
     },
     "output_type": "display_data"
    }
   ],
   "source": [
    "ger_gdp[\"fit_log\"] = logistic(ger_gdp[\"Year\"], *param)\n",
    "\n",
    "ger_gdp.plot(\"Year\", [\"Germany Total GDP (USD)\", \"fit\"])\n",
    "plt.show()"
   ]
  },
  {
   "cell_type": "code",
   "execution_count": 155,
   "metadata": {},
   "outputs": [],
   "source": [
    "def err_ranges(x, func, param, sigma):\n",
    "    \"\"\"\n",
    "    Calculates the upper and lower limits for the function, parameters and\n",
    "    sigmas for single value or array x. Functions values are calculated for \n",
    "    all combinations of +/- sigma and the minimum and maximum is determined.\n",
    "    Can be used for all number of parameters and sigmas >=1.\n",
    "    \n",
    "    This routine can be used in assignment programs.\n",
    "    \"\"\"\n",
    "\n",
    "    import itertools as iter\n",
    "    \n",
    "    # initiate arrays for lower and upper limits\n",
    "    lower = func(x, *param)\n",
    "    upper = lower\n",
    "    \n",
    "    uplow = []   # list to hold upper and lower limits for parameters\n",
    "    for p,s in zip(param, sigma):\n",
    "        pmin = p - s\n",
    "        pmax = p + s\n",
    "        uplow.append((pmin, pmax))\n",
    "        \n",
    "    pmix = list(iter.product(*uplow))\n",
    "    \n",
    "    for p in pmix:\n",
    "        y = func(x, *p)\n",
    "        lower = np.minimum(lower, y)\n",
    "        upper = np.maximum(upper, y)\n",
    "        \n",
    "    return lower, upper"
   ]
  },
  {
   "cell_type": "code",
   "execution_count": 197,
   "metadata": {},
   "outputs": [
    {
     "name": "stdout",
     "output_type": "stream",
     "text": [
      "[2.57058369e+11 8.69775199e-03 1.71220115e+00]\n"
     ]
    },
    {
     "data": {
      "image/png": "[encoded data removed]",
      "text/plain": [
       "<Figure size 576x432 with 1 Axes>"
      ]
     },
     "metadata": {
      "needs_background": "light"
     },
     "output_type": "display_data"
    }
   ],
   "source": [
    "# extract the sigmas from the diagonal of the covariance matrix\n",
    "sigma = np.sqrt(np.diag(covar))\n",
    "print(sigma)\n",
    "\n",
    "low, up = err_ranges(ger_gdp['Year'], logistic, param, sigma)\n",
    "\n",
    "plt.figure(figsize=(8,6))\n",
    "plt.title(\"Curve fitting using logistic function\")\n",
    "plt.plot(ger_gdp['Year'], ger_gdp['Germany Total GDP (USD)'], color='#008B8B', label=\"data\")\n",
    "plt.plot(ger_gdp['Year'], ger_gdp[\"fit_log\"], color='#663399', label=\"fit\")\n",
    "\n",
    "plt.fill_between(ger_gdp['Year'], low, up, color='#49413F', alpha=0.15)\n",
    "plt.legend()\n",
    "plt.xlabel(\"Year\")\n",
    "plt.ylabel(\"Total GDP (USD)\")\n",
    "plt.show()"
   ]
  },
  {
   "cell_type": "code",
   "execution_count": 166,
   "metadata": {},
   "outputs": [
    {
     "name": "stdout",
     "output_type": "stream",
     "text": [
      "Forcasted GDP\n",
      "2030 between  3828388672471.7256 and 4483500870272.654\n",
      "2040 between  3977147718411.175 and 4564777770384.942\n",
      "2050 between  4045072602625.441 and 4595027780522.81\n"
     ]
    }
   ],
   "source": [
    "print(\"Forcasted GDP\")\n",
    "low, up = err_ranges(2030, logistic, param, sigma)\n",
    "print(\"2030 between \", low, \"and\", up)\n",
    "low, up = err_ranges(2040, logistic, param, sigma)\n",
    "print(\"2040 between \", low, \"and\", up)\n",
    "low, up = err_ranges(2050, logistic, param, sigma)\n",
    "print(\"2050 between \", low, \"and\", up)"
   ]
  },
  {
   "cell_type": "code",
   "execution_count": 82,
   "metadata": {},
   "outputs": [],
   "source": [
    "# CO2 dataframe for United Kingdom\n",
    "\n",
    "countries_co2 = wb_data(greenhouse_emission_ind, 1)\n",
    "\n",
    "country_code_to_name(countries_co2[0])\n",
    "\n",
    "ger_co2 = countries_co2[0].loc['Germany']\n",
    "\n",
    "ger_co2 = ger_co2.reset_index()"
   ]
  },
  {
   "cell_type": "code",
   "execution_count": 83,
   "metadata": {},
   "outputs": [],
   "source": [
    "ger_co2 = ger_co2.dropna()"
   ]
  },
  {
   "cell_type": "code",
   "execution_count": 97,
   "metadata": {},
   "outputs": [
    {
     "data": {
      "text/html": [
       "<div>\n",
       "<style scoped>\n",
       "    .dataframe tbody tr th:only-of-type {\n",
       "        vertical-align: middle;\n",
       "    }\n",
       "\n",
       "    .dataframe tbody tr th {\n",
       "        vertical-align: top;\n",
       "    }\n",
       "\n",
       "    .dataframe thead th {\n",
       "        text-align: right;\n",
       "    }\n",
       "</style>\n",
       "<table border=\"1\" class=\"dataframe\">\n",
       "  <thead>\n",
       "    <tr style=\"text-align: right;\">\n",
       "      <th></th>\n",
       "      <th>Year</th>\n",
       "      <th>Germany Total CO2 (KT)</th>\n",
       "    </tr>\n",
       "  </thead>\n",
       "  <tbody>\n",
       "    <tr>\n",
       "      <th>30</th>\n",
       "      <td>1990</td>\n",
       "      <td>1160210.0</td>\n",
       "    </tr>\n",
       "    <tr>\n",
       "      <th>31</th>\n",
       "      <td>1991</td>\n",
       "      <td>1130620.0</td>\n",
       "    </tr>\n",
       "    <tr>\n",
       "      <th>32</th>\n",
       "      <td>1992</td>\n",
       "      <td>1082930.0</td>\n",
       "    </tr>\n",
       "    <tr>\n",
       "      <th>33</th>\n",
       "      <td>1993</td>\n",
       "      <td>1075230.0</td>\n",
       "    </tr>\n",
       "    <tr>\n",
       "      <th>34</th>\n",
       "      <td>1994</td>\n",
       "      <td>1062350.0</td>\n",
       "    </tr>\n",
       "  </tbody>\n",
       "</table>\n",
       "</div>"
      ],
      "text/plain": [
       "    Year  Germany Total CO2 (KT)\n",
       "30  1990               1160210.0\n",
       "31  1991               1130620.0\n",
       "32  1992               1082930.0\n",
       "33  1993               1075230.0\n",
       "34  1994               1062350.0"
      ]
     },
     "execution_count": 97,
     "metadata": {},
     "output_type": "execute_result"
    }
   ],
   "source": [
    "ger_co2.rename(columns={'Germany':'Germany Total CO2 (KT)'}, inplace=True)\n",
    "ger_co2.head()"
   ]
  },
  {
   "cell_type": "code",
   "execution_count": 85,
   "metadata": {},
   "outputs": [
    {
     "data": {
      "text/plain": [
       "<AxesSubplot:xlabel='Year'>"
      ]
     },
     "execution_count": 85,
     "metadata": {},
     "output_type": "execute_result"
    },
    {
     "data": {
      "image/png": "[encoded data removed]",
      "text/plain": [
       "<Figure size 432x288 with 1 Axes>"
      ]
     },
     "metadata": {
      "needs_background": "light"
     },
     "output_type": "display_data"
    }
   ],
   "source": [
    "ger_co2.plot('Year', 'Germany Total CO2 (KT)')"
   ]
  }
 ],
 "metadata": {
  "kernelspec": {
   "display_name": "Python 3 (ipykernel)",
   "language": "python",
   "name": "python3"
  },
  "language_info": {
   "codemirror_mode": {
    "name": "ipython",
    "version": 3
   },
   "file_extension": ".py",
   "mimetype": "text/x-python",
   "name": "python",
   "nbconvert_exporter": "python",
   "pygments_lexer": "ipython3",
   "version": "3.9.7"
  }
 },
 "nbformat": 4,
 "nbformat_minor": 4
}
