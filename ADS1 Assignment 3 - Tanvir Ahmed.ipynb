{
 "cells": [
  {
   "cell_type": "markdown",
   "metadata": {},
   "source": [
    "#### ADS1 Assignment 3\n",
    "\n",
    "**Tanvir Ahmed, 20075186**"
   ]
  },
  {
   "cell_type": "code",
   "execution_count": 1,
   "metadata": {},
   "outputs": [],
   "source": [
    "import numpy as np\n",
    "import pandas as pd\n",
    "import matplotlib.pyplot as plt\n",
    "import seaborn as sns\n",
    "%matplotlib inline"
   ]
  },
  {
   "cell_type": "markdown",
   "metadata": {},
   "source": [
    "#### Using WBGAPI importing World Bank data on climate change"
   ]
  },
  {
   "cell_type": "code",
   "execution_count": 2,
   "metadata": {},
   "outputs": [],
   "source": [
    "import wbgapi as wb         #importing wbgapi as wb \n",
    "\n",
    "# To install this API, please run pip install wbgapi"
   ]
  },
  {
   "cell_type": "code",
   "execution_count": 3,
   "metadata": {},
   "outputs": [],
   "source": [
    "#             https://data.worldbank.org/indicator/EN.ATM.GHGT.KT.CE\n",
    "\n",
    "# Indicator ID for Total greenhouse gas emissions (kt of CO2 equivalent) is 'EN.ATM.GHGT.KT.CE'\n",
    "\n",
    "greenhouse_emission_ind = 'EN.ATM.GHGT.KT.CE' #assigning the ID to a variable"
   ]
  },
  {
   "cell_type": "code",
   "execution_count": 4,
   "metadata": {},
   "outputs": [],
   "source": [
    "def wb_data(indicator_id):\n",
    "    \"\"\"\n",
    "    This function imports data from the World Bank website for the selected\n",
    "    indicator and saves as a dataframe in the World Bank data format and it's transposed format. \n",
    "    The years are between 1950 and 2021 with 5 years increment.  \n",
    "    Argument = indicator ID as string\n",
    "    \"\"\"\n",
    "    \n",
    "    df = wb.data.DataFrame(indicator_id, time=range(1950, 2021, 5))\n",
    "    \n",
    "    df.index.name = 'Country'\n",
    "    df.columns.name = 'Year'\n",
    "    df.columns = df.columns.str.replace(\"YR\",\"\")\n",
    "    \n",
    "    return(df, df.T)"
   ]
  },
  {
   "cell_type": "code",
   "execution_count": 5,
   "metadata": {},
   "outputs": [],
   "source": [
    "df_CO2 = wb_data(greenhouse_emission_ind)"
   ]
  },
  {
   "cell_type": "code",
   "execution_count": 6,
   "metadata": {},
   "outputs": [
    {
     "data": {
      "text/html": [
       "<div>\n",
       "<style scoped>\n",
       "    .dataframe tbody tr th:only-of-type {\n",
       "        vertical-align: middle;\n",
       "    }\n",
       "\n",
       "    .dataframe tbody tr th {\n",
       "        vertical-align: top;\n",
       "    }\n",
       "\n",
       "    .dataframe thead th {\n",
       "        text-align: right;\n",
       "    }\n",
       "</style>\n",
       "<table border=\"1\" class=\"dataframe\">\n",
       "  <thead>\n",
       "    <tr style=\"text-align: right;\">\n",
       "      <th>Year</th>\n",
       "      <th>1960</th>\n",
       "      <th>1965</th>\n",
       "      <th>1970</th>\n",
       "      <th>1975</th>\n",
       "      <th>1980</th>\n",
       "      <th>1985</th>\n",
       "      <th>1990</th>\n",
       "      <th>1995</th>\n",
       "      <th>2000</th>\n",
       "      <th>2005</th>\n",
       "      <th>2010</th>\n",
       "      <th>2015</th>\n",
       "      <th>2020</th>\n",
       "    </tr>\n",
       "    <tr>\n",
       "      <th>Country</th>\n",
       "      <th></th>\n",
       "      <th></th>\n",
       "      <th></th>\n",
       "      <th></th>\n",
       "      <th></th>\n",
       "      <th></th>\n",
       "      <th></th>\n",
       "      <th></th>\n",
       "      <th></th>\n",
       "      <th></th>\n",
       "      <th></th>\n",
       "      <th></th>\n",
       "      <th></th>\n",
       "    </tr>\n",
       "  </thead>\n",
       "  <tbody>\n",
       "    <tr>\n",
       "      <th>ABW</th>\n",
       "      <td>NaN</td>\n",
       "      <td>NaN</td>\n",
       "      <td>NaN</td>\n",
       "      <td>NaN</td>\n",
       "      <td>NaN</td>\n",
       "      <td>NaN</td>\n",
       "      <td>NaN</td>\n",
       "      <td>NaN</td>\n",
       "      <td>NaN</td>\n",
       "      <td>NaN</td>\n",
       "      <td>NaN</td>\n",
       "      <td>NaN</td>\n",
       "      <td>NaN</td>\n",
       "    </tr>\n",
       "    <tr>\n",
       "      <th>AFE</th>\n",
       "      <td>NaN</td>\n",
       "      <td>NaN</td>\n",
       "      <td>2.512439e+06</td>\n",
       "      <td>1.908922e+06</td>\n",
       "      <td>2.213255e+06</td>\n",
       "      <td>1.559561e+06</td>\n",
       "      <td>838050.0</td>\n",
       "      <td>895540.0</td>\n",
       "      <td>948360.0</td>\n",
       "      <td>1154760.0</td>\n",
       "      <td>1335490.0</td>\n",
       "      <td>1436770.0</td>\n",
       "      <td>NaN</td>\n",
       "    </tr>\n",
       "    <tr>\n",
       "      <th>AFG</th>\n",
       "      <td>NaN</td>\n",
       "      <td>NaN</td>\n",
       "      <td>NaN</td>\n",
       "      <td>NaN</td>\n",
       "      <td>NaN</td>\n",
       "      <td>NaN</td>\n",
       "      <td>15180.0</td>\n",
       "      <td>13480.0</td>\n",
       "      <td>15080.0</td>\n",
       "      <td>17400.0</td>\n",
       "      <td>44910.0</td>\n",
       "      <td>93730.0</td>\n",
       "      <td>NaN</td>\n",
       "    </tr>\n",
       "    <tr>\n",
       "      <th>AFW</th>\n",
       "      <td>NaN</td>\n",
       "      <td>NaN</td>\n",
       "      <td>6.327455e+05</td>\n",
       "      <td>6.007661e+05</td>\n",
       "      <td>8.132658e+05</td>\n",
       "      <td>6.818932e+05</td>\n",
       "      <td>398170.0</td>\n",
       "      <td>526710.0</td>\n",
       "      <td>553740.0</td>\n",
       "      <td>650720.0</td>\n",
       "      <td>690440.0</td>\n",
       "      <td>805370.0</td>\n",
       "      <td>NaN</td>\n",
       "    </tr>\n",
       "    <tr>\n",
       "      <th>AGO</th>\n",
       "      <td>NaN</td>\n",
       "      <td>NaN</td>\n",
       "      <td>NaN</td>\n",
       "      <td>NaN</td>\n",
       "      <td>NaN</td>\n",
       "      <td>NaN</td>\n",
       "      <td>42180.0</td>\n",
       "      <td>48460.0</td>\n",
       "      <td>49590.0</td>\n",
       "      <td>67230.0</td>\n",
       "      <td>84120.0</td>\n",
       "      <td>90620.0</td>\n",
       "      <td>NaN</td>\n",
       "    </tr>\n",
       "  </tbody>\n",
       "</table>\n",
       "</div>"
      ],
      "text/plain": [
       "Year     1960  1965          1970          1975          1980          1985  \\\n",
       "Country                                                                       \n",
       "ABW       NaN   NaN           NaN           NaN           NaN           NaN   \n",
       "AFE       NaN   NaN  2.512439e+06  1.908922e+06  2.213255e+06  1.559561e+06   \n",
       "AFG       NaN   NaN           NaN           NaN           NaN           NaN   \n",
       "AFW       NaN   NaN  6.327455e+05  6.007661e+05  8.132658e+05  6.818932e+05   \n",
       "AGO       NaN   NaN           NaN           NaN           NaN           NaN   \n",
       "\n",
       "Year         1990      1995      2000       2005       2010       2015  2020  \n",
       "Country                                                                       \n",
       "ABW           NaN       NaN       NaN        NaN        NaN        NaN   NaN  \n",
       "AFE      838050.0  895540.0  948360.0  1154760.0  1335490.0  1436770.0   NaN  \n",
       "AFG       15180.0   13480.0   15080.0    17400.0    44910.0    93730.0   NaN  \n",
       "AFW      398170.0  526710.0  553740.0   650720.0   690440.0   805370.0   NaN  \n",
       "AGO       42180.0   48460.0   49590.0    67230.0    84120.0    90620.0   NaN  "
      ]
     },
     "execution_count": 6,
     "metadata": {},
     "output_type": "execute_result"
    }
   ],
   "source": [
    "df_CO2[0].head(5) # The first dataframe in the World Bank format"
   ]
  },
  {
   "cell_type": "code",
   "execution_count": 7,
   "metadata": {
    "scrolled": true
   },
   "outputs": [
    {
     "data": {
      "text/html": [
       "<div>\n",
       "<style scoped>\n",
       "    .dataframe tbody tr th:only-of-type {\n",
       "        vertical-align: middle;\n",
       "    }\n",
       "\n",
       "    .dataframe tbody tr th {\n",
       "        vertical-align: top;\n",
       "    }\n",
       "\n",
       "    .dataframe thead th {\n",
       "        text-align: right;\n",
       "    }\n",
       "</style>\n",
       "<table border=\"1\" class=\"dataframe\">\n",
       "  <thead>\n",
       "    <tr style=\"text-align: right;\">\n",
       "      <th>Country</th>\n",
       "      <th>ABW</th>\n",
       "      <th>AFE</th>\n",
       "      <th>AFG</th>\n",
       "      <th>AFW</th>\n",
       "      <th>AGO</th>\n",
       "      <th>ALB</th>\n",
       "      <th>AND</th>\n",
       "      <th>ARB</th>\n",
       "      <th>ARE</th>\n",
       "      <th>ARG</th>\n",
       "      <th>...</th>\n",
       "      <th>VIR</th>\n",
       "      <th>VNM</th>\n",
       "      <th>VUT</th>\n",
       "      <th>WLD</th>\n",
       "      <th>WSM</th>\n",
       "      <th>XKX</th>\n",
       "      <th>YEM</th>\n",
       "      <th>ZAF</th>\n",
       "      <th>ZMB</th>\n",
       "      <th>ZWE</th>\n",
       "    </tr>\n",
       "    <tr>\n",
       "      <th>Year</th>\n",
       "      <th></th>\n",
       "      <th></th>\n",
       "      <th></th>\n",
       "      <th></th>\n",
       "      <th></th>\n",
       "      <th></th>\n",
       "      <th></th>\n",
       "      <th></th>\n",
       "      <th></th>\n",
       "      <th></th>\n",
       "      <th></th>\n",
       "      <th></th>\n",
       "      <th></th>\n",
       "      <th></th>\n",
       "      <th></th>\n",
       "      <th></th>\n",
       "      <th></th>\n",
       "      <th></th>\n",
       "      <th></th>\n",
       "      <th></th>\n",
       "      <th></th>\n",
       "    </tr>\n",
       "  </thead>\n",
       "  <tbody>\n",
       "    <tr>\n",
       "      <th>1960</th>\n",
       "      <td>NaN</td>\n",
       "      <td>NaN</td>\n",
       "      <td>NaN</td>\n",
       "      <td>NaN</td>\n",
       "      <td>NaN</td>\n",
       "      <td>NaN</td>\n",
       "      <td>NaN</td>\n",
       "      <td>NaN</td>\n",
       "      <td>NaN</td>\n",
       "      <td>NaN</td>\n",
       "      <td>...</td>\n",
       "      <td>NaN</td>\n",
       "      <td>NaN</td>\n",
       "      <td>NaN</td>\n",
       "      <td>NaN</td>\n",
       "      <td>NaN</td>\n",
       "      <td>NaN</td>\n",
       "      <td>NaN</td>\n",
       "      <td>NaN</td>\n",
       "      <td>NaN</td>\n",
       "      <td>NaN</td>\n",
       "    </tr>\n",
       "    <tr>\n",
       "      <th>1965</th>\n",
       "      <td>NaN</td>\n",
       "      <td>NaN</td>\n",
       "      <td>NaN</td>\n",
       "      <td>NaN</td>\n",
       "      <td>NaN</td>\n",
       "      <td>NaN</td>\n",
       "      <td>NaN</td>\n",
       "      <td>NaN</td>\n",
       "      <td>NaN</td>\n",
       "      <td>NaN</td>\n",
       "      <td>...</td>\n",
       "      <td>NaN</td>\n",
       "      <td>NaN</td>\n",
       "      <td>NaN</td>\n",
       "      <td>NaN</td>\n",
       "      <td>NaN</td>\n",
       "      <td>NaN</td>\n",
       "      <td>NaN</td>\n",
       "      <td>NaN</td>\n",
       "      <td>NaN</td>\n",
       "      <td>NaN</td>\n",
       "    </tr>\n",
       "    <tr>\n",
       "      <th>1970</th>\n",
       "      <td>NaN</td>\n",
       "      <td>2.512439e+06</td>\n",
       "      <td>NaN</td>\n",
       "      <td>632745.499853</td>\n",
       "      <td>NaN</td>\n",
       "      <td>NaN</td>\n",
       "      <td>NaN</td>\n",
       "      <td>552362.062026</td>\n",
       "      <td>NaN</td>\n",
       "      <td>NaN</td>\n",
       "      <td>...</td>\n",
       "      <td>NaN</td>\n",
       "      <td>NaN</td>\n",
       "      <td>NaN</td>\n",
       "      <td>2.705717e+07</td>\n",
       "      <td>NaN</td>\n",
       "      <td>NaN</td>\n",
       "      <td>NaN</td>\n",
       "      <td>NaN</td>\n",
       "      <td>NaN</td>\n",
       "      <td>NaN</td>\n",
       "    </tr>\n",
       "    <tr>\n",
       "      <th>1975</th>\n",
       "      <td>NaN</td>\n",
       "      <td>1.908922e+06</td>\n",
       "      <td>NaN</td>\n",
       "      <td>600766.122089</td>\n",
       "      <td>NaN</td>\n",
       "      <td>NaN</td>\n",
       "      <td>NaN</td>\n",
       "      <td>683966.235399</td>\n",
       "      <td>NaN</td>\n",
       "      <td>NaN</td>\n",
       "      <td>...</td>\n",
       "      <td>NaN</td>\n",
       "      <td>NaN</td>\n",
       "      <td>NaN</td>\n",
       "      <td>2.824575e+07</td>\n",
       "      <td>NaN</td>\n",
       "      <td>NaN</td>\n",
       "      <td>NaN</td>\n",
       "      <td>NaN</td>\n",
       "      <td>NaN</td>\n",
       "      <td>NaN</td>\n",
       "    </tr>\n",
       "    <tr>\n",
       "      <th>1980</th>\n",
       "      <td>NaN</td>\n",
       "      <td>2.213255e+06</td>\n",
       "      <td>NaN</td>\n",
       "      <td>813265.777979</td>\n",
       "      <td>NaN</td>\n",
       "      <td>NaN</td>\n",
       "      <td>NaN</td>\n",
       "      <td>927714.236940</td>\n",
       "      <td>NaN</td>\n",
       "      <td>NaN</td>\n",
       "      <td>...</td>\n",
       "      <td>NaN</td>\n",
       "      <td>NaN</td>\n",
       "      <td>NaN</td>\n",
       "      <td>3.279410e+07</td>\n",
       "      <td>NaN</td>\n",
       "      <td>NaN</td>\n",
       "      <td>NaN</td>\n",
       "      <td>NaN</td>\n",
       "      <td>NaN</td>\n",
       "      <td>NaN</td>\n",
       "    </tr>\n",
       "  </tbody>\n",
       "</table>\n",
       "<p>5 rows × 266 columns</p>\n",
       "</div>"
      ],
      "text/plain": [
       "Country  ABW           AFE  AFG            AFW  AGO  ALB  AND            ARB  \\\n",
       "Year                                                                           \n",
       "1960     NaN           NaN  NaN            NaN  NaN  NaN  NaN            NaN   \n",
       "1965     NaN           NaN  NaN            NaN  NaN  NaN  NaN            NaN   \n",
       "1970     NaN  2.512439e+06  NaN  632745.499853  NaN  NaN  NaN  552362.062026   \n",
       "1975     NaN  1.908922e+06  NaN  600766.122089  NaN  NaN  NaN  683966.235399   \n",
       "1980     NaN  2.213255e+06  NaN  813265.777979  NaN  NaN  NaN  927714.236940   \n",
       "\n",
       "Country  ARE  ARG  ...  VIR  VNM  VUT           WLD  WSM  XKX  YEM  ZAF  ZMB  \\\n",
       "Year               ...                                                         \n",
       "1960     NaN  NaN  ...  NaN  NaN  NaN           NaN  NaN  NaN  NaN  NaN  NaN   \n",
       "1965     NaN  NaN  ...  NaN  NaN  NaN           NaN  NaN  NaN  NaN  NaN  NaN   \n",
       "1970     NaN  NaN  ...  NaN  NaN  NaN  2.705717e+07  NaN  NaN  NaN  NaN  NaN   \n",
       "1975     NaN  NaN  ...  NaN  NaN  NaN  2.824575e+07  NaN  NaN  NaN  NaN  NaN   \n",
       "1980     NaN  NaN  ...  NaN  NaN  NaN  3.279410e+07  NaN  NaN  NaN  NaN  NaN   \n",
       "\n",
       "Country  ZWE  \n",
       "Year          \n",
       "1960     NaN  \n",
       "1965     NaN  \n",
       "1970     NaN  \n",
       "1975     NaN  \n",
       "1980     NaN  \n",
       "\n",
       "[5 rows x 266 columns]"
      ]
     },
     "execution_count": 7,
     "metadata": {},
     "output_type": "execute_result"
    }
   ],
   "source": [
    "df_CO2[1].head(5) # The second dataframe with countries as columns"
   ]
  },
  {
   "cell_type": "code",
   "execution_count": 8,
   "metadata": {
    "scrolled": false
   },
   "outputs": [
    {
     "data": {
      "text/html": [
       "<div>\n",
       "<style scoped>\n",
       "    .dataframe tbody tr th:only-of-type {\n",
       "        vertical-align: middle;\n",
       "    }\n",
       "\n",
       "    .dataframe tbody tr th {\n",
       "        vertical-align: top;\n",
       "    }\n",
       "\n",
       "    .dataframe thead th {\n",
       "        text-align: right;\n",
       "    }\n",
       "</style>\n",
       "<table border=\"1\" class=\"dataframe\">\n",
       "  <thead>\n",
       "    <tr style=\"text-align: right;\">\n",
       "      <th></th>\n",
       "      <th>Country Name</th>\n",
       "      <th>Country Code</th>\n",
       "    </tr>\n",
       "  </thead>\n",
       "  <tbody>\n",
       "    <tr>\n",
       "      <th>0</th>\n",
       "      <td>Aruba</td>\n",
       "      <td>ABW</td>\n",
       "    </tr>\n",
       "    <tr>\n",
       "      <th>1</th>\n",
       "      <td>Africa Eastern and Southern</td>\n",
       "      <td>AFE</td>\n",
       "    </tr>\n",
       "    <tr>\n",
       "      <th>2</th>\n",
       "      <td>Afghanistan</td>\n",
       "      <td>AFG</td>\n",
       "    </tr>\n",
       "    <tr>\n",
       "      <th>3</th>\n",
       "      <td>Africa Western and Central</td>\n",
       "      <td>AFW</td>\n",
       "    </tr>\n",
       "    <tr>\n",
       "      <th>4</th>\n",
       "      <td>Angola</td>\n",
       "      <td>AGO</td>\n",
       "    </tr>\n",
       "  </tbody>\n",
       "</table>\n",
       "</div>"
      ],
      "text/plain": [
       "                  Country Name Country Code\n",
       "0                        Aruba          ABW\n",
       "1  Africa Eastern and Southern          AFE\n",
       "2                  Afghanistan          AFG\n",
       "3   Africa Western and Central          AFW\n",
       "4                       Angola          AGO"
      ]
     },
     "execution_count": 8,
     "metadata": {},
     "output_type": "execute_result"
    }
   ],
   "source": [
    "# The country codes in the dataframes don't make proper sense we need to reset the index with proper country names\n",
    "\n",
    "# The url below contains the country names with their respective codes\n",
    "\n",
    "url = 'https://docs.google.com/spreadsheets/d/1-HxLssAd2glfU40FWuccMw8758zrJyon6H6qkMjLeZU/edit#gid=0'\n",
    "\n",
    "url_readable = url.replace('/edit#gid=', '/export?format=csv&gid=')\n",
    "\n",
    "country_names = pd.read_csv(url_readable)\n",
    "\n",
    "country_names.head()"
   ]
  },
  {
   "cell_type": "code",
   "execution_count": 9,
   "metadata": {},
   "outputs": [],
   "source": [
    "def country_code_to_name(df):\n",
    "    \"\"\"\n",
    "    Takes in a dataframe with  country codes as index and \n",
    "    changes the index to country names.\n",
    "    \"\"\"\n",
    "    df.index = country_names['Country Name']\n",
    "    \n",
    "    return(df)"
   ]
  },
  {
   "cell_type": "code",
   "execution_count": 10,
   "metadata": {
    "scrolled": true
   },
   "outputs": [
    {
     "data": {
      "text/html": [
       "<div>\n",
       "<style scoped>\n",
       "    .dataframe tbody tr th:only-of-type {\n",
       "        vertical-align: middle;\n",
       "    }\n",
       "\n",
       "    .dataframe tbody tr th {\n",
       "        vertical-align: top;\n",
       "    }\n",
       "\n",
       "    .dataframe thead th {\n",
       "        text-align: right;\n",
       "    }\n",
       "</style>\n",
       "<table border=\"1\" class=\"dataframe\">\n",
       "  <thead>\n",
       "    <tr style=\"text-align: right;\">\n",
       "      <th>Year</th>\n",
       "      <th>1960</th>\n",
       "      <th>1965</th>\n",
       "      <th>1970</th>\n",
       "      <th>1975</th>\n",
       "      <th>1980</th>\n",
       "      <th>1985</th>\n",
       "      <th>1990</th>\n",
       "      <th>1995</th>\n",
       "      <th>2000</th>\n",
       "      <th>2005</th>\n",
       "      <th>2010</th>\n",
       "      <th>2015</th>\n",
       "      <th>2020</th>\n",
       "    </tr>\n",
       "    <tr>\n",
       "      <th>Country Name</th>\n",
       "      <th></th>\n",
       "      <th></th>\n",
       "      <th></th>\n",
       "      <th></th>\n",
       "      <th></th>\n",
       "      <th></th>\n",
       "      <th></th>\n",
       "      <th></th>\n",
       "      <th></th>\n",
       "      <th></th>\n",
       "      <th></th>\n",
       "      <th></th>\n",
       "      <th></th>\n",
       "    </tr>\n",
       "  </thead>\n",
       "  <tbody>\n",
       "    <tr>\n",
       "      <th>Aruba</th>\n",
       "      <td>NaN</td>\n",
       "      <td>NaN</td>\n",
       "      <td>NaN</td>\n",
       "      <td>NaN</td>\n",
       "      <td>NaN</td>\n",
       "      <td>NaN</td>\n",
       "      <td>NaN</td>\n",
       "      <td>NaN</td>\n",
       "      <td>NaN</td>\n",
       "      <td>NaN</td>\n",
       "      <td>NaN</td>\n",
       "      <td>NaN</td>\n",
       "      <td>NaN</td>\n",
       "    </tr>\n",
       "    <tr>\n",
       "      <th>Africa Eastern and Southern</th>\n",
       "      <td>NaN</td>\n",
       "      <td>NaN</td>\n",
       "      <td>2.512439e+06</td>\n",
       "      <td>1.908922e+06</td>\n",
       "      <td>2.213255e+06</td>\n",
       "      <td>1.559561e+06</td>\n",
       "      <td>838050.0</td>\n",
       "      <td>895540.0</td>\n",
       "      <td>948360.0</td>\n",
       "      <td>1154760.0</td>\n",
       "      <td>1335490.0</td>\n",
       "      <td>1436770.0</td>\n",
       "      <td>NaN</td>\n",
       "    </tr>\n",
       "    <tr>\n",
       "      <th>Afghanistan</th>\n",
       "      <td>NaN</td>\n",
       "      <td>NaN</td>\n",
       "      <td>NaN</td>\n",
       "      <td>NaN</td>\n",
       "      <td>NaN</td>\n",
       "      <td>NaN</td>\n",
       "      <td>15180.0</td>\n",
       "      <td>13480.0</td>\n",
       "      <td>15080.0</td>\n",
       "      <td>17400.0</td>\n",
       "      <td>44910.0</td>\n",
       "      <td>93730.0</td>\n",
       "      <td>NaN</td>\n",
       "    </tr>\n",
       "    <tr>\n",
       "      <th>Africa Western and Central</th>\n",
       "      <td>NaN</td>\n",
       "      <td>NaN</td>\n",
       "      <td>6.327455e+05</td>\n",
       "      <td>6.007661e+05</td>\n",
       "      <td>8.132658e+05</td>\n",
       "      <td>6.818932e+05</td>\n",
       "      <td>398170.0</td>\n",
       "      <td>526710.0</td>\n",
       "      <td>553740.0</td>\n",
       "      <td>650720.0</td>\n",
       "      <td>690440.0</td>\n",
       "      <td>805370.0</td>\n",
       "      <td>NaN</td>\n",
       "    </tr>\n",
       "    <tr>\n",
       "      <th>Angola</th>\n",
       "      <td>NaN</td>\n",
       "      <td>NaN</td>\n",
       "      <td>NaN</td>\n",
       "      <td>NaN</td>\n",
       "      <td>NaN</td>\n",
       "      <td>NaN</td>\n",
       "      <td>42180.0</td>\n",
       "      <td>48460.0</td>\n",
       "      <td>49590.0</td>\n",
       "      <td>67230.0</td>\n",
       "      <td>84120.0</td>\n",
       "      <td>90620.0</td>\n",
       "      <td>NaN</td>\n",
       "    </tr>\n",
       "  </tbody>\n",
       "</table>\n",
       "</div>"
      ],
      "text/plain": [
       "Year                         1960  1965          1970          1975  \\\n",
       "Country Name                                                          \n",
       "Aruba                         NaN   NaN           NaN           NaN   \n",
       "Africa Eastern and Southern   NaN   NaN  2.512439e+06  1.908922e+06   \n",
       "Afghanistan                   NaN   NaN           NaN           NaN   \n",
       "Africa Western and Central    NaN   NaN  6.327455e+05  6.007661e+05   \n",
       "Angola                        NaN   NaN           NaN           NaN   \n",
       "\n",
       "Year                                 1980          1985      1990      1995  \\\n",
       "Country Name                                                                  \n",
       "Aruba                                 NaN           NaN       NaN       NaN   \n",
       "Africa Eastern and Southern  2.213255e+06  1.559561e+06  838050.0  895540.0   \n",
       "Afghanistan                           NaN           NaN   15180.0   13480.0   \n",
       "Africa Western and Central   8.132658e+05  6.818932e+05  398170.0  526710.0   \n",
       "Angola                                NaN           NaN   42180.0   48460.0   \n",
       "\n",
       "Year                             2000       2005       2010       2015  2020  \n",
       "Country Name                                                                  \n",
       "Aruba                             NaN        NaN        NaN        NaN   NaN  \n",
       "Africa Eastern and Southern  948360.0  1154760.0  1335490.0  1436770.0   NaN  \n",
       "Afghanistan                   15080.0    17400.0    44910.0    93730.0   NaN  \n",
       "Africa Western and Central   553740.0   650720.0   690440.0   805370.0   NaN  \n",
       "Angola                        49590.0    67230.0    84120.0    90620.0   NaN  "
      ]
     },
     "execution_count": 10,
     "metadata": {},
     "output_type": "execute_result"
    }
   ],
   "source": [
    "country_code_to_name(df_CO2[0])\n",
    "\n",
    "df_CO2[0].head(5)"
   ]
  },
  {
   "cell_type": "code",
   "execution_count": 11,
   "metadata": {
    "scrolled": true
   },
   "outputs": [
    {
     "data": {
      "text/html": [
       "<div>\n",
       "<style scoped>\n",
       "    .dataframe tbody tr th:only-of-type {\n",
       "        vertical-align: middle;\n",
       "    }\n",
       "\n",
       "    .dataframe tbody tr th {\n",
       "        vertical-align: top;\n",
       "    }\n",
       "\n",
       "    .dataframe thead th {\n",
       "        text-align: right;\n",
       "    }\n",
       "</style>\n",
       "<table border=\"1\" class=\"dataframe\">\n",
       "  <thead>\n",
       "    <tr style=\"text-align: right;\">\n",
       "      <th>Country Name</th>\n",
       "      <th>Aruba</th>\n",
       "      <th>Africa Eastern and Southern</th>\n",
       "      <th>Afghanistan</th>\n",
       "      <th>Africa Western and Central</th>\n",
       "      <th>Angola</th>\n",
       "      <th>Albania</th>\n",
       "      <th>Andorra</th>\n",
       "      <th>Arab World</th>\n",
       "      <th>United Arab Emirates</th>\n",
       "      <th>Argentina</th>\n",
       "      <th>...</th>\n",
       "      <th>Virgin Islands (U.S.)</th>\n",
       "      <th>Vietnam</th>\n",
       "      <th>Vanuatu</th>\n",
       "      <th>World</th>\n",
       "      <th>Samoa</th>\n",
       "      <th>Kosovo</th>\n",
       "      <th>Yemen, Rep.</th>\n",
       "      <th>South Africa</th>\n",
       "      <th>Zambia</th>\n",
       "      <th>Zimbabwe</th>\n",
       "    </tr>\n",
       "    <tr>\n",
       "      <th>Year</th>\n",
       "      <th></th>\n",
       "      <th></th>\n",
       "      <th></th>\n",
       "      <th></th>\n",
       "      <th></th>\n",
       "      <th></th>\n",
       "      <th></th>\n",
       "      <th></th>\n",
       "      <th></th>\n",
       "      <th></th>\n",
       "      <th></th>\n",
       "      <th></th>\n",
       "      <th></th>\n",
       "      <th></th>\n",
       "      <th></th>\n",
       "      <th></th>\n",
       "      <th></th>\n",
       "      <th></th>\n",
       "      <th></th>\n",
       "      <th></th>\n",
       "      <th></th>\n",
       "    </tr>\n",
       "  </thead>\n",
       "  <tbody>\n",
       "    <tr>\n",
       "      <th>1960</th>\n",
       "      <td>NaN</td>\n",
       "      <td>NaN</td>\n",
       "      <td>NaN</td>\n",
       "      <td>NaN</td>\n",
       "      <td>NaN</td>\n",
       "      <td>NaN</td>\n",
       "      <td>NaN</td>\n",
       "      <td>NaN</td>\n",
       "      <td>NaN</td>\n",
       "      <td>NaN</td>\n",
       "      <td>...</td>\n",
       "      <td>NaN</td>\n",
       "      <td>NaN</td>\n",
       "      <td>NaN</td>\n",
       "      <td>NaN</td>\n",
       "      <td>NaN</td>\n",
       "      <td>NaN</td>\n",
       "      <td>NaN</td>\n",
       "      <td>NaN</td>\n",
       "      <td>NaN</td>\n",
       "      <td>NaN</td>\n",
       "    </tr>\n",
       "    <tr>\n",
       "      <th>1965</th>\n",
       "      <td>NaN</td>\n",
       "      <td>NaN</td>\n",
       "      <td>NaN</td>\n",
       "      <td>NaN</td>\n",
       "      <td>NaN</td>\n",
       "      <td>NaN</td>\n",
       "      <td>NaN</td>\n",
       "      <td>NaN</td>\n",
       "      <td>NaN</td>\n",
       "      <td>NaN</td>\n",
       "      <td>...</td>\n",
       "      <td>NaN</td>\n",
       "      <td>NaN</td>\n",
       "      <td>NaN</td>\n",
       "      <td>NaN</td>\n",
       "      <td>NaN</td>\n",
       "      <td>NaN</td>\n",
       "      <td>NaN</td>\n",
       "      <td>NaN</td>\n",
       "      <td>NaN</td>\n",
       "      <td>NaN</td>\n",
       "    </tr>\n",
       "    <tr>\n",
       "      <th>1970</th>\n",
       "      <td>NaN</td>\n",
       "      <td>2.512439e+06</td>\n",
       "      <td>NaN</td>\n",
       "      <td>632745.499853</td>\n",
       "      <td>NaN</td>\n",
       "      <td>NaN</td>\n",
       "      <td>NaN</td>\n",
       "      <td>552362.062026</td>\n",
       "      <td>NaN</td>\n",
       "      <td>NaN</td>\n",
       "      <td>...</td>\n",
       "      <td>NaN</td>\n",
       "      <td>NaN</td>\n",
       "      <td>NaN</td>\n",
       "      <td>2.705717e+07</td>\n",
       "      <td>NaN</td>\n",
       "      <td>NaN</td>\n",
       "      <td>NaN</td>\n",
       "      <td>NaN</td>\n",
       "      <td>NaN</td>\n",
       "      <td>NaN</td>\n",
       "    </tr>\n",
       "    <tr>\n",
       "      <th>1975</th>\n",
       "      <td>NaN</td>\n",
       "      <td>1.908922e+06</td>\n",
       "      <td>NaN</td>\n",
       "      <td>600766.122089</td>\n",
       "      <td>NaN</td>\n",
       "      <td>NaN</td>\n",
       "      <td>NaN</td>\n",
       "      <td>683966.235399</td>\n",
       "      <td>NaN</td>\n",
       "      <td>NaN</td>\n",
       "      <td>...</td>\n",
       "      <td>NaN</td>\n",
       "      <td>NaN</td>\n",
       "      <td>NaN</td>\n",
       "      <td>2.824575e+07</td>\n",
       "      <td>NaN</td>\n",
       "      <td>NaN</td>\n",
       "      <td>NaN</td>\n",
       "      <td>NaN</td>\n",
       "      <td>NaN</td>\n",
       "      <td>NaN</td>\n",
       "    </tr>\n",
       "    <tr>\n",
       "      <th>1980</th>\n",
       "      <td>NaN</td>\n",
       "      <td>2.213255e+06</td>\n",
       "      <td>NaN</td>\n",
       "      <td>813265.777979</td>\n",
       "      <td>NaN</td>\n",
       "      <td>NaN</td>\n",
       "      <td>NaN</td>\n",
       "      <td>927714.236940</td>\n",
       "      <td>NaN</td>\n",
       "      <td>NaN</td>\n",
       "      <td>...</td>\n",
       "      <td>NaN</td>\n",
       "      <td>NaN</td>\n",
       "      <td>NaN</td>\n",
       "      <td>3.279410e+07</td>\n",
       "      <td>NaN</td>\n",
       "      <td>NaN</td>\n",
       "      <td>NaN</td>\n",
       "      <td>NaN</td>\n",
       "      <td>NaN</td>\n",
       "      <td>NaN</td>\n",
       "    </tr>\n",
       "  </tbody>\n",
       "</table>\n",
       "<p>5 rows × 266 columns</p>\n",
       "</div>"
      ],
      "text/plain": [
       "Country Name  Aruba  Africa Eastern and Southern  Afghanistan  \\\n",
       "Year                                                            \n",
       "1960            NaN                          NaN          NaN   \n",
       "1965            NaN                          NaN          NaN   \n",
       "1970            NaN                 2.512439e+06          NaN   \n",
       "1975            NaN                 1.908922e+06          NaN   \n",
       "1980            NaN                 2.213255e+06          NaN   \n",
       "\n",
       "Country Name  Africa Western and Central  Angola  Albania  Andorra  \\\n",
       "Year                                                                 \n",
       "1960                                 NaN     NaN      NaN      NaN   \n",
       "1965                                 NaN     NaN      NaN      NaN   \n",
       "1970                       632745.499853     NaN      NaN      NaN   \n",
       "1975                       600766.122089     NaN      NaN      NaN   \n",
       "1980                       813265.777979     NaN      NaN      NaN   \n",
       "\n",
       "Country Name     Arab World  United Arab Emirates  Argentina  ...  \\\n",
       "Year                                                          ...   \n",
       "1960                    NaN                   NaN        NaN  ...   \n",
       "1965                    NaN                   NaN        NaN  ...   \n",
       "1970          552362.062026                   NaN        NaN  ...   \n",
       "1975          683966.235399                   NaN        NaN  ...   \n",
       "1980          927714.236940                   NaN        NaN  ...   \n",
       "\n",
       "Country Name  Virgin Islands (U.S.)  Vietnam  Vanuatu         World  Samoa  \\\n",
       "Year                                                                         \n",
       "1960                            NaN      NaN      NaN           NaN    NaN   \n",
       "1965                            NaN      NaN      NaN           NaN    NaN   \n",
       "1970                            NaN      NaN      NaN  2.705717e+07    NaN   \n",
       "1975                            NaN      NaN      NaN  2.824575e+07    NaN   \n",
       "1980                            NaN      NaN      NaN  3.279410e+07    NaN   \n",
       "\n",
       "Country Name  Kosovo  Yemen, Rep.  South Africa  Zambia  Zimbabwe  \n",
       "Year                                                               \n",
       "1960             NaN          NaN           NaN     NaN       NaN  \n",
       "1965             NaN          NaN           NaN     NaN       NaN  \n",
       "1970             NaN          NaN           NaN     NaN       NaN  \n",
       "1975             NaN          NaN           NaN     NaN       NaN  \n",
       "1980             NaN          NaN           NaN     NaN       NaN  \n",
       "\n",
       "[5 rows x 266 columns]"
      ]
     },
     "execution_count": 11,
     "metadata": {},
     "output_type": "execute_result"
    }
   ],
   "source": [
    "df_CO2[1].columns = country_names['Country Name']\n",
    "df_CO2[1].head(5)"
   ]
  },
  {
   "cell_type": "code",
   "execution_count": 12,
   "metadata": {},
   "outputs": [],
   "source": [
    "countries_of_interest = ['Bangladesh', 'Brazil', 'Canada', 'China', 'Ecuador', 'France', 'India', \n",
    "                         'Nigeria', 'Russia', 'South Africa', 'Sweden', 'United Kingdom', 'United States']"
   ]
  },
  {
   "cell_type": "code",
   "execution_count": 13,
   "metadata": {},
   "outputs": [],
   "source": [
    "# China, United States, India, Russia and Brazil are the most CO2 producing countries from the list."
   ]
  },
  {
   "cell_type": "code",
   "execution_count": 158,
   "metadata": {},
   "outputs": [],
   "source": [
    "# Constructing a dataframe with climate change indicators of interest for the listed countries.\n",
    "\n",
    "total_pop = 'SP.POP.TOTL'             # Total population\n",
    "\n",
    "rural_pop = 'SP.RUR.TOTL.ZS'          # Rural population (% of total population)\n",
    "\n",
    "urban_pop = 'SP.URB.TOTL.IN.ZS'       # Urban population (% of total population)\n",
    "\n",
    "forest_area = 'AG.LND.FRST.ZS'        # Forest area (% of land area)\n",
    "\n",
    "arable_land = 'AG.LND.ARBL.ZS'        # Arable land (% of land area)\n",
    "\n",
    "manufacturing = 'NV.IND.MANF.ZS'      # Manufacturing, value added (% of GDP)\n",
    "\n",
    "gdp = 'NY.GDP.MKTP.CD'                # Total GDP (current USD)  \n",
    "\n",
    "elec_consump = 'EG.USE.ELEC.KH.PC'    # Electric power consumption (kWh per capita)\n"
   ]
  },
  {
   "cell_type": "code",
   "execution_count": 15,
   "metadata": {},
   "outputs": [],
   "source": [
    "df_pop = wb_data(total_pop)\n",
    "\n",
    "country_code_to_name(df_pop[0])\n",
    "\n",
    "df_total_pop = df_pop[0].loc[countries_of_interest]\n",
    "\n",
    "#df_total_pop.head()"
   ]
  },
  {
   "cell_type": "code",
   "execution_count": 16,
   "metadata": {
    "scrolled": true
   },
   "outputs": [],
   "source": [
    "df_r = wb_data(rural_pop)\n",
    "\n",
    "country_code_to_name(df_r[0])\n",
    "\n",
    "df_rural = df_r[0].loc[countries_of_interest]\n",
    "\n",
    "#df_rural.head()"
   ]
  },
  {
   "cell_type": "code",
   "execution_count": 17,
   "metadata": {},
   "outputs": [],
   "source": [
    "df_u = wb_data(urban_pop)\n",
    "\n",
    "country_code_to_name(df_u[0])\n",
    "\n",
    "df_urban = df_u[0].loc[countries_of_interest]\n",
    "\n",
    "df_urban.to_csv('urban.csv')\n",
    "\n",
    "#df_urban"
   ]
  },
  {
   "cell_type": "code",
   "execution_count": 18,
   "metadata": {},
   "outputs": [],
   "source": [
    "df_f = wb_data(forest_area)\n",
    "\n",
    "country_code_to_name(df_f[0])\n",
    "\n",
    "df_forest = df_f[0].loc[countries_of_interest]\n",
    "\n",
    "#df_forest.drop(['1960','1965','1970','1975','1980','1985'], axis=1).head(5) # removed the years without proper data"
   ]
  },
  {
   "cell_type": "code",
   "execution_count": 19,
   "metadata": {},
   "outputs": [],
   "source": [
    "df_a = wb_data(arable_land)\n",
    "\n",
    "country_code_to_name(df_a[0])\n",
    "\n",
    "df_arable = df_a[0].loc[countries_of_interest]\n",
    "\n",
    "#df_arable.drop(['1960'], axis=1).head()"
   ]
  },
  {
   "cell_type": "code",
   "execution_count": 20,
   "metadata": {},
   "outputs": [],
   "source": [
    "df_m = wb_data(manufacturing)\n",
    "\n",
    "country_code_to_name(df_m[0])\n",
    "\n",
    "df_manufacturing = df_m[0].loc[countries_of_interest]\n",
    "\n",
    "#df_manufacturing.head()"
   ]
  },
  {
   "cell_type": "code",
   "execution_count": 21,
   "metadata": {},
   "outputs": [],
   "source": [
    "df_g = wb_data(gdp)\n",
    "\n",
    "country_code_to_name(df_g[0])\n",
    "\n",
    "df_gdp = df_g[0].loc[countries_of_interest]\n",
    "\n",
    "#df_gdp.drop(['1960','1965','1970','1975','1980','1985', '2020'], axis=1).head()"
   ]
  },
  {
   "cell_type": "code",
   "execution_count": 159,
   "metadata": {},
   "outputs": [],
   "source": [
    "df_gr = wb_data(greenhouse_emission_ind)\n",
    "\n",
    "country_code_to_name(df_gr[0])\n",
    "\n",
    "df_greenhouse = df_gr[0].loc[countries_of_interest]\n",
    "\n",
    "#df_greenhouse"
   ]
  },
  {
   "cell_type": "code",
   "execution_count": 160,
   "metadata": {},
   "outputs": [],
   "source": [
    "df_elec_consump = wb_data(elec_consump)\n",
    "\n",
    "country_code_to_name(df_elec_consump[0])\n",
    "\n",
    "df_electricity = df_elec_consump[0].loc[countries_of_interest]\n",
    "\n",
    "#df_total_pop.head()"
   ]
  },
  {
   "cell_type": "code",
   "execution_count": 23,
   "metadata": {},
   "outputs": [],
   "source": [
    "tot_emission = df_CO2[0].loc[countries_of_interest].drop(['1960','1965','1970','1975','1980','1985','2020'], axis=1)"
   ]
  },
  {
   "cell_type": "code",
   "execution_count": 24,
   "metadata": {},
   "outputs": [],
   "source": [
    "tot_gdp = df_gdp.drop(['1960','1965','1970','1975','1980','1985', '2020'], axis=1)"
   ]
  },
  {
   "cell_type": "code",
   "execution_count": 25,
   "metadata": {
    "scrolled": false
   },
   "outputs": [
    {
     "data": {
      "text/html": [
       "<div>\n",
       "<style scoped>\n",
       "    .dataframe tbody tr th:only-of-type {\n",
       "        vertical-align: middle;\n",
       "    }\n",
       "\n",
       "    .dataframe tbody tr th {\n",
       "        vertical-align: top;\n",
       "    }\n",
       "\n",
       "    .dataframe thead th {\n",
       "        text-align: right;\n",
       "    }\n",
       "</style>\n",
       "<table border=\"1\" class=\"dataframe\">\n",
       "  <thead>\n",
       "    <tr style=\"text-align: right;\">\n",
       "      <th>Year</th>\n",
       "      <th>1990</th>\n",
       "      <th>1995</th>\n",
       "      <th>2000</th>\n",
       "      <th>2005</th>\n",
       "      <th>2010</th>\n",
       "      <th>2015</th>\n",
       "    </tr>\n",
       "    <tr>\n",
       "      <th>Country Name</th>\n",
       "      <th></th>\n",
       "      <th></th>\n",
       "      <th></th>\n",
       "      <th></th>\n",
       "      <th></th>\n",
       "      <th></th>\n",
       "    </tr>\n",
       "  </thead>\n",
       "  <tbody>\n",
       "    <tr>\n",
       "      <th>Bangladesh</th>\n",
       "      <td>2.922938</td>\n",
       "      <td>2.717994</td>\n",
       "      <td>2.103250</td>\n",
       "      <td>1.848856</td>\n",
       "      <td>1.352978</td>\n",
       "      <td>0.936033</td>\n",
       "    </tr>\n",
       "    <tr>\n",
       "      <th>Brazil</th>\n",
       "      <td>1.520120</td>\n",
       "      <td>0.880945</td>\n",
       "      <td>1.168056</td>\n",
       "      <td>0.996968</td>\n",
       "      <td>0.446588</td>\n",
       "      <td>0.600762</td>\n",
       "    </tr>\n",
       "    <tr>\n",
       "      <th>Canada</th>\n",
       "      <td>0.942603</td>\n",
       "      <td>1.002861</td>\n",
       "      <td>0.901966</td>\n",
       "      <td>0.601036</td>\n",
       "      <td>0.416856</td>\n",
       "      <td>0.454819</td>\n",
       "    </tr>\n",
       "    <tr>\n",
       "      <th>China</th>\n",
       "      <td>8.929470</td>\n",
       "      <td>5.808798</td>\n",
       "      <td>3.795304</td>\n",
       "      <td>3.147239</td>\n",
       "      <td>1.676285</td>\n",
       "      <td>1.072118</td>\n",
       "    </tr>\n",
       "    <tr>\n",
       "      <th>Ecuador</th>\n",
       "      <td>2.219265</td>\n",
       "      <td>1.695256</td>\n",
       "      <td>2.311247</td>\n",
       "      <td>1.247739</td>\n",
       "      <td>0.888501</td>\n",
       "      <td>0.668947</td>\n",
       "    </tr>\n",
       "    <tr>\n",
       "      <th>France</th>\n",
       "      <td>0.396122</td>\n",
       "      <td>0.310419</td>\n",
       "      <td>0.372397</td>\n",
       "      <td>0.231717</td>\n",
       "      <td>0.177980</td>\n",
       "      <td>0.176346</td>\n",
       "    </tr>\n",
       "    <tr>\n",
       "      <th>India</th>\n",
       "      <td>3.820935</td>\n",
       "      <td>4.045137</td>\n",
       "      <td>3.666906</td>\n",
       "      <td>2.400931</td>\n",
       "      <td>1.530262</td>\n",
       "      <td>1.456393</td>\n",
       "    </tr>\n",
       "    <tr>\n",
       "      <th>Nigeria</th>\n",
       "      <td>3.725864</td>\n",
       "      <td>4.920968</td>\n",
       "      <td>2.732230</td>\n",
       "      <td>1.331088</td>\n",
       "      <td>0.649954</td>\n",
       "      <td>0.569306</td>\n",
       "    </tr>\n",
       "    <tr>\n",
       "      <th>Russia</th>\n",
       "      <td>6.291951</td>\n",
       "      <td>5.810200</td>\n",
       "      <td>8.449189</td>\n",
       "      <td>3.106108</td>\n",
       "      <td>1.609267</td>\n",
       "      <td>1.815713</td>\n",
       "    </tr>\n",
       "    <tr>\n",
       "      <th>South Africa</th>\n",
       "      <td>2.706479</td>\n",
       "      <td>1.924824</td>\n",
       "      <td>2.267693</td>\n",
       "      <td>1.533293</td>\n",
       "      <td>1.197321</td>\n",
       "      <td>1.445272</td>\n",
       "    </tr>\n",
       "    <tr>\n",
       "      <th>Sweden</th>\n",
       "      <td>0.261184</td>\n",
       "      <td>0.272759</td>\n",
       "      <td>0.256358</td>\n",
       "      <td>0.161798</td>\n",
       "      <td>0.121155</td>\n",
       "      <td>0.099089</td>\n",
       "    </tr>\n",
       "    <tr>\n",
       "      <th>United Kingdom</th>\n",
       "      <td>0.692802</td>\n",
       "      <td>0.529930</td>\n",
       "      <td>0.412020</td>\n",
       "      <td>0.265189</td>\n",
       "      <td>0.238673</td>\n",
       "      <td>0.168350</td>\n",
       "    </tr>\n",
       "    <tr>\n",
       "      <th>United States</th>\n",
       "      <td>0.999520</td>\n",
       "      <td>0.819492</td>\n",
       "      <td>0.669227</td>\n",
       "      <td>0.521746</td>\n",
       "      <td>0.429733</td>\n",
       "      <td>0.329178</td>\n",
       "    </tr>\n",
       "  </tbody>\n",
       "</table>\n",
       "</div>"
      ],
      "text/plain": [
       "Year                1990      1995      2000      2005      2010      2015\n",
       "Country Name                                                              \n",
       "Bangladesh      2.922938  2.717994  2.103250  1.848856  1.352978  0.936033\n",
       "Brazil          1.520120  0.880945  1.168056  0.996968  0.446588  0.600762\n",
       "Canada          0.942603  1.002861  0.901966  0.601036  0.416856  0.454819\n",
       "China           8.929470  5.808798  3.795304  3.147239  1.676285  1.072118\n",
       "Ecuador         2.219265  1.695256  2.311247  1.247739  0.888501  0.668947\n",
       "France          0.396122  0.310419  0.372397  0.231717  0.177980  0.176346\n",
       "India           3.820935  4.045137  3.666906  2.400931  1.530262  1.456393\n",
       "Nigeria         3.725864  4.920968  2.732230  1.331088  0.649954  0.569306\n",
       "Russia          6.291951  5.810200  8.449189  3.106108  1.609267  1.815713\n",
       "South Africa    2.706479  1.924824  2.267693  1.533293  1.197321  1.445272\n",
       "Sweden          0.261184  0.272759  0.256358  0.161798  0.121155  0.099089\n",
       "United Kingdom  0.692802  0.529930  0.412020  0.265189  0.238673  0.168350\n",
       "United States   0.999520  0.819492  0.669227  0.521746  0.429733  0.329178"
      ]
     },
     "execution_count": 25,
     "metadata": {},
     "output_type": "execute_result"
    }
   ],
   "source": [
    "C = tot_emission*1000*1000 / tot_gdp\n",
    "C"
   ]
  },
  {
   "cell_type": "code",
   "execution_count": 26,
   "metadata": {},
   "outputs": [
    {
     "data": {
      "text/plain": [
       "\"\\n# Creating a pie-chart for 2015 emissions data  \\ndf_greenhouse.plot.pie(y='2015', figsize=(10, 8), cmap='Set3')\\nplt.legend(loc='center left', bbox_to_anchor=(1.0, 1.0))\\nplt.tight_layout()\\n\\n\""
      ]
     },
     "execution_count": 26,
     "metadata": {},
     "output_type": "execute_result"
    }
   ],
   "source": [
    "\"\"\"\n",
    "# Creating a pie-chart for 2015 emissions data  \n",
    "df_greenhouse.plot.pie(y='2015', figsize=(10, 8), cmap='Set3')\n",
    "plt.legend(loc='center left', bbox_to_anchor=(1.0, 1.0))\n",
    "plt.tight_layout()\n",
    "\n",
    "\"\"\""
   ]
  },
  {
   "cell_type": "code",
   "execution_count": 27,
   "metadata": {},
   "outputs": [
    {
     "data": {
      "text/plain": [
       "<AxesSubplot:title={'center':'Total GDP (USD)'}, xlabel='Country Name', ylabel='GDP (USD)'>"
      ]
     },
     "execution_count": 27,
     "metadata": {},
     "output_type": "execute_result"
    },
    {
     "data": {
      "image/png": "[encoded data removed]",
      "text/plain": [
       "<Figure size 1080x720 with 1 Axes>"
      ]
     },
     "metadata": {
      "needs_background": "light"
     },
     "output_type": "display_data"
    }
   ],
   "source": [
    "tot_gdp.plot(kind='bar', figsize=(15,10), xlabel='Country Name', ylabel='GDP (USD)', fontsize=12, alpha=0.8, \n",
    "             stacked=False, width = 0.75, title='Total GDP (USD)', colormap='rainbow', edgecolor='black', rot=25)"
   ]
  },
  {
   "cell_type": "code",
   "execution_count": 28,
   "metadata": {},
   "outputs": [
    {
     "data": {
      "text/plain": [
       "<AxesSubplot:title={'center':'Greenhouse gas emission by countries'}, xlabel='Country Name', ylabel='KT of CO2 equivalent'>"
      ]
     },
     "execution_count": 28,
     "metadata": {},
     "output_type": "execute_result"
    },
    {
     "data": {
      "image/png": "[encoded data removed]",
      "text/plain": [
       "<Figure size 1080x720 with 1 Axes>"
      ]
     },
     "metadata": {
      "needs_background": "light"
     },
     "output_type": "display_data"
    }
   ],
   "source": [
    "tot_emission.plot(kind='bar', figsize=(15,10), xlabel='Country Name', ylabel='KT of CO2 equivalent', fontsize=12, alpha=1.0, \n",
    "                                stacked=False, width = 0.75, title='Greenhouse gas emission by countries', \n",
    "                                colormap='Accent_r', edgecolor='black', rot=25)"
   ]
  },
  {
   "cell_type": "code",
   "execution_count": 29,
   "metadata": {},
   "outputs": [],
   "source": [
    "#plt.scatter(df_urban.drop('World'), df_forest.drop('World'))"
   ]
  },
  {
   "cell_type": "code",
   "execution_count": 30,
   "metadata": {},
   "outputs": [
    {
     "data": {
      "text/plain": [
       "Country Name\n",
       "Bangladesh        0.977238\n",
       "Brazil            0.871741\n",
       "Canada            0.753919\n",
       "China             0.949859\n",
       "Ecuador           0.960546\n",
       "France           -0.669921\n",
       "India             0.983036\n",
       "Nigeria           0.897058\n",
       "Russia           -0.008818\n",
       "South Africa      0.974697\n",
       "Sweden           -0.889807\n",
       "United Kingdom   -0.886152\n",
       "United States     0.056652\n",
       "dtype: float64"
      ]
     },
     "execution_count": 30,
     "metadata": {},
     "output_type": "execute_result"
    }
   ],
   "source": [
    "tot_emission.corrwith(tot_gdp, axis=1)"
   ]
  },
  {
   "cell_type": "code",
   "execution_count": 31,
   "metadata": {},
   "outputs": [],
   "source": [
    "# France, Russia, Sweden and the UK total greenhouse gas emission has negative correlations with the total GDP.\n",
    "# The US doesn't have any correlation between the two factors.\n",
    "# The rest of the countries from the list have strong correlations."
   ]
  },
  {
   "cell_type": "code",
   "execution_count": 32,
   "metadata": {},
   "outputs": [
    {
     "data": {
      "text/plain": [
       "Country Name\n",
       "Bangladesh       -0.952714\n",
       "Brazil           -0.986499\n",
       "Canada           -0.969458\n",
       "China             0.998542\n",
       "Ecuador          -0.242460\n",
       "France            0.996876\n",
       "India             0.974893\n",
       "Nigeria          -0.994811\n",
       "Russia            0.772324\n",
       "South Africa     -0.999853\n",
       "Sweden            0.720512\n",
       "United Kingdom    0.949806\n",
       "United States     0.917218\n",
       "dtype: float64"
      ]
     },
     "execution_count": 32,
     "metadata": {},
     "output_type": "execute_result"
    }
   ],
   "source": [
    "df_urban.corrwith(df_forest, axis=1)"
   ]
  },
  {
   "cell_type": "code",
   "execution_count": 33,
   "metadata": {},
   "outputs": [
    {
     "data": {
      "text/plain": [
       "'import scipy.stats as stats\\n(stats.describe(df_urban.T).mean)\\n\\nstats.describe(df_urban.T)\\n'"
      ]
     },
     "execution_count": 33,
     "metadata": {},
     "output_type": "execute_result"
    }
   ],
   "source": [
    "\"\"\"import scipy.stats as stats\n",
    "(stats.describe(df_urban.T).mean)\n",
    "\n",
    "stats.describe(df_urban.T)\n",
    "\"\"\""
   ]
  },
  {
   "cell_type": "code",
   "execution_count": 34,
   "metadata": {},
   "outputs": [
    {
     "data": {
      "text/plain": [
       "Country Name\n",
       "Bangladesh        19.690154\n",
       "Brazil            70.918462\n",
       "Canada            77.142308\n",
       "China             31.790538\n",
       "Ecuador           51.958077\n",
       "France            73.910154\n",
       "India             25.610462\n",
       "Nigeria           30.475462\n",
       "Russia            69.118923\n",
       "South Africa      54.225538\n",
       "Sweden            82.642462\n",
       "United Kingdom    79.294308\n",
       "United States     76.462385\n",
       "dtype: float64"
      ]
     },
     "execution_count": 34,
     "metadata": {},
     "output_type": "execute_result"
    }
   ],
   "source": [
    "df_urban.mean(axis=1)"
   ]
  },
  {
   "cell_type": "code",
   "execution_count": 35,
   "metadata": {},
   "outputs": [],
   "source": [
    "#df_arable.T.reset_index().plot('Year', countries_of_interest[:], linestyle ='-.', figsize=(14,10), \n",
    "                               #title='Arable Land', cmap='tab20')\n",
    "#plt.legend(loc='center left', bbox_to_anchor=(1.0, 0.5))"
   ]
  },
  {
   "cell_type": "code",
   "execution_count": 36,
   "metadata": {},
   "outputs": [],
   "source": [
    "#df_forest.T.iloc[:, :]"
   ]
  },
  {
   "cell_type": "code",
   "execution_count": 37,
   "metadata": {},
   "outputs": [],
   "source": [
    "#df_forest.T.reset_index().plot('Year', countries_of_interest, linestyle ='-.', figsize=(12,8), title='Forest Area')\n",
    "\n",
    "#plt.legend(loc='center left', bbox_to_anchor=(1.0, 0.5))"
   ]
  },
  {
   "cell_type": "code",
   "execution_count": 38,
   "metadata": {},
   "outputs": [],
   "source": [
    "# The forest area remains more or less same for most of the countries throughout the years except for Brazil and Nigeria.\n",
    "# Bangladesh and the UK has only about 14% of thier total land area as forests."
   ]
  },
  {
   "cell_type": "code",
   "execution_count": 39,
   "metadata": {},
   "outputs": [
    {
     "data": {
      "text/plain": [
       "Country Name\n",
       "Bangladesh        38.177\n",
       "Brazil            87.073\n",
       "Canada            81.562\n",
       "China             61.428\n",
       "Ecuador           64.166\n",
       "France            80.975\n",
       "India             34.926\n",
       "Nigeria           51.958\n",
       "Russia            74.754\n",
       "South Africa      67.354\n",
       "Sweden            87.977\n",
       "United Kingdom    83.903\n",
       "United States     82.664\n",
       "dtype: float64"
      ]
     },
     "execution_count": 39,
     "metadata": {},
     "output_type": "execute_result"
    }
   ],
   "source": [
    "df_urban.max(axis=1)"
   ]
  },
  {
   "cell_type": "code",
   "execution_count": 40,
   "metadata": {},
   "outputs": [],
   "source": [
    "from sklearn.preprocessing import StandardScaler\n",
    "\n",
    "df_urban_norm = StandardScaler().fit_transform(df_urban)"
   ]
  },
  {
   "cell_type": "code",
   "execution_count": 41,
   "metadata": {
    "scrolled": false
   },
   "outputs": [],
   "source": [
    "#plt.hist(df_urban_norm)"
   ]
  },
  {
   "cell_type": "code",
   "execution_count": 42,
   "metadata": {},
   "outputs": [],
   "source": [
    "def df_country_specific(country, colormap):\n",
    "    \"\"\"\n",
    "    The function takes in a country name from the countries_of_interest list \n",
    "    and returns a heatmap of the variables/features \n",
    "    \"\"\"\n",
    "    \n",
    "    x1 = df_rural.loc[country].reset_index().iloc[:, 1]\n",
    "    x2 = df_urban.loc[country].reset_index().iloc[:, 1]\n",
    "    x3 = df_forest.loc[country].reset_index().iloc[:, 1]\n",
    "    x4 = df_arable.loc[country].reset_index().iloc[:, 1]\n",
    "    x5 = df_manufacturing.loc[country].reset_index().iloc[:, 1]\n",
    "    x6 = df_gdp.loc[country].reset_index().iloc[:, 1]\n",
    "    x7 = df_greenhouse.loc[country].reset_index().iloc[:, 1]\n",
    "    \n",
    "    df_country = pd.DataFrame([x1, x2, x3, x4, x5, x6, x7])\n",
    "    df_country.index = ['Rural population (% of total)', 'Urban population (% of total)', 'Forest area', 'Arable land', \n",
    "                        'Manufacturing revenue', 'GDP', 'Greenhouse emission']\n",
    "    df_country.columns = ['1960','1965', '1970', '1975', '1980','1985', '1990', '1995','2000', '2005', '2010', '2015', '2020'] \n",
    "    \n",
    "    plt.figure(figsize=(14,10))\n",
    "    \n",
    "    sns.heatmap(df_country.T.corr(), annot=True, cmap=colormap, alpha=0.9, linecolor='black', linewidths = 0.05)\n",
    "    \n",
    "    plt.suptitle(country, x=0.45, y=0.95)\n",
    "    \n",
    "    plt.show()\n",
    "    \n",
    "    return ()"
   ]
  },
  {
   "cell_type": "code",
   "execution_count": 43,
   "metadata": {},
   "outputs": [],
   "source": [
    "#df_china = df_country_specific('China', 'Set2')"
   ]
  },
  {
   "cell_type": "code",
   "execution_count": 44,
   "metadata": {},
   "outputs": [],
   "source": [
    "#df_country_specific('Brazil', 'mako')"
   ]
  },
  {
   "cell_type": "code",
   "execution_count": 45,
   "metadata": {},
   "outputs": [],
   "source": [
    "#df_bangladesh = df_country_specific('Bangladesh', 'tab10')"
   ]
  },
  {
   "cell_type": "markdown",
   "metadata": {},
   "source": [
    "--------------------------------------------------------------------------------------------------"
   ]
  },
  {
   "cell_type": "code",
   "execution_count": 46,
   "metadata": {},
   "outputs": [
    {
     "data": {
      "text/plain": [
       "Index(['1960', '1965', '1970', '1975', '1980', '1985', '1990', '1995', '2000',\n",
       "       '2005', '2010', '2015', '2020'],\n",
       "      dtype='object', name='Year')"
      ]
     },
     "execution_count": 46,
     "metadata": {},
     "output_type": "execute_result"
    }
   ],
   "source": [
    "df_forest.columns"
   ]
  },
  {
   "cell_type": "code",
   "execution_count": 47,
   "metadata": {},
   "outputs": [
    {
     "data": {
      "text/plain": [
       "Index(['1965', '1970', '1975', '1980', '1985', '1990', '1995', '2000', '2005',\n",
       "       '2010', '2015', '2020'],\n",
       "      dtype='object', name='Year')"
      ]
     },
     "execution_count": 47,
     "metadata": {},
     "output_type": "execute_result"
    }
   ],
   "source": [
    "df_forest.columns[1:]"
   ]
  },
  {
   "cell_type": "code",
   "execution_count": 48,
   "metadata": {},
   "outputs": [
    {
     "data": {
      "text/plain": [
       "Country Name\n",
       "Bangladesh        14.752478\n",
       "Brazil            70.458021\n",
       "Canada            38.845512\n",
       "China             16.673325\n",
       "Ecuador           52.854392\n",
       "France            26.363945\n",
       "India             21.504848\n",
       "Nigeria           29.124905\n",
       "Russia            49.356465\n",
       "South Africa      14.955271\n",
       "Sweden            68.389628\n",
       "United Kingdom    11.482660\n",
       "United States     33.022308\n",
       "Name: 1990, dtype: float64"
      ]
     },
     "execution_count": 48,
     "metadata": {},
     "output_type": "execute_result"
    }
   ],
   "source": [
    "df_forest.iloc[:, 6]"
   ]
  },
  {
   "cell_type": "code",
   "execution_count": 49,
   "metadata": {},
   "outputs": [
    {
     "data": {
      "text/html": [
       "<div>\n",
       "<style scoped>\n",
       "    .dataframe tbody tr th:only-of-type {\n",
       "        vertical-align: middle;\n",
       "    }\n",
       "\n",
       "    .dataframe tbody tr th {\n",
       "        vertical-align: top;\n",
       "    }\n",
       "\n",
       "    .dataframe thead th {\n",
       "        text-align: right;\n",
       "    }\n",
       "</style>\n",
       "<table border=\"1\" class=\"dataframe\">\n",
       "  <thead>\n",
       "    <tr style=\"text-align: right;\">\n",
       "      <th>Year</th>\n",
       "      <th>1980</th>\n",
       "      <th>1985</th>\n",
       "      <th>1990</th>\n",
       "      <th>1995</th>\n",
       "    </tr>\n",
       "    <tr>\n",
       "      <th>Country Name</th>\n",
       "      <th></th>\n",
       "      <th></th>\n",
       "      <th></th>\n",
       "      <th></th>\n",
       "    </tr>\n",
       "  </thead>\n",
       "  <tbody>\n",
       "    <tr>\n",
       "      <th>Bangladesh</th>\n",
       "      <td>NaN</td>\n",
       "      <td>NaN</td>\n",
       "      <td>14.752478</td>\n",
       "      <td>14.752470</td>\n",
       "    </tr>\n",
       "    <tr>\n",
       "      <th>Brazil</th>\n",
       "      <td>NaN</td>\n",
       "      <td>NaN</td>\n",
       "      <td>70.458021</td>\n",
       "      <td>68.196190</td>\n",
       "    </tr>\n",
       "    <tr>\n",
       "      <th>Canada</th>\n",
       "      <td>NaN</td>\n",
       "      <td>NaN</td>\n",
       "      <td>38.845512</td>\n",
       "      <td>38.819247</td>\n",
       "    </tr>\n",
       "    <tr>\n",
       "      <th>China</th>\n",
       "      <td>NaN</td>\n",
       "      <td>NaN</td>\n",
       "      <td>16.673325</td>\n",
       "      <td>17.726847</td>\n",
       "    </tr>\n",
       "    <tr>\n",
       "      <th>Ecuador</th>\n",
       "      <td>NaN</td>\n",
       "      <td>NaN</td>\n",
       "      <td>52.854392</td>\n",
       "      <td>51.225816</td>\n",
       "    </tr>\n",
       "    <tr>\n",
       "      <th>France</th>\n",
       "      <td>NaN</td>\n",
       "      <td>NaN</td>\n",
       "      <td>26.363945</td>\n",
       "      <td>27.141934</td>\n",
       "    </tr>\n",
       "    <tr>\n",
       "      <th>India</th>\n",
       "      <td>NaN</td>\n",
       "      <td>NaN</td>\n",
       "      <td>21.504848</td>\n",
       "      <td>22.119172</td>\n",
       "    </tr>\n",
       "    <tr>\n",
       "      <th>Nigeria</th>\n",
       "      <td>NaN</td>\n",
       "      <td>NaN</td>\n",
       "      <td>29.124905</td>\n",
       "      <td>28.228384</td>\n",
       "    </tr>\n",
       "    <tr>\n",
       "      <th>Russia</th>\n",
       "      <td>NaN</td>\n",
       "      <td>NaN</td>\n",
       "      <td>49.356465</td>\n",
       "      <td>49.401052</td>\n",
       "    </tr>\n",
       "    <tr>\n",
       "      <th>South Africa</th>\n",
       "      <td>NaN</td>\n",
       "      <td>NaN</td>\n",
       "      <td>14.955271</td>\n",
       "      <td>14.805241</td>\n",
       "    </tr>\n",
       "    <tr>\n",
       "      <th>Sweden</th>\n",
       "      <td>NaN</td>\n",
       "      <td>NaN</td>\n",
       "      <td>68.389628</td>\n",
       "      <td>68.511478</td>\n",
       "    </tr>\n",
       "    <tr>\n",
       "      <th>United Kingdom</th>\n",
       "      <td>NaN</td>\n",
       "      <td>NaN</td>\n",
       "      <td>11.482660</td>\n",
       "      <td>11.846402</td>\n",
       "    </tr>\n",
       "    <tr>\n",
       "      <th>United States</th>\n",
       "      <td>NaN</td>\n",
       "      <td>NaN</td>\n",
       "      <td>33.022308</td>\n",
       "      <td>33.081594</td>\n",
       "    </tr>\n",
       "  </tbody>\n",
       "</table>\n",
       "</div>"
      ],
      "text/plain": [
       "Year            1980  1985       1990       1995\n",
       "Country Name                                    \n",
       "Bangladesh       NaN   NaN  14.752478  14.752470\n",
       "Brazil           NaN   NaN  70.458021  68.196190\n",
       "Canada           NaN   NaN  38.845512  38.819247\n",
       "China            NaN   NaN  16.673325  17.726847\n",
       "Ecuador          NaN   NaN  52.854392  51.225816\n",
       "France           NaN   NaN  26.363945  27.141934\n",
       "India            NaN   NaN  21.504848  22.119172\n",
       "Nigeria          NaN   NaN  29.124905  28.228384\n",
       "Russia           NaN   NaN  49.356465  49.401052\n",
       "South Africa     NaN   NaN  14.955271  14.805241\n",
       "Sweden           NaN   NaN  68.389628  68.511478\n",
       "United Kingdom   NaN   NaN  11.482660  11.846402\n",
       "United States    NaN   NaN  33.022308  33.081594"
      ]
     },
     "execution_count": 49,
     "metadata": {},
     "output_type": "execute_result"
    }
   ],
   "source": [
    "df_forest[['1980', '1985', '1990', '1995']]"
   ]
  },
  {
   "cell_type": "code",
   "execution_count": 50,
   "metadata": {},
   "outputs": [
    {
     "data": {
      "text/html": [
       "<div>\n",
       "<style scoped>\n",
       "    .dataframe tbody tr th:only-of-type {\n",
       "        vertical-align: middle;\n",
       "    }\n",
       "\n",
       "    .dataframe tbody tr th {\n",
       "        vertical-align: top;\n",
       "    }\n",
       "\n",
       "    .dataframe thead th {\n",
       "        text-align: right;\n",
       "    }\n",
       "</style>\n",
       "<table border=\"1\" class=\"dataframe\">\n",
       "  <thead>\n",
       "    <tr style=\"text-align: right;\">\n",
       "      <th>Year</th>\n",
       "      <th>1980</th>\n",
       "      <th>1985</th>\n",
       "      <th>1990</th>\n",
       "      <th>1995</th>\n",
       "    </tr>\n",
       "    <tr>\n",
       "      <th>Country Name</th>\n",
       "      <th></th>\n",
       "      <th></th>\n",
       "      <th></th>\n",
       "      <th></th>\n",
       "    </tr>\n",
       "  </thead>\n",
       "  <tbody>\n",
       "    <tr>\n",
       "      <th>Bangladesh</th>\n",
       "      <td>NaN</td>\n",
       "      <td>NaN</td>\n",
       "      <td>14.752478</td>\n",
       "      <td>14.752470</td>\n",
       "    </tr>\n",
       "    <tr>\n",
       "      <th>Brazil</th>\n",
       "      <td>NaN</td>\n",
       "      <td>NaN</td>\n",
       "      <td>70.458021</td>\n",
       "      <td>68.196190</td>\n",
       "    </tr>\n",
       "    <tr>\n",
       "      <th>Canada</th>\n",
       "      <td>NaN</td>\n",
       "      <td>NaN</td>\n",
       "      <td>38.845512</td>\n",
       "      <td>38.819247</td>\n",
       "    </tr>\n",
       "    <tr>\n",
       "      <th>China</th>\n",
       "      <td>NaN</td>\n",
       "      <td>NaN</td>\n",
       "      <td>16.673325</td>\n",
       "      <td>17.726847</td>\n",
       "    </tr>\n",
       "    <tr>\n",
       "      <th>Ecuador</th>\n",
       "      <td>NaN</td>\n",
       "      <td>NaN</td>\n",
       "      <td>52.854392</td>\n",
       "      <td>51.225816</td>\n",
       "    </tr>\n",
       "    <tr>\n",
       "      <th>France</th>\n",
       "      <td>NaN</td>\n",
       "      <td>NaN</td>\n",
       "      <td>26.363945</td>\n",
       "      <td>27.141934</td>\n",
       "    </tr>\n",
       "    <tr>\n",
       "      <th>India</th>\n",
       "      <td>NaN</td>\n",
       "      <td>NaN</td>\n",
       "      <td>21.504848</td>\n",
       "      <td>22.119172</td>\n",
       "    </tr>\n",
       "    <tr>\n",
       "      <th>Nigeria</th>\n",
       "      <td>NaN</td>\n",
       "      <td>NaN</td>\n",
       "      <td>29.124905</td>\n",
       "      <td>28.228384</td>\n",
       "    </tr>\n",
       "    <tr>\n",
       "      <th>Russia</th>\n",
       "      <td>NaN</td>\n",
       "      <td>NaN</td>\n",
       "      <td>49.356465</td>\n",
       "      <td>49.401052</td>\n",
       "    </tr>\n",
       "    <tr>\n",
       "      <th>South Africa</th>\n",
       "      <td>NaN</td>\n",
       "      <td>NaN</td>\n",
       "      <td>14.955271</td>\n",
       "      <td>14.805241</td>\n",
       "    </tr>\n",
       "    <tr>\n",
       "      <th>Sweden</th>\n",
       "      <td>NaN</td>\n",
       "      <td>NaN</td>\n",
       "      <td>68.389628</td>\n",
       "      <td>68.511478</td>\n",
       "    </tr>\n",
       "    <tr>\n",
       "      <th>United Kingdom</th>\n",
       "      <td>NaN</td>\n",
       "      <td>NaN</td>\n",
       "      <td>11.482660</td>\n",
       "      <td>11.846402</td>\n",
       "    </tr>\n",
       "    <tr>\n",
       "      <th>United States</th>\n",
       "      <td>NaN</td>\n",
       "      <td>NaN</td>\n",
       "      <td>33.022308</td>\n",
       "      <td>33.081594</td>\n",
       "    </tr>\n",
       "  </tbody>\n",
       "</table>\n",
       "</div>"
      ],
      "text/plain": [
       "Year            1980  1985       1990       1995\n",
       "Country Name                                    \n",
       "Bangladesh       NaN   NaN  14.752478  14.752470\n",
       "Brazil           NaN   NaN  70.458021  68.196190\n",
       "Canada           NaN   NaN  38.845512  38.819247\n",
       "China            NaN   NaN  16.673325  17.726847\n",
       "Ecuador          NaN   NaN  52.854392  51.225816\n",
       "France           NaN   NaN  26.363945  27.141934\n",
       "India            NaN   NaN  21.504848  22.119172\n",
       "Nigeria          NaN   NaN  29.124905  28.228384\n",
       "Russia           NaN   NaN  49.356465  49.401052\n",
       "South Africa     NaN   NaN  14.955271  14.805241\n",
       "Sweden           NaN   NaN  68.389628  68.511478\n",
       "United Kingdom   NaN   NaN  11.482660  11.846402\n",
       "United States    NaN   NaN  33.022308  33.081594"
      ]
     },
     "execution_count": 50,
     "metadata": {},
     "output_type": "execute_result"
    }
   ],
   "source": [
    "new_test_df = df_forest[['1980', '1985', '1990', '1995']].copy()\n",
    "new_test_df"
   ]
  },
  {
   "cell_type": "code",
   "execution_count": 51,
   "metadata": {},
   "outputs": [],
   "source": [
    "popt = [4e8, 0.01]"
   ]
  },
  {
   "cell_type": "code",
   "execution_count": 52,
   "metadata": {
    "scrolled": true
   },
   "outputs": [
    {
     "data": {
      "text/plain": [
       "0.01"
      ]
     },
     "execution_count": 52,
     "metadata": {},
     "output_type": "execute_result"
    }
   ],
   "source": [
    "popt[1]"
   ]
  },
  {
   "cell_type": "code",
   "execution_count": 53,
   "metadata": {},
   "outputs": [
    {
     "name": "stdout",
     "output_type": "stream",
     "text": [
      "400000000.0 0.01\n"
     ]
    }
   ],
   "source": [
    "print(*popt)"
   ]
  },
  {
   "cell_type": "code",
   "execution_count": 54,
   "metadata": {},
   "outputs": [],
   "source": [
    "def norm(array):\n",
    "    \"\"\" Returns array normalised to [0,1]. Array can be a numpy array \n",
    "    or a column of a dataframe\"\"\"\n",
    "\n",
    "    mean_val = np.mean(array)\n",
    "    min_val = np.min(array)\n",
    "    max_val = np.max(array)\n",
    "    \n",
    "    #scaled = (array-min_val) / (max_val-min_val)\n",
    "    scaled = (array-min_val) / (max_val-min_val)\n",
    "    \n",
    "    return scaled\n",
    "\n",
    "\n",
    "def norm_df(df):\n",
    "    \"\"\" \n",
    "    Returns all columns of the dataframe normalised to [0,1] with the \n",
    "    exception the first (containing the names)\n",
    "    Calls function norm to do the normalisation of one column, but\n",
    "    doing all in one function is also fine. \n",
    "    \"\"\"\n",
    "    df_norm = df.copy()\n",
    "    # iterate over all columns\n",
    "    for col in df.columns[:]:     \n",
    "        df_norm[col] = norm(df[col])\n",
    "        \n",
    "    return df_norm"
   ]
  },
  {
   "cell_type": "code",
   "execution_count": 55,
   "metadata": {},
   "outputs": [],
   "source": [
    "df_greenhouse_norm = norm_df(df_greenhouse)[['1990', '1995', '2000', '2005', '2010', '2015']]"
   ]
  },
  {
   "cell_type": "code",
   "execution_count": 56,
   "metadata": {},
   "outputs": [
    {
     "data": {
      "text/plain": [
       "<AxesSubplot:xlabel='1990', ylabel='2015'>"
      ]
     },
     "execution_count": 56,
     "metadata": {},
     "output_type": "execute_result"
    },
    {
     "data": {
      "image/png": "[encoded data removed]",
      "text/plain": [
       "<Figure size 432x288 with 1 Axes>"
      ]
     },
     "metadata": {
      "needs_background": "light"
     },
     "output_type": "display_data"
    }
   ],
   "source": [
    "df_greenhouse_norm.plot('1990', '2015', kind='scatter')"
   ]
  },
  {
   "cell_type": "code",
   "execution_count": 57,
   "metadata": {},
   "outputs": [],
   "source": [
    "df_urban_norm2 = norm_df(df_urban)[['1990', '1995', '2000', '2005', '2010', '2015']]"
   ]
  },
  {
   "cell_type": "code",
   "execution_count": 58,
   "metadata": {},
   "outputs": [
    {
     "data": {
      "image/png": "[encoded data removed]",
      "text/plain": [
       "<Figure size 432x288 with 1 Axes>"
      ]
     },
     "metadata": {
      "needs_background": "light"
     },
     "output_type": "display_data"
    }
   ],
   "source": [
    "plt.figure()\n",
    "\n",
    "plt.scatter(df_urban_norm2['2015'], df_greenhouse_norm['2015'], label='normalised')\n",
    "\n",
    "plt.xlabel('urban pop')\n",
    "plt.ylabel('Total greenhouse gas emission')\n",
    "\n",
    "plt.legend()\n",
    "\n",
    "plt.show()"
   ]
  },
  {
   "cell_type": "code",
   "execution_count": 59,
   "metadata": {},
   "outputs": [
    {
     "data": {
      "image/png": "[encoded data removed]",
      "text/plain": [
       "<Figure size 720x576 with 1 Axes>"
      ]
     },
     "metadata": {
      "needs_background": "light"
     },
     "output_type": "display_data"
    }
   ],
   "source": [
    "plt.figure(figsize=(10,8))\n",
    "\n",
    "plt.scatter(df_urban['2015'], df_greenhouse['2015'], label='actual data')\n",
    "\n",
    "plt.legend()\n",
    "\n",
    "plt.show()"
   ]
  },
  {
   "cell_type": "code",
   "execution_count": 60,
   "metadata": {
    "scrolled": false
   },
   "outputs": [
    {
     "data": {
      "image/png": "[encoded data removed]",
      "text/plain": [
       "<Figure size 720x576 with 1 Axes>"
      ]
     },
     "metadata": {
      "needs_background": "light"
     },
     "output_type": "display_data"
    }
   ],
   "source": [
    "plt.figure(figsize=(10,8))\n",
    "\n",
    "#plt.scatter(norm_df(df_gdp)['2015'], df_greenhouse_norm['2015'], label='2015')\n",
    "#plt.scatter(norm_df(df_gdp)['2010'], df_greenhouse_norm['2010'], label='2010')\n",
    "#plt.scatter(norm_df(df_gdp)['2005'], df_greenhouse_norm['2005'], label='2005')\n",
    "plt.scatter(norm_df(df_gdp)[['1990', '1995', '2000', '2005', '2010', '2015']], \n",
    "            df_greenhouse_norm[['1990', '1995', '2000', '2005', '2010', '2015']])\n",
    "\n",
    "plt.xlabel('GDP')\n",
    "plt.ylabel('Total greenhouse gas emission')\n",
    "\n",
    "#plt.legend(loc=0)\n",
    "\n",
    "plt.show()"
   ]
  },
  {
   "cell_type": "code",
   "execution_count": 61,
   "metadata": {},
   "outputs": [
    {
     "data": {
      "text/plain": [
       "(13, 13)"
      ]
     },
     "execution_count": 61,
     "metadata": {},
     "output_type": "execute_result"
    }
   ],
   "source": [
    "norm_df(df_gdp).shape"
   ]
  },
  {
   "cell_type": "code",
   "execution_count": 62,
   "metadata": {
    "scrolled": true
   },
   "outputs": [],
   "source": [
    "#df_CO2[0].plot(df_CO2[0].columns, df_CO2[['1990', '1995', '2000', '2005', '2010', '2015']], kind='scatter')"
   ]
  },
  {
   "cell_type": "code",
   "execution_count": 63,
   "metadata": {},
   "outputs": [
    {
     "data": {
      "text/plain": [
       "<AxesSubplot:xlabel='Country Name'>"
      ]
     },
     "execution_count": 63,
     "metadata": {},
     "output_type": "execute_result"
    },
    {
     "data": {
      "image/png": "[encoded data removed]",
      "text/plain": [
       "<Figure size 432x288 with 1 Axes>"
      ]
     },
     "metadata": {
      "needs_background": "light"
     },
     "output_type": "display_data"
    }
   ],
   "source": [
    "df_CO2[0][['1990', '1995', '2000', '2005', '2010', '2015']].plot()"
   ]
  },
  {
   "cell_type": "code",
   "execution_count": 64,
   "metadata": {},
   "outputs": [
    {
     "data": {
      "text/plain": [
       "\"plt.figure()\\n\\nplt.scatter(['1990', '1995', '2000', '2005', '2010', '2015'], df_CO2[1][['1990', '1995', '2000', '2005', '2010', '2015']])\\n\\nplt.show()\\n\\n\""
      ]
     },
     "execution_count": 64,
     "metadata": {},
     "output_type": "execute_result"
    }
   ],
   "source": [
    "\"\"\"plt.figure()\n",
    "\n",
    "plt.scatter(['1990', '1995', '2000', '2005', '2010', '2015'], df_CO2[1][['1990', '1995', '2000', '2005', '2010', '2015']])\n",
    "\n",
    "plt.show()\n",
    "\n",
    "\"\"\""
   ]
  },
  {
   "cell_type": "code",
   "execution_count": 65,
   "metadata": {
    "scrolled": true
   },
   "outputs": [],
   "source": [
    "#df_CO2[1].plot(figsize=(10,8))\n",
    "#plt.legend(loc='center left', bbox_to_anchor=(1.0, 0.5))"
   ]
  },
  {
   "cell_type": "code",
   "execution_count": 66,
   "metadata": {},
   "outputs": [
    {
     "data": {
      "text/plain": [
       "<matplotlib.collections.PathCollection at 0x24bd3ef1b50>"
      ]
     },
     "execution_count": 66,
     "metadata": {},
     "output_type": "execute_result"
    },
    {
     "data": {
      "image/png": "[encoded data removed]",
      "text/plain": [
       "<Figure size 432x288 with 1 Axes>"
      ]
     },
     "metadata": {
      "needs_background": "light"
     },
     "output_type": "display_data"
    }
   ],
   "source": [
    "plt.scatter(df_CO2[1].index, df_CO2[1]['Bangladesh'], label='Bangladesh')\n",
    "plt.scatter(df_CO2[1].index, df_CO2[1]['China'], label='Bangladesh')"
   ]
  },
  {
   "cell_type": "code",
   "execution_count": 67,
   "metadata": {},
   "outputs": [
    {
     "data": {
      "text/plain": [
       "['Bangladesh',\n",
       " 'Brazil',\n",
       " 'Canada',\n",
       " 'China',\n",
       " 'Ecuador',\n",
       " 'France',\n",
       " 'India',\n",
       " 'Nigeria',\n",
       " 'Russia',\n",
       " 'South Africa',\n",
       " 'Sweden',\n",
       " 'United Kingdom',\n",
       " 'United States']"
      ]
     },
     "execution_count": 67,
     "metadata": {},
     "output_type": "execute_result"
    }
   ],
   "source": [
    "countries_of_interest"
   ]
  },
  {
   "cell_type": "code",
   "execution_count": 68,
   "metadata": {
    "scrolled": true
   },
   "outputs": [
    {
     "data": {
      "image/png": "[encoded data removed]",
      "text/plain": [
       "<Figure size 432x288 with 1 Axes>"
      ]
     },
     "metadata": {
      "needs_background": "light"
     },
     "output_type": "display_data"
    }
   ],
   "source": [
    "for country in countries_of_interest:\n",
    "    plt.scatter(df_CO2[1].index, df_CO2[1][country], label='country')\n",
    "    plt.legend(country, bbox_to_anchor=(1.5, 0.5, 1, 1))\n",
    "    plt.show"
   ]
  },
  {
   "cell_type": "code",
   "execution_count": 69,
   "metadata": {
    "scrolled": true
   },
   "outputs": [],
   "source": [
    "#C['2015'].plot(figsize=(12,10))"
   ]
  },
  {
   "cell_type": "code",
   "execution_count": 70,
   "metadata": {
    "scrolled": false
   },
   "outputs": [
    {
     "data": {
      "image/png": "[encoded data removed]",
      "text/plain": [
       "<Figure size 720x576 with 1 Axes>"
      ]
     },
     "metadata": {
      "needs_background": "light"
     },
     "output_type": "display_data"
    }
   ],
   "source": [
    "plt.figure(figsize=(10,8))\n",
    "\n",
    "plt.scatter(norm_df(df_g[0])[['1990', '1995', '2000', '2005', '2010', '2015']], \n",
    "            norm_df(df_gr[0])[['1990', '1995', '2000', '2005', '2010', '2015']])\n",
    "\n",
    "plt.xlabel('Total GDP')\n",
    "plt.ylabel('Total greenhouse gas emission')\n",
    "\n",
    "#plt.legend(loc=0)\n",
    "\n",
    "plt.show()"
   ]
  },
  {
   "cell_type": "code",
   "execution_count": 71,
   "metadata": {},
   "outputs": [
    {
     "data": {
      "image/png": "[encoded data removed]",
      "text/plain": [
       "<Figure size 432x288 with 1 Axes>"
      ]
     },
     "metadata": {
      "needs_background": "light"
     },
     "output_type": "display_data"
    }
   ],
   "source": [
    "plt.figure()\n",
    "\n",
    "plt.scatter(norm_df(df_u[0])[['1990', '1995', '2000', '2005', '2010', '2015']], \n",
    "            norm_df(df_gr[0])[['1990', '1995', '2000', '2005', '2010', '2015']])\n",
    "\n",
    "plt.xlabel('urban population')\n",
    "plt.ylabel('Total greenhouse gas emission')\n",
    "\n",
    "plt.show()"
   ]
  },
  {
   "cell_type": "code",
   "execution_count": 72,
   "metadata": {},
   "outputs": [],
   "source": [
    "# Removing entries which are aggregate or not to be analysed for this work\n",
    "\n",
    "url2 = 'https://docs.google.com/spreadsheets/d/1VXxnOpxxKcMdfitckG6jFwX3YjNg5dO8e8Gr3hpaaNs/edit#gid=0'\n",
    "\n",
    "url_readable2 = url2.replace('/edit#gid=', '/export?format=csv&gid=')\n",
    "\n",
    "country_names_to_exclude = pd.read_csv(url_readable2)\n",
    "\n",
    "#list(country_names_to_exclude['Country Name'])"
   ]
  },
  {
   "cell_type": "code",
   "execution_count": 161,
   "metadata": {},
   "outputs": [],
   "source": [
    "\n",
    "df_urban_x = df_u[0].drop(list(country_names_to_exclude['Country Name']))\n",
    "\n",
    "df_green_x = df_gr[0].drop(list(country_names_to_exclude['Country Name']))\n",
    "\n",
    "df_gdp_x = df_g[0].drop(list(country_names_to_exclude['Country Name']))\n",
    "\n",
    "df_total_pop_x = df_pop[0].drop(list(country_names_to_exclude['Country Name']))#\n",
    "\n",
    "df_urban_x = df_u[0].drop(list(country_names_to_exclude['Country Name']))\n",
    "\n",
    "df_arable_x = df_a[0].drop(list(country_names_to_exclude['Country Name']))\n",
    "\n",
    "df_electricity_x = df_elec_consump[0].drop(list(country_names_to_exclude['Country Name']))\n"
   ]
  },
  {
   "cell_type": "code",
   "execution_count": 74,
   "metadata": {},
   "outputs": [
    {
     "data": {
      "image/png": "[encoded data removed]",
      "text/plain": [
       "<Figure size 432x288 with 1 Axes>"
      ]
     },
     "metadata": {
      "needs_background": "light"
     },
     "output_type": "display_data"
    }
   ],
   "source": [
    "plt.figure()\n",
    "\n",
    "plt.scatter(norm_df(df_urban_x)[['1990', '1995', '2000', '2005', '2010', '2015']], \n",
    "            norm_df(df_green_x)[['1990', '1995', '2000', '2005', '2010', '2015']])\n",
    "\n",
    "plt.xlabel('urban population')\n",
    "plt.ylabel('Total greenhouse gas emission')\n",
    "\n",
    "plt.show()"
   ]
  },
  {
   "cell_type": "code",
   "execution_count": 75,
   "metadata": {},
   "outputs": [
    {
     "data": {
      "image/png": "[encoded data removed]",
      "text/plain": [
       "<Figure size 720x576 with 1 Axes>"
      ]
     },
     "metadata": {
      "needs_background": "light"
     },
     "output_type": "display_data"
    }
   ],
   "source": [
    "plt.figure(figsize=(10,8))\n",
    "\n",
    "plt.scatter(norm_df(df_gdp_x)[['1990', '1995', '2000', '2005', '2010', '2015']], \n",
    "            norm_df(df_green_x)[['1990', '1995', '2000', '2005', '2010', '2015']])\n",
    "\n",
    "plt.xlabel('Total GDP')\n",
    "plt.ylabel('Total greenhouse gas emission')\n",
    "\n",
    "plt.show()"
   ]
  },
  {
   "cell_type": "code",
   "execution_count": 76,
   "metadata": {},
   "outputs": [],
   "source": [
    "df_abc = pd.DataFrame()\n",
    "\n",
    "#df_abc[['1990', '1995', '2000', '2005', '2010', '2015']] = norm_df(df_gdp_x)[['1990', '1995', '2000', '2005', '2010', '2015']]\n",
    "\n",
    "#df_abc [['GDP 2015', 'CO2 2015']] = norm_df(df_gdp_x)['2015'],norm_df(df_green_x)['2015']\n",
    "\n",
    "df_abc['GDP 2015'] = norm_df(df_gdp_x)['2015']\n",
    "df_abc['CO2 2015'] = norm_df(df_green_x)['2015']"
   ]
  },
  {
   "cell_type": "code",
   "execution_count": 77,
   "metadata": {},
   "outputs": [
    {
     "data": {
      "text/plain": [
       "<AxesSubplot:xlabel='GDP 2015', ylabel='CO2 2015'>"
      ]
     },
     "execution_count": 77,
     "metadata": {},
     "output_type": "execute_result"
    },
    {
     "data": {
      "image/png": "[encoded data removed]",
      "text/plain": [
       "<Figure size 432x288 with 1 Axes>"
      ]
     },
     "metadata": {
      "needs_background": "light"
     },
     "output_type": "display_data"
    }
   ],
   "source": [
    "df_abc.plot('GDP 2015', 'CO2 2015', 'scatter')"
   ]
  },
  {
   "cell_type": "code",
   "execution_count": 78,
   "metadata": {},
   "outputs": [
    {
     "data": {
      "text/html": [
       "<div>\n",
       "<style scoped>\n",
       "    .dataframe tbody tr th:only-of-type {\n",
       "        vertical-align: middle;\n",
       "    }\n",
       "\n",
       "    .dataframe tbody tr th {\n",
       "        vertical-align: top;\n",
       "    }\n",
       "\n",
       "    .dataframe thead th {\n",
       "        text-align: right;\n",
       "    }\n",
       "</style>\n",
       "<table border=\"1\" class=\"dataframe\">\n",
       "  <thead>\n",
       "    <tr style=\"text-align: right;\">\n",
       "      <th></th>\n",
       "      <th>GDP 2015</th>\n",
       "      <th>CO2 2015</th>\n",
       "    </tr>\n",
       "    <tr>\n",
       "      <th>Country Name</th>\n",
       "      <th></th>\n",
       "      <th></th>\n",
       "    </tr>\n",
       "  </thead>\n",
       "  <tbody>\n",
       "    <tr>\n",
       "      <th>Aruba</th>\n",
       "      <td>0.000161</td>\n",
       "      <td>NaN</td>\n",
       "    </tr>\n",
       "    <tr>\n",
       "      <th>Afghanistan</th>\n",
       "      <td>0.001047</td>\n",
       "      <td>0.007902</td>\n",
       "    </tr>\n",
       "    <tr>\n",
       "      <th>Angola</th>\n",
       "      <td>0.006369</td>\n",
       "      <td>0.007640</td>\n",
       "    </tr>\n",
       "    <tr>\n",
       "      <th>Albania</th>\n",
       "      <td>0.000622</td>\n",
       "      <td>0.000829</td>\n",
       "    </tr>\n",
       "    <tr>\n",
       "      <th>United Arab Emirates</th>\n",
       "      <td>0.019635</td>\n",
       "      <td>0.021319</td>\n",
       "    </tr>\n",
       "    <tr>\n",
       "      <th>...</th>\n",
       "      <td>...</td>\n",
       "      <td>...</td>\n",
       "    </tr>\n",
       "    <tr>\n",
       "      <th>Kosovo</th>\n",
       "      <td>0.000343</td>\n",
       "      <td>NaN</td>\n",
       "    </tr>\n",
       "    <tr>\n",
       "      <th>Yemen, Rep.</th>\n",
       "      <td>0.002325</td>\n",
       "      <td>0.002195</td>\n",
       "    </tr>\n",
       "    <tr>\n",
       "      <th>South Africa</th>\n",
       "      <td>0.019008</td>\n",
       "      <td>0.042251</td>\n",
       "    </tr>\n",
       "    <tr>\n",
       "      <th>Zambia</th>\n",
       "      <td>0.001163</td>\n",
       "      <td>0.003273</td>\n",
       "    </tr>\n",
       "    <tr>\n",
       "      <th>Zimbabwe</th>\n",
       "      <td>0.001093</td>\n",
       "      <td>0.002636</td>\n",
       "    </tr>\n",
       "  </tbody>\n",
       "</table>\n",
       "<p>194 rows × 2 columns</p>\n",
       "</div>"
      ],
      "text/plain": [
       "                      GDP 2015  CO2 2015\n",
       "Country Name                            \n",
       "Aruba                 0.000161       NaN\n",
       "Afghanistan           0.001047  0.007902\n",
       "Angola                0.006369  0.007640\n",
       "Albania               0.000622  0.000829\n",
       "United Arab Emirates  0.019635  0.021319\n",
       "...                        ...       ...\n",
       "Kosovo                0.000343       NaN\n",
       "Yemen, Rep.           0.002325  0.002195\n",
       "South Africa          0.019008  0.042251\n",
       "Zambia                0.001163  0.003273\n",
       "Zimbabwe              0.001093  0.002636\n",
       "\n",
       "[194 rows x 2 columns]"
      ]
     },
     "execution_count": 78,
     "metadata": {},
     "output_type": "execute_result"
    }
   ],
   "source": [
    "df_abc"
   ]
  },
  {
   "cell_type": "code",
   "execution_count": 79,
   "metadata": {
    "scrolled": true
   },
   "outputs": [],
   "source": [
    "#df_vvv = pd.DataFrame()\n",
    "\n",
    "#df_vvv['Population 2015'], df_vvv['Total GDP 2015 (USD)'], df_vvv['Total CO2 2015 (KT)'] = df_total_pop_x['2015'], df_gdp_x['2015'], df_green_x['2015']"
   ]
  },
  {
   "cell_type": "code",
   "execution_count": 167,
   "metadata": {},
   "outputs": [],
   "source": [
    "\n",
    "df_cluster_test = pd.DataFrame()\n",
    "\n",
    "df_cluster_test['Population 2015'] = df_total_pop_x['2015']\n",
    "\n",
    "df_cluster_test['Total GDP 2015 (USD)'] = df_gdp_x['2015']\n",
    "\n",
    "df_cluster_test['Total CO2 2015 (KT)'] = df_green_x['2015']\n",
    "\n",
    "df_cluster_test['Urban population 2015'] = df_total_pop_x['2015']* df_urban_x['2015']/100\n",
    "\n",
    "df_cluster_test['Arable land 2015'] = df_arable_x['2015']\n",
    "\n",
    "df_cluster_test['Electricity consumption 2010'] = df_electricity_x['2010']\n"
   ]
  },
  {
   "cell_type": "code",
   "execution_count": 168,
   "metadata": {},
   "outputs": [],
   "source": [
    "df_cluster_test = df_cluster_test.dropna(subset=['Total CO2 2015 (KT)']).copy()"
   ]
  },
  {
   "cell_type": "code",
   "execution_count": 169,
   "metadata": {},
   "outputs": [],
   "source": [
    "df_cluster_test['Total GDP 2015 (USD)'] /= df_cluster_test['Population 2015']\n",
    "df_cluster_test['Total CO2 2015 (KT)'] /= df_cluster_test['Population 2015']"
   ]
  },
  {
   "cell_type": "code",
   "execution_count": 170,
   "metadata": {},
   "outputs": [
    {
     "data": {
      "text/html": [
       "<div>\n",
       "<style scoped>\n",
       "    .dataframe tbody tr th:only-of-type {\n",
       "        vertical-align: middle;\n",
       "    }\n",
       "\n",
       "    .dataframe tbody tr th {\n",
       "        vertical-align: top;\n",
       "    }\n",
       "\n",
       "    .dataframe thead th {\n",
       "        text-align: right;\n",
       "    }\n",
       "</style>\n",
       "<table border=\"1\" class=\"dataframe\">\n",
       "  <thead>\n",
       "    <tr style=\"text-align: right;\">\n",
       "      <th></th>\n",
       "      <th>Population 2015</th>\n",
       "      <th>Total GDP 2015 (USD)</th>\n",
       "      <th>Total CO2 2015 (KT)</th>\n",
       "      <th>Urban population 2015</th>\n",
       "      <th>Arable land 2015</th>\n",
       "      <th>Electricity consumption 2010</th>\n",
       "    </tr>\n",
       "    <tr>\n",
       "      <th>Country Name</th>\n",
       "      <th></th>\n",
       "      <th></th>\n",
       "      <th></th>\n",
       "      <th></th>\n",
       "      <th></th>\n",
       "      <th></th>\n",
       "    </tr>\n",
       "  </thead>\n",
       "  <tbody>\n",
       "    <tr>\n",
       "      <th>Afghanistan</th>\n",
       "      <td>34413603.0</td>\n",
       "      <td>556.007221</td>\n",
       "      <td>0.002724</td>\n",
       "      <td>8.535606e+06</td>\n",
       "      <td>11.893821</td>\n",
       "      <td>NaN</td>\n",
       "    </tr>\n",
       "    <tr>\n",
       "      <th>Angola</th>\n",
       "      <td>27884380.0</td>\n",
       "      <td>4166.979833</td>\n",
       "      <td>0.003250</td>\n",
       "      <td>1.769152e+07</td>\n",
       "      <td>3.930376</td>\n",
       "      <td>206.454402</td>\n",
       "    </tr>\n",
       "    <tr>\n",
       "      <th>Albania</th>\n",
       "      <td>2880703.0</td>\n",
       "      <td>3952.802538</td>\n",
       "      <td>0.003419</td>\n",
       "      <td>1.654503e+06</td>\n",
       "      <td>22.448905</td>\n",
       "      <td>1943.343354</td>\n",
       "    </tr>\n",
       "    <tr>\n",
       "      <th>United Arab Emirates</th>\n",
       "      <td>9262896.0</td>\n",
       "      <td>38663.400503</td>\n",
       "      <td>0.027297</td>\n",
       "      <td>7.935894e+06</td>\n",
       "      <td>0.620952</td>\n",
       "      <td>10609.944002</td>\n",
       "    </tr>\n",
       "    <tr>\n",
       "      <th>Argentina</th>\n",
       "      <td>43131966.0</td>\n",
       "      <td>13789.060425</td>\n",
       "      <td>0.008406</td>\n",
       "      <td>3.946704e+07</td>\n",
       "      <td>14.323873</td>\n",
       "      <td>2877.652653</td>\n",
       "    </tr>\n",
       "    <tr>\n",
       "      <th>...</th>\n",
       "      <td>...</td>\n",
       "      <td>...</td>\n",
       "      <td>...</td>\n",
       "      <td>...</td>\n",
       "      <td>...</td>\n",
       "      <td>...</td>\n",
       "    </tr>\n",
       "    <tr>\n",
       "      <th>Samoa</th>\n",
       "      <td>193510.0</td>\n",
       "      <td>4071.926959</td>\n",
       "      <td>0.003204</td>\n",
       "      <td>3.660048e+04</td>\n",
       "      <td>11.469965</td>\n",
       "      <td>NaN</td>\n",
       "    </tr>\n",
       "    <tr>\n",
       "      <th>Yemen, Rep.</th>\n",
       "      <td>26497881.0</td>\n",
       "      <td>1601.830063</td>\n",
       "      <td>0.000983</td>\n",
       "      <td>9.215168e+06</td>\n",
       "      <td>2.154668</td>\n",
       "      <td>254.849372</td>\n",
       "    </tr>\n",
       "    <tr>\n",
       "      <th>South Africa</th>\n",
       "      <td>55386369.0</td>\n",
       "      <td>6259.839681</td>\n",
       "      <td>0.009047</td>\n",
       "      <td>3.590588e+07</td>\n",
       "      <td>9.892094</td>\n",
       "      <td>4542.596206</td>\n",
       "    </tr>\n",
       "    <tr>\n",
       "      <th>Zambia</th>\n",
       "      <td>15879370.0</td>\n",
       "      <td>1338.290927</td>\n",
       "      <td>0.002446</td>\n",
       "      <td>6.654568e+06</td>\n",
       "      <td>5.111718</td>\n",
       "      <td>590.548895</td>\n",
       "    </tr>\n",
       "    <tr>\n",
       "      <th>Zimbabwe</th>\n",
       "      <td>13814642.0</td>\n",
       "      <td>1445.069702</td>\n",
       "      <td>0.002264</td>\n",
       "      <td>4.473872e+06</td>\n",
       "      <td>10.339925</td>\n",
       "      <td>606.643960</td>\n",
       "    </tr>\n",
       "  </tbody>\n",
       "</table>\n",
       "<p>178 rows × 6 columns</p>\n",
       "</div>"
      ],
      "text/plain": [
       "                      Population 2015  Total GDP 2015 (USD)  \\\n",
       "Country Name                                                  \n",
       "Afghanistan                34413603.0            556.007221   \n",
       "Angola                     27884380.0           4166.979833   \n",
       "Albania                     2880703.0           3952.802538   \n",
       "United Arab Emirates        9262896.0          38663.400503   \n",
       "Argentina                  43131966.0          13789.060425   \n",
       "...                               ...                   ...   \n",
       "Samoa                        193510.0           4071.926959   \n",
       "Yemen, Rep.                26497881.0           1601.830063   \n",
       "South Africa               55386369.0           6259.839681   \n",
       "Zambia                     15879370.0           1338.290927   \n",
       "Zimbabwe                   13814642.0           1445.069702   \n",
       "\n",
       "                      Total CO2 2015 (KT)  Urban population 2015  \\\n",
       "Country Name                                                       \n",
       "Afghanistan                      0.002724           8.535606e+06   \n",
       "Angola                           0.003250           1.769152e+07   \n",
       "Albania                          0.003419           1.654503e+06   \n",
       "United Arab Emirates             0.027297           7.935894e+06   \n",
       "Argentina                        0.008406           3.946704e+07   \n",
       "...                                   ...                    ...   \n",
       "Samoa                            0.003204           3.660048e+04   \n",
       "Yemen, Rep.                      0.000983           9.215168e+06   \n",
       "South Africa                     0.009047           3.590588e+07   \n",
       "Zambia                           0.002446           6.654568e+06   \n",
       "Zimbabwe                         0.002264           4.473872e+06   \n",
       "\n",
       "                      Arable land 2015  Electricity consumption 2010  \n",
       "Country Name                                                          \n",
       "Afghanistan                  11.893821                           NaN  \n",
       "Angola                        3.930376                    206.454402  \n",
       "Albania                      22.448905                   1943.343354  \n",
       "United Arab Emirates          0.620952                  10609.944002  \n",
       "Argentina                    14.323873                   2877.652653  \n",
       "...                                ...                           ...  \n",
       "Samoa                        11.469965                           NaN  \n",
       "Yemen, Rep.                   2.154668                    254.849372  \n",
       "South Africa                  9.892094                   4542.596206  \n",
       "Zambia                        5.111718                    590.548895  \n",
       "Zimbabwe                     10.339925                    606.643960  \n",
       "\n",
       "[178 rows x 6 columns]"
      ]
     },
     "execution_count": 170,
     "metadata": {},
     "output_type": "execute_result"
    }
   ],
   "source": [
    "df_cluster_test"
   ]
  },
  {
   "cell_type": "code",
   "execution_count": 84,
   "metadata": {},
   "outputs": [
    {
     "data": {
      "text/plain": [
       "<AxesSubplot:xlabel='GDP per capita', ylabel='CO2 emission per capita (KT)'>"
      ]
     },
     "execution_count": 84,
     "metadata": {},
     "output_type": "execute_result"
    },
    {
     "data": {
      "image/png": "[encoded data removed]",
      "text/plain": [
       "<Figure size 1440x1080 with 1 Axes>"
      ]
     },
     "metadata": {
      "needs_background": "light"
     },
     "output_type": "display_data"
    }
   ],
   "source": [
    "df_cluster_test.plot('Total GDP 2015 (USD)', 'Total CO2 2015 (KT)', kind='scatter', xlabel = 'GDP per capita',\n",
    "                    ylabel = 'CO2 emission per capita (KT)', figsize=(20,15))"
   ]
  },
  {
   "cell_type": "code",
   "execution_count": 85,
   "metadata": {},
   "outputs": [],
   "source": [
    "#norm_df(df_cluster_test).plot('Total GDP 2015 (USD)', 'Total CO2 2015 (KT)', kind='scatter', figsize=(10,8), )"
   ]
  },
  {
   "cell_type": "code",
   "execution_count": 171,
   "metadata": {},
   "outputs": [],
   "source": [
    "A = norm_df(df_cluster_test)"
   ]
  },
  {
   "cell_type": "code",
   "execution_count": 172,
   "metadata": {},
   "outputs": [
    {
     "data": {
      "text/plain": [
       "<AxesSubplot:xlabel='Total GDP 2015 (USD)', ylabel='Total CO2 2015 (KT)'>"
      ]
     },
     "execution_count": 172,
     "metadata": {},
     "output_type": "execute_result"
    },
    {
     "data": {
      "image/png": "[encoded data removed]",
      "text/plain": [
       "<Figure size 720x576 with 1 Axes>"
      ]
     },
     "metadata": {
      "needs_background": "light"
     },
     "output_type": "display_data"
    }
   ],
   "source": [
    "A.plot('Total GDP 2015 (USD)', 'Total CO2 2015 (KT)', kind='scatter', figsize=(10,8))"
   ]
  },
  {
   "cell_type": "code",
   "execution_count": 88,
   "metadata": {},
   "outputs": [
    {
     "data": {
      "text/plain": [
       "<AxesSubplot:xlabel='Urban population 2015', ylabel='Total CO2 2015 (KT)'>"
      ]
     },
     "execution_count": 88,
     "metadata": {},
     "output_type": "execute_result"
    },
    {
     "data": {
      "image/png": "[encoded data removed]",
      "text/plain": [
       "<Figure size 720x576 with 1 Axes>"
      ]
     },
     "metadata": {
      "needs_background": "light"
     },
     "output_type": "display_data"
    }
   ],
   "source": [
    "A.plot('Urban population 2015', 'Total CO2 2015 (KT)', kind='scatter', figsize=(10,8))"
   ]
  },
  {
   "cell_type": "code",
   "execution_count": 89,
   "metadata": {},
   "outputs": [
    {
     "data": {
      "text/plain": [
       "12"
      ]
     },
     "execution_count": 89,
     "metadata": {},
     "output_type": "execute_result"
    }
   ],
   "source": [
    "len(A[(A['Total GDP 2015 (USD)'] < 0.3) & (A['Total GDP 2015 (USD)'] > 0.2)])"
   ]
  },
  {
   "cell_type": "code",
   "execution_count": 90,
   "metadata": {},
   "outputs": [
    {
     "data": {
      "text/plain": [
       "22"
      ]
     },
     "execution_count": 90,
     "metadata": {},
     "output_type": "execute_result"
    }
   ],
   "source": [
    "len(A[(A['Total GDP 2015 (USD)'] < 0.05) & (A['Total GDP 2015 (USD)'] > 0.03)])"
   ]
  },
  {
   "cell_type": "code",
   "execution_count": 91,
   "metadata": {},
   "outputs": [
    {
     "data": {
      "text/plain": [
       "39"
      ]
     },
     "execution_count": 91,
     "metadata": {},
     "output_type": "execute_result"
    }
   ],
   "source": [
    "len(A[(A['Total GDP 2015 (USD)'] < 0.3) & (A['Total CO2 2015 (KT)'] > 0.2)])"
   ]
  },
  {
   "cell_type": "code",
   "execution_count": 92,
   "metadata": {},
   "outputs": [
    {
     "data": {
      "text/plain": [
       "<AxesSubplot:xlabel='Urban population 2015', ylabel='Total CO2 2015 (KT)'>"
      ]
     },
     "execution_count": 92,
     "metadata": {},
     "output_type": "execute_result"
    },
    {
     "data": {
      "image/png": "[encoded data removed]",
      "text/plain": [
       "<Figure size 432x288 with 1 Axes>"
      ]
     },
     "metadata": {
      "needs_background": "light"
     },
     "output_type": "display_data"
    }
   ],
   "source": [
    "df_cluster_test.plot('Urban population 2015', 'Total CO2 2015 (KT)', kind='scatter')"
   ]
  },
  {
   "cell_type": "code",
   "execution_count": 93,
   "metadata": {},
   "outputs": [],
   "source": [
    "#df_cluster_test.plot('Population 2015', 'Total CO2 2015 (KT)', kind='scatter', figsize = (20,15))"
   ]
  },
  {
   "cell_type": "code",
   "execution_count": 94,
   "metadata": {},
   "outputs": [
    {
     "data": {
      "text/plain": [
       "Country Name\n",
       "China            1.379860e+09\n",
       "India            1.310152e+09\n",
       "United States    3.207390e+08\n",
       "Indonesia        2.583833e+08\n",
       "Brazil           2.044718e+08\n",
       "                     ...     \n",
       "Liechtenstein    3.746500e+04\n",
       "Palau            1.766500e+04\n",
       "Tuvalu           1.109900e+04\n",
       "Nauru            1.037400e+04\n",
       "Eritrea                   NaN\n",
       "Name: Population 2015, Length: 178, dtype: float64"
      ]
     },
     "execution_count": 94,
     "metadata": {},
     "output_type": "execute_result"
    }
   ],
   "source": [
    "df_cluster_test['Population 2015'].sort_values(ascending=False)"
   ]
  },
  {
   "cell_type": "code",
   "execution_count": 95,
   "metadata": {},
   "outputs": [
    {
     "data": {
      "text/plain": [
       "<AxesSubplot:xlabel='Total CO2 2015 (KT)', ylabel='Total GDP 2015 (USD)'>"
      ]
     },
     "execution_count": 95,
     "metadata": {},
     "output_type": "execute_result"
    },
    {
     "data": {
      "image/png": "[encoded data removed]",
      "text/plain": [
       "<Figure size 720x576 with 1 Axes>"
      ]
     },
     "metadata": {
      "needs_background": "light"
     },
     "output_type": "display_data"
    }
   ],
   "source": [
    "A.plot('Total CO2 2015 (KT)', 'Total GDP 2015 (USD)', kind='scatter', figsize=(10,8))"
   ]
  },
  {
   "cell_type": "code",
   "execution_count": 173,
   "metadata": {},
   "outputs": [],
   "source": [
    "A.dropna(axis=0, inplace=True)"
   ]
  },
  {
   "cell_type": "code",
   "execution_count": 142,
   "metadata": {},
   "outputs": [
    {
     "data": {
      "text/plain": [
       "<AxesSubplot:xlabel='Total CO2 2015 (KT)', ylabel='Total GDP 2015 (USD)'>"
      ]
     },
     "execution_count": 142,
     "metadata": {},
     "output_type": "execute_result"
    },
    {
     "data": {
      "image/png": "[encoded data removed]",
      "text/plain": [
       "<Figure size 720x576 with 1 Axes>"
      ]
     },
     "metadata": {
      "needs_background": "light"
     },
     "output_type": "display_data"
    }
   ],
   "source": [
    "A.plot('Total CO2 2015 (KT)', 'Total GDP 2015 (USD)', kind='scatter', figsize=(10,8))"
   ]
  },
  {
   "cell_type": "code",
   "execution_count": 174,
   "metadata": {},
   "outputs": [
    {
     "data": {
      "image/png": "[encoded data removed]",
      "text/plain": [
       "<Figure size 576x432 with 1 Axes>"
      ]
     },
     "metadata": {
      "needs_background": "light"
     },
     "output_type": "display_data"
    }
   ],
   "source": [
    "import sklearn.cluster as cluster\n",
    "\n",
    "kmeans = cluster.KMeans(n_clusters=5)\n",
    "\n",
    "# extract columns for fitting\n",
    "df_fit = A[['Total CO2 2015 (KT)', 'Total GDP 2015 (USD)']].copy()\n",
    "kmeans.fit(df_fit)     \n",
    "\n",
    "# extract labels and cluster centres\n",
    "labels = kmeans.labels_\n",
    "cen = kmeans.cluster_centers_\n",
    "\n",
    "# plot using the labels to select colour\n",
    "plt.figure(figsize=(8.0,6.0))\n",
    "\n",
    "col = [\"blue\", \"crimson\", \"green\", \"grey\", \"brown\"]\n",
    "for l in range(5):     # loop over the different labels\n",
    "    plt.plot(df_fit['Total CO2 2015 (KT)'][labels==l], df_fit['Total GDP 2015 (USD)'][labels==l], \"o\", markersize=3, color=col[l])\n",
    "    \n",
    "# show cluster centres\n",
    "for ic in range(5):\n",
    "    xc, yc = cen[ic,:]\n",
    "    plt.plot(xc, yc, \"dk\", markersize=10)\n",
    "    \n",
    "plt.xlabel(\"CO2  per capita 2015 (KT)\")\n",
    "plt.ylabel(\"GDP per capita 2015 (USD)\")\n",
    "plt.show()"
   ]
  },
  {
   "cell_type": "code",
   "execution_count": 156,
   "metadata": {},
   "outputs": [
    {
     "data": {
      "image/png": "[encoded data removed]",
      "text/plain": [
       "<Figure size 576x432 with 1 Axes>"
      ]
     },
     "metadata": {
      "needs_background": "light"
     },
     "output_type": "display_data"
    }
   ],
   "source": [
    "kmeans = cluster.KMeans(n_clusters=6)\n",
    "\n",
    "# extract columns for fitting\n",
    "df_fit_2 = A[['Total GDP 2015 (USD)', 'Total CO2 2015 (KT)']].copy()\n",
    "kmeans.fit(df_fit_2)     \n",
    "\n",
    "# extract labels and cluster centres\n",
    "labels = kmeans.labels_\n",
    "cen = kmeans.cluster_centers_\n",
    "\n",
    "# plot using the labels to select colour\n",
    "plt.figure(figsize=(8.0, 6.0))\n",
    "\n",
    "col = [\"#34A56F\", \"#F6BE00\", \"#40E0D0\", \"#F70D1A\", \"#A74AC7\", \"#36454F\"]\n",
    "for l in range(6):     # loop over the different labels\n",
    "    plt.plot(df_fit['Total GDP 2015 (USD)'][labels==l], df_fit['Total CO2 2015 (KT)'][labels==l], \"o\", markersize=3, color=col[l])\n",
    "    \n",
    "# show cluster centres\n",
    "for ic in range(6):\n",
    "    xc, yc = cen[ic,:]\n",
    "    plt.plot(xc, yc, \"dk\", markersize=10)\n",
    "    \n",
    "plt.xlabel(\"GDP per capita 2015 (USD)\")\n",
    "plt.ylabel(\"CO2  per capita 2015 (KT)\")\n",
    "plt.show()"
   ]
  },
  {
   "cell_type": "code",
   "execution_count": 100,
   "metadata": {},
   "outputs": [
    {
     "data": {
      "image/png": "[encoded data removed]",
      "text/plain": [
       "<Figure size 720x576 with 1 Axes>"
      ]
     },
     "metadata": {
      "needs_background": "light"
     },
     "output_type": "display_data"
    }
   ],
   "source": [
    "plt.figure(figsize=(10,8))\n",
    "\n",
    "plt.scatter(norm_df(df_g[0])[['1990', '1995', '2000', '2005', '2010', '2015']], \n",
    "            norm_df(df_gr[0])[['1990', '1995', '2000', '2005', '2010', '2015']])\n",
    "\n",
    "plt.xlabel('Total GDP')\n",
    "plt.ylabel('Total greenhouse gas emission')\n",
    "\n",
    "#plt.legend(loc=0)\n",
    "\n",
    "plt.show()"
   ]
  },
  {
   "cell_type": "code",
   "execution_count": 101,
   "metadata": {
    "scrolled": true
   },
   "outputs": [
    {
     "data": {
      "text/plain": [
       "'\\ndf_fit = [norm_df(df_g[0])[\\'2015\\'].dropna, norm_df(df_gr[0])[\\'2015\\']].copy()\\nkmeans.fit(df_fit)     \\n\\n# extract labels and cluster centres\\nlabels = kmeans.labels_\\ncen = kmeans.cluster_centers_\\n\\n# plot using the labels to select colour\\nplt.figure(figsize=(5.0,5.0))\\n\\ncol = [\"blue\", \"red\", \"green\", \"magenta\"]\\nfor l in range(4):     # loop over the different labels\\n    plt.plot(norm_df(df_g[0])[\\'2015\\'][labels==l], \\n             norm_df(df_gr[0])[\\'2015\\'][labels==l], \"o\", markersize=3, color=col[l])\\n    \\n# show cluster centres\\nfor ic in range(4):\\n    xc, yc = cen[ic,:]\\n    plt.plot(xc, yc, marker=\"o\", markersize=10)\\n    \\nplt.xlabel(\"Total GDP\")\\nplt.ylabel(\"Total greenhouse gas emission\")\\nplt.show()\\n\\n'"
      ]
     },
     "execution_count": 101,
     "metadata": {},
     "output_type": "execute_result"
    }
   ],
   "source": [
    "\"\"\"\n",
    "df_fit = [norm_df(df_g[0])['2015'].dropna, norm_df(df_gr[0])['2015']].copy()\n",
    "kmeans.fit(df_fit)     \n",
    "\n",
    "# extract labels and cluster centres\n",
    "labels = kmeans.labels_\n",
    "cen = kmeans.cluster_centers_\n",
    "\n",
    "# plot using the labels to select colour\n",
    "plt.figure(figsize=(5.0,5.0))\n",
    "\n",
    "col = [\"blue\", \"red\", \"green\", \"magenta\"]\n",
    "for l in range(4):     # loop over the different labels\n",
    "    plt.plot(norm_df(df_g[0])['2015'][labels==l], \n",
    "             norm_df(df_gr[0])['2015'][labels==l], \"o\", markersize=3, color=col[l])\n",
    "    \n",
    "# show cluster centres\n",
    "for ic in range(4):\n",
    "    xc, yc = cen[ic,:]\n",
    "    plt.plot(xc, yc, marker=\"o\", markersize=10)\n",
    "    \n",
    "plt.xlabel(\"Total GDP\")\n",
    "plt.ylabel(\"Total greenhouse gas emission\")\n",
    "plt.show()\n",
    "\n",
    "\"\"\""
   ]
  },
  {
   "cell_type": "code",
   "execution_count": 150,
   "metadata": {
    "scrolled": false
   },
   "outputs": [
    {
     "data": {
      "text/plain": [
       "<AxesSubplot:xlabel='Population 2015', ylabel='Arable land 2015'>"
      ]
     },
     "execution_count": 150,
     "metadata": {},
     "output_type": "execute_result"
    },
    {
     "data": {
      "image/png": "[encoded data removed]",
      "text/plain": [
       "<Figure size 720x576 with 1 Axes>"
      ]
     },
     "metadata": {
      "needs_background": "light"
     },
     "output_type": "display_data"
    }
   ],
   "source": [
    "A.plot('Population 2015', 'Arable land 2015', kind='scatter', figsize=(10,8))"
   ]
  },
  {
   "cell_type": "code",
   "execution_count": 175,
   "metadata": {},
   "outputs": [
    {
     "data": {
      "text/html": [
       "<div>\n",
       "<style scoped>\n",
       "    .dataframe tbody tr th:only-of-type {\n",
       "        vertical-align: middle;\n",
       "    }\n",
       "\n",
       "    .dataframe tbody tr th {\n",
       "        vertical-align: top;\n",
       "    }\n",
       "\n",
       "    .dataframe thead th {\n",
       "        text-align: right;\n",
       "    }\n",
       "</style>\n",
       "<table border=\"1\" class=\"dataframe\">\n",
       "  <thead>\n",
       "    <tr style=\"text-align: right;\">\n",
       "      <th></th>\n",
       "      <th>Population 2015</th>\n",
       "      <th>Total GDP 2015 (USD)</th>\n",
       "      <th>Total CO2 2015 (KT)</th>\n",
       "      <th>Urban population 2015</th>\n",
       "      <th>Arable land 2015</th>\n",
       "      <th>Electricity consumption 2010</th>\n",
       "    </tr>\n",
       "    <tr>\n",
       "      <th>Country Name</th>\n",
       "      <th></th>\n",
       "      <th></th>\n",
       "      <th></th>\n",
       "      <th></th>\n",
       "      <th></th>\n",
       "      <th></th>\n",
       "    </tr>\n",
       "  </thead>\n",
       "  <tbody>\n",
       "    <tr>\n",
       "      <th>Angola</th>\n",
       "      <td>0.020201</td>\n",
       "      <td>0.023121</td>\n",
       "      <td>0.074560</td>\n",
       "      <td>0.023095</td>\n",
       "      <td>0.064808</td>\n",
       "      <td>0.003538</td>\n",
       "    </tr>\n",
       "    <tr>\n",
       "      <th>Albania</th>\n",
       "      <td>0.002080</td>\n",
       "      <td>0.021839</td>\n",
       "      <td>0.079037</td>\n",
       "      <td>0.002153</td>\n",
       "      <td>0.377016</td>\n",
       "      <td>0.037320</td>\n",
       "    </tr>\n",
       "    <tr>\n",
       "      <th>United Arab Emirates</th>\n",
       "      <td>0.006705</td>\n",
       "      <td>0.229677</td>\n",
       "      <td>0.709976</td>\n",
       "      <td>0.010356</td>\n",
       "      <td>0.009014</td>\n",
       "      <td>0.205880</td>\n",
       "    </tr>\n",
       "    <tr>\n",
       "      <th>Argentina</th>\n",
       "      <td>0.031251</td>\n",
       "      <td>0.080736</td>\n",
       "      <td>0.210800</td>\n",
       "      <td>0.051529</td>\n",
       "      <td>0.240034</td>\n",
       "      <td>0.055492</td>\n",
       "    </tr>\n",
       "    <tr>\n",
       "      <th>Armenia</th>\n",
       "      <td>0.002113</td>\n",
       "      <td>0.019770</td>\n",
       "      <td>0.072323</td>\n",
       "      <td>0.002403</td>\n",
       "      <td>0.263070</td>\n",
       "      <td>0.033098</td>\n",
       "    </tr>\n",
       "    <tr>\n",
       "      <th>...</th>\n",
       "      <td>...</td>\n",
       "      <td>...</td>\n",
       "      <td>...</td>\n",
       "      <td>...</td>\n",
       "      <td>...</td>\n",
       "      <td>...</td>\n",
       "    </tr>\n",
       "    <tr>\n",
       "      <th>Vietnam</th>\n",
       "      <td>0.067157</td>\n",
       "      <td>0.010656</td>\n",
       "      <td>0.082011</td>\n",
       "      <td>0.040908</td>\n",
       "      <td>0.379303</td>\n",
       "      <td>0.019409</td>\n",
       "    </tr>\n",
       "    <tr>\n",
       "      <th>Yemen, Rep.</th>\n",
       "      <td>0.019196</td>\n",
       "      <td>0.007762</td>\n",
       "      <td>0.014664</td>\n",
       "      <td>0.012026</td>\n",
       "      <td>0.034871</td>\n",
       "      <td>0.004480</td>\n",
       "    </tr>\n",
       "    <tr>\n",
       "      <th>South Africa</th>\n",
       "      <td>0.040132</td>\n",
       "      <td>0.035653</td>\n",
       "      <td>0.227746</td>\n",
       "      <td>0.046879</td>\n",
       "      <td>0.165318</td>\n",
       "      <td>0.087874</td>\n",
       "    </tr>\n",
       "    <tr>\n",
       "      <th>Zambia</th>\n",
       "      <td>0.011501</td>\n",
       "      <td>0.006184</td>\n",
       "      <td>0.053318</td>\n",
       "      <td>0.008683</td>\n",
       "      <td>0.084725</td>\n",
       "      <td>0.011009</td>\n",
       "    </tr>\n",
       "    <tr>\n",
       "      <th>Zimbabwe</th>\n",
       "      <td>0.010004</td>\n",
       "      <td>0.006823</td>\n",
       "      <td>0.048517</td>\n",
       "      <td>0.005835</td>\n",
       "      <td>0.172868</td>\n",
       "      <td>0.011322</td>\n",
       "    </tr>\n",
       "  </tbody>\n",
       "</table>\n",
       "<p>133 rows × 6 columns</p>\n",
       "</div>"
      ],
      "text/plain": [
       "                      Population 2015  Total GDP 2015 (USD)  \\\n",
       "Country Name                                                  \n",
       "Angola                       0.020201              0.023121   \n",
       "Albania                      0.002080              0.021839   \n",
       "United Arab Emirates         0.006705              0.229677   \n",
       "Argentina                    0.031251              0.080736   \n",
       "Armenia                      0.002113              0.019770   \n",
       "...                               ...                   ...   \n",
       "Vietnam                      0.067157              0.010656   \n",
       "Yemen, Rep.                  0.019196              0.007762   \n",
       "South Africa                 0.040132              0.035653   \n",
       "Zambia                       0.011501              0.006184   \n",
       "Zimbabwe                     0.010004              0.006823   \n",
       "\n",
       "                      Total CO2 2015 (KT)  Urban population 2015  \\\n",
       "Country Name                                                       \n",
       "Angola                           0.074560               0.023095   \n",
       "Albania                          0.079037               0.002153   \n",
       "United Arab Emirates             0.709976               0.010356   \n",
       "Argentina                        0.210800               0.051529   \n",
       "Armenia                          0.072323               0.002403   \n",
       "...                                   ...                    ...   \n",
       "Vietnam                          0.082011               0.040908   \n",
       "Yemen, Rep.                      0.014664               0.012026   \n",
       "South Africa                     0.227746               0.046879   \n",
       "Zambia                           0.053318               0.008683   \n",
       "Zimbabwe                         0.048517               0.005835   \n",
       "\n",
       "                      Arable land 2015  Electricity consumption 2010  \n",
       "Country Name                                                          \n",
       "Angola                        0.064808                      0.003538  \n",
       "Albania                       0.377016                      0.037320  \n",
       "United Arab Emirates          0.009014                      0.205880  \n",
       "Argentina                     0.240034                      0.055492  \n",
       "Armenia                       0.263070                      0.033098  \n",
       "...                                ...                           ...  \n",
       "Vietnam                       0.379303                      0.019409  \n",
       "Yemen, Rep.                   0.034871                      0.004480  \n",
       "South Africa                  0.165318                      0.087874  \n",
       "Zambia                        0.084725                      0.011009  \n",
       "Zimbabwe                      0.172868                      0.011322  \n",
       "\n",
       "[133 rows x 6 columns]"
      ]
     },
     "execution_count": 175,
     "metadata": {},
     "output_type": "execute_result"
    }
   ],
   "source": [
    "A"
   ]
  },
  {
   "cell_type": "code",
   "execution_count": 177,
   "metadata": {},
   "outputs": [
    {
     "data": {
      "text/plain": [
       "<AxesSubplot:xlabel='Electricity consumption 2010', ylabel='Population 2015'>"
      ]
     },
     "execution_count": 177,
     "metadata": {},
     "output_type": "execute_result"
    },
    {
     "data": {
      "image/png": "[encoded data removed]",
      "text/plain": [
       "<Figure size 720x576 with 1 Axes>"
      ]
     },
     "metadata": {
      "needs_background": "light"
     },
     "output_type": "display_data"
    }
   ],
   "source": [
    "A.plot('Electricity consumption 2010', 'Population 2015', kind='scatter', figsize=(10,8))"
   ]
  }
 ],
 "metadata": {
  "kernelspec": {
   "display_name": "Python 3 (ipykernel)",
   "language": "python",
   "name": "python3"
  },
  "language_info": {
   "codemirror_mode": {
    "name": "ipython",
    "version": 3
   },
   "file_extension": ".py",
   "mimetype": "text/x-python",
   "name": "python",
   "nbconvert_exporter": "python",
   "pygments_lexer": "ipython3",
   "version": "3.9.7"
  }
 },
 "nbformat": 4,
 "nbformat_minor": 4
}
